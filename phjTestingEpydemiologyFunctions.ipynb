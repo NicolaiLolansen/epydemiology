{
 "cells": [
  {
   "cell_type": "markdown",
   "metadata": {},
   "source": [
    "# Testing functions in epydemiology"
   ]
  },
  {
   "cell_type": "markdown",
   "metadata": {},
   "source": [
    "## Import epydemiology\n",
    "(All other packages will be imported or reported missing.)"
   ]
  },
  {
   "cell_type": "code",
   "execution_count": 1,
   "metadata": {},
   "outputs": [],
   "source": [
    "%matplotlib inline"
   ]
  },
  {
   "cell_type": "code",
   "execution_count": 2,
   "metadata": {},
   "outputs": [
    {
     "name": "stdout",
     "output_type": "stream",
     "text": [
      "Error: pyxdameraulevenshtein package not installed. Some features may not be available.\n"
     ]
    }
   ],
   "source": [
    "import numpy as np\n",
    "import pandas as pd\n",
    "\n",
    "import epydemiology as epy"
   ]
  },
  {
   "cell_type": "markdown",
   "metadata": {},
   "source": [
    "## Some background details"
   ]
  },
  {
   "cell_type": "code",
   "execution_count": null,
   "metadata": {},
   "outputs": [],
   "source": [
    "help(epy)"
   ]
  },
  {
   "cell_type": "code",
   "execution_count": null,
   "metadata": {},
   "outputs": [],
   "source": [
    "print(dir(epy))"
   ]
  },
  {
   "cell_type": "markdown",
   "metadata": {},
   "source": [
    "---"
   ]
  },
  {
   "cell_type": "markdown",
   "metadata": {},
   "source": [
    "## FILE: phjGetData"
   ]
  },
  {
   "cell_type": "markdown",
   "metadata": {},
   "source": [
    "### FUNCTION: phjReadDataFromExcelNamedCellRange()"
   ]
  },
  {
   "cell_type": "code",
   "execution_count": null,
   "metadata": {},
   "outputs": [],
   "source": [
    "phjPath = \"/Users/philipjones/Documents/git_repositories/epydemiology\"\n",
    "phjFileName = \"Test data.xlsx\"\n",
    "\n",
    "import pandas as pd\n",
    "import openpyxl\n",
    "import epydemiology as epy\n",
    "\n",
    "print(\"RANGE: some_test_data\")\n",
    "print(\"=====================\")\n",
    "myDF = epy.phjReadDataFromExcelNamedCellRange(phjExcelPathAndFileName = '/'.join([phjPath,phjFileName]),\n",
    "                                              phjExcelCellRangeName = 'some_test_data',\n",
    "                                              phjDatetimeFormat = \"%d%b%Y\",\n",
    "                                              phjMissingValue = \"missing\",\n",
    "                                              phjHeaderRow = True,\n",
    "                                              phjPrintResults = True)\n",
    "\n",
    "print(myDF.dtypes)\n",
    "\n",
    "print('\\n')\n",
    "\n",
    "print(\"RANGE: some_more_test_data\")\n",
    "print(\"==========================\")\n",
    "myDF2 = epy.phjReadDataFromExcelNamedCellRange(phjExcelPathAndFileName = '/'.join([phjPath,phjFileName]),\n",
    "                                               phjExcelCellRangeName = 'some_more_test_data',\n",
    "                                               phjDatetimeFormat = \"%Y-%m-%d\",\n",
    "                                               phjMissingValue = \"missing\",\n",
    "                                               phjHeaderRow = True,\n",
    "                                               phjPrintResults = True)\n",
    "\n",
    "print(myDF.dtypes)"
   ]
  },
  {
   "cell_type": "markdown",
   "metadata": {},
   "source": [
    "---"
   ]
  },
  {
   "cell_type": "markdown",
   "metadata": {},
   "source": [
    "## FILE: phjGetDBData"
   ]
  },
  {
   "cell_type": "markdown",
   "metadata": {},
   "source": [
    "### FUNCTION: phjConnectToDatabase()"
   ]
  },
  {
   "cell_type": "code",
   "execution_count": null,
   "metadata": {
    "scrolled": true
   },
   "outputs": [],
   "source": [
    "import pymysql\n",
    "import pymssql\n",
    "import epydemiology as epy\n",
    "\n",
    "tempConn = epy.phjConnectToDatabase('mysql')\n",
    "\n",
    "print(tempConn)"
   ]
  },
  {
   "cell_type": "markdown",
   "metadata": {},
   "source": [
    "### FUNCTION: phjGetDataFromDatabase()"
   ]
  },
  {
   "cell_type": "code",
   "execution_count": null,
   "metadata": {},
   "outputs": [],
   "source": [
    "myDF = epy.phjGetDataFromDatabase(phjQueryPathAndFile = '/path_to_directory/theSQLQueryFile.mysql',\n",
    "                                  phjPrintResults = True)\n",
    "\n",
    "myDF = epy.phjGetDataFromDatabase(phjQueryStr = 'SELECT * FROM Table1',\n",
    "                                  phjPrintResults = True)"
   ]
  },
  {
   "cell_type": "markdown",
   "metadata": {},
   "source": [
    "---"
   ]
  },
  {
   "cell_type": "markdown",
   "metadata": {},
   "source": [
    "## FILE: phjMiscFuncs"
   ]
  },
  {
   "cell_type": "markdown",
   "metadata": {},
   "source": [
    "### FUNCTION: phjGetStrFromArgOrFile()"
   ]
  },
  {
   "cell_type": "code",
   "execution_count": null,
   "metadata": {},
   "outputs": [],
   "source": []
  },
  {
   "cell_type": "markdown",
   "metadata": {},
   "source": [
    "### FUNCTION: phjReadTextFromFile()"
   ]
  },
  {
   "cell_type": "code",
   "execution_count": null,
   "metadata": {},
   "outputs": [],
   "source": []
  },
  {
   "cell_type": "markdown",
   "metadata": {},
   "source": [
    "### FUNCTION: phjCreateNameGroupRegex()"
   ]
  },
  {
   "cell_type": "code",
   "execution_count": null,
   "metadata": {},
   "outputs": [],
   "source": []
  },
  {
   "cell_type": "markdown",
   "metadata": {},
   "source": [
    "### FUNCTION: phjFindRegexNamedGroup()"
   ]
  },
  {
   "cell_type": "code",
   "execution_count": null,
   "metadata": {},
   "outputs": [],
   "source": []
  },
  {
   "cell_type": "markdown",
   "metadata": {},
   "source": [
    "### FUNCTION: phjMaxLevelOfTaxonomicDetail()"
   ]
  },
  {
   "cell_type": "code",
   "execution_count": null,
   "metadata": {},
   "outputs": [],
   "source": []
  },
  {
   "cell_type": "markdown",
   "metadata": {},
   "source": [
    "### FUNCTION: phjReverseMap()"
   ]
  },
  {
   "cell_type": "markdown",
   "metadata": {},
   "source": [
    "#### Example 1 – exact string matches"
   ]
  },
  {
   "cell_type": "code",
   "execution_count": null,
   "metadata": {},
   "outputs": [],
   "source": [
    "myDF = pd.DataFrame({'id':[1,2,3,4,5,6,7],\n",
    "                     'var':['dogg','canine','cannine','catt','felin','cot','feline'],\n",
    "                     'dog':[1,2,3,4,5,6,7]})\n",
    "\n",
    "print(myDF)\n",
    "\n",
    "d = {'dog':['dogg','canine','cannine'],\n",
    "     'cat':['catt','felin','feline']}"
   ]
  },
  {
   "cell_type": "code",
   "execution_count": null,
   "metadata": {},
   "outputs": [],
   "source": [
    "myDF = epy.phjReverseMap(phjDF = myDF,\n",
    "                         phjMappingDict = d,\n",
    "                         phjCategoryVarName = 'var',\n",
    "                         phjMappedVarName = 'spp',\n",
    "                         phjUnmapped = 'missing',\n",
    "                         phjTreatAsRegex = False,\n",
    "                         phjDropPreExisting = True,\n",
    "                         phjPrintResults = True)"
   ]
  },
  {
   "cell_type": "markdown",
   "metadata": {},
   "source": [
    "#### Example 2 – regex"
   ]
  },
  {
   "cell_type": "code",
   "execution_count": null,
   "metadata": {},
   "outputs": [],
   "source": [
    "myDF = pd.DataFrame({'id':[1,2,3,4,5,6,7],\n",
    "                     'var':['dogg','canine','cannine','catt','felin','cot','feline'],\n",
    "                     'dog':[1,2,3,4,5,6,7]})\n",
    "\n",
    "print(myDF)\n",
    "print('\\n')\n",
    "       \n",
    "d = {'dog':['(?:dog+)','(?:can*ine)'],\n",
    "     'cat':['(?:cat+)','(?:fel+ine?)']}\n",
    "\n",
    "print(d)"
   ]
  },
  {
   "cell_type": "code",
   "execution_count": null,
   "metadata": {
    "scrolled": false
   },
   "outputs": [],
   "source": [
    "myDF = epy.phjReverseMap(phjDF = myDF,\n",
    "                         phjMappingDict = d,\n",
    "                         phjCategoryVarName = 'var',\n",
    "                         phjMappedVarName = 'new',\n",
    "                         phjUnmapped = 'missing',\n",
    "                         phjTreatAsRegex = True,\n",
    "                         phjDropPreExisting = True,\n",
    "                         phjPrintResults = True)"
   ]
  },
  {
   "cell_type": "markdown",
   "metadata": {},
   "source": [
    "### FUNCTION: phjRetrieveUniqueFromMultiDataFrames()"
   ]
  },
  {
   "cell_type": "markdown",
   "metadata": {},
   "source": [
    "This function takes one or more Pandas dataframes and returns a dataframe containing the unique values from the listed variables.\n",
    "```python\n",
    "phjOutDF = epy.phjRetrieveUniqueFromMultiDataFrames(phjDFList,\n",
    "                                                    phjVarNameList,\n",
    "                                                    phjSort = True,\n",
    "                                                    phjPrintResults = False)\n",
    "                                                    \n",
    "phjDFList – list of dataframes\n",
    "phjVarNameList – list of variable names. Single column can be entered as a string.\n",
    "phjSort (default = True) – sort returned dataframe\n",
    "phjPrintResults (default = False) – print results\n",
    "```"
   ]
  },
  {
   "cell_type": "markdown",
   "metadata": {},
   "source": [
    "#### Single dataframe"
   ]
  },
  {
   "cell_type": "code",
   "execution_count": 4,
   "metadata": {},
   "outputs": [
    {
     "name": "stdout",
     "output_type": "stream",
     "text": [
      "Original\n",
      "--------\n",
      "    a  b\n",
      "0   1  a\n",
      "1   2  b\n",
      "2   3  c\n",
      "3   4  d\n",
      "4   5  e\n",
      "5   6  f\n",
      "6   1  a\n",
      "7   2  b\n",
      "8   3  w\n",
      "9   4  d\n",
      "10  5  e\n",
      "11  6  f\n",
      "\n",
      "\n",
      "An AssertionError occurred in phjRetrieveUniqueFromMultiDataFrames() function. (The elements in 'phjVarNameList' ('['c']') do not all exist in list of columns.)\n",
      "\n",
      "Out1\n",
      "----\n",
      "None\n",
      "\n",
      "\n",
      "An AssertionError occurred in phjRetrieveUniqueFromMultiDataFrames() function. (The elements in 'phjVarNameList' ('['a', 'b', 'c']') do not all exist in list of columns.)\n",
      "\n",
      "Out2\n",
      "----\n",
      "None\n"
     ]
    }
   ],
   "source": [
    "phjTempDF = pd.DataFrame({'a':[1,2,3,4,5,6,1,2,3,4,5,6],\n",
    "                          'b':['a','b','c','d','e','f','a','b','w','d','e','f']})\n",
    "print('Original')\n",
    "print('--------')\n",
    "print(phjTempDF)\n",
    "print('\\n')\n",
    " \n",
    "phjOutDF = epy.phjRetrieveUniqueFromMultiDataFrames(phjDFList = [phjTempDF],\n",
    "                                                    phjVarNameList = 'c',\n",
    "                                                    phjSort = True,\n",
    "                                                    phjPrintResults = False)\n",
    " \n",
    "print('Out1')\n",
    "print('----')\n",
    "print(phjOutDF)\n",
    "print('\\n')\n",
    " \n",
    "phjOutDF = epy.phjRetrieveUniqueFromMultiDataFrames(phjDFList = phjTempDF,\n",
    "                                                    phjVarNameList = ['a','b','c'],\n",
    "                                                    phjSort = True,\n",
    "                                                    phjPrintResults = False)\n",
    " \n",
    "print('Out2')\n",
    "print('----')\n",
    "print(phjOutDF)"
   ]
  },
  {
   "cell_type": "markdown",
   "metadata": {},
   "source": [
    "#### Multiple dataframes of data"
   ]
  },
  {
   "cell_type": "code",
   "execution_count": null,
   "metadata": {},
   "outputs": [],
   "source": [
    "df1 = pd.DataFrame({'m':[1,2,3,4,5,6],\n",
    "                    'n':['a','b','c','d','e','f']})\n",
    " \n",
    "df2 = pd.DataFrame({'m':[2,5,7,8],\n",
    "                    'n':['b','e','g','h']})\n",
    "\n",
    "print('First dataframe')\n",
    "print('---------------')\n",
    "print(df1)\n",
    "print('\\n')\n",
    "print('Second dataframe')\n",
    "print('----------------')\n",
    "print(df2)\n",
    "print('\\n')\n",
    " \n",
    "phjOutDF = epy.phjRetrieveUniqueFromMultiDataFrames(phjDFList = [df1,df2],\n",
    "                                                    phjVarNameList = ['m','n'],\n",
    "                                                    phjSort = True,\n",
    "                                                    phjPrintResults = False)\n",
    "\n",
    "print('Dataframe of unique values')\n",
    "print('--------------------------')\n",
    "print(phjOutDF)"
   ]
  },
  {
   "cell_type": "markdown",
   "metadata": {},
   "source": [
    "### FUNCTION: phjUpdateLUT()"
   ]
  },
  {
   "cell_type": "markdown",
   "metadata": {},
   "source": [
    "This function takes two dataframes, one considered to contain existing values in a database, for example, and a second dataframe containing a new set of values. The function produces "
   ]
  },
  {
   "cell_type": "markdown",
   "metadata": {},
   "source": [
    "#### Testing phjUpdateLUT() function with dataframe with single column"
   ]
  },
  {
   "cell_type": "code",
   "execution_count": null,
   "metadata": {},
   "outputs": [],
   "source": [
    "old_df = pd.DataFrame({'id':[1,2,3,4,5,6],\n",
    "                       'm':['a','b','c','d','e','f']})\n",
    " \n",
    "new_df = pd.DataFrame({'id':[1,2,3,4],\n",
    "                       'm':['b','e','g','h']})\n",
    " \n",
    "update_df = epy.phjUpdateLUT(phjExistDF = old_df,\n",
    "                             phjNewDF = new_df,\n",
    "                             phjIDName = 'id',\n",
    "                             phjVarName = ['m'],\n",
    "                             phjMissStr = 'missing',\n",
    "                             phjMissCode = 999,\n",
    "                             phjPrintResults = True)\n",
    " \n",
    "print('Updated dataframe')\n",
    "print('-----------------')\n",
    "print(update_df)"
   ]
  },
  {
   "cell_type": "markdown",
   "metadata": {},
   "source": [
    "#### Testing phjUpdateLUT() function with dataframe with multiple columns"
   ]
  },
  {
   "cell_type": "code",
   "execution_count": null,
   "metadata": {},
   "outputs": [],
   "source": [
    "old_df = pd.DataFrame({'id':[1,2,3,4,5,6],\n",
    "                       'm':['a','b','c','d','e','f'],\n",
    "                       'n':['A','B','C','D','E','F']})\n",
    " \n",
    "new_df = pd.DataFrame({'id':[1,2,3,4],\n",
    "                       'm':['b','e','g','h'],\n",
    "                       'n':['BB','E','GG','H']})\n",
    " \n",
    "update_df = epy.phjUpdateLUT(phjExistDF = old_df,\n",
    "                             phjNewDF = new_df,\n",
    "                             phjIDName = 'id',\n",
    "                             phjVarName = ['m','n'],\n",
    "                             phjMissStr = 'missing',\n",
    "                             phjMissCode = 999,\n",
    "                             phjPrintResults = True)\n",
    " \n",
    "print('Updated dataframe')\n",
    "print('-----------------')\n",
    "print(update_df)"
   ]
  },
  {
   "cell_type": "markdown",
   "metadata": {},
   "source": [
    "---"
   ]
  },
  {
   "cell_type": "markdown",
   "metadata": {},
   "source": [
    "## FILE: phjMatrices"
   ]
  },
  {
   "cell_type": "markdown",
   "metadata": {},
   "source": [
    "### FUNCTION: phjBinaryVarsToSquareMatrix()"
   ]
  },
  {
   "cell_type": "markdown",
   "metadata": {},
   "source": [
    "#### Output a numpy array"
   ]
  },
  {
   "cell_type": "code",
   "execution_count": null,
   "metadata": {},
   "outputs": [],
   "source": [
    "rawDataDF = pd.DataFrame({'a':[0,1,1,1,0,0,1,0],\n",
    "                          'b':[1,1,0,0,1,0,0,1],\n",
    "                          'c':[0,0,1,0,1,1,1,1],\n",
    "                          'd':[1,0,0,0,1,0,0,0],\n",
    "                          'e':[1,0,0,0,0,1,0,0]})\n",
    "\n",
    "columns = ['a','b','c','d','e']\n",
    "\n",
    "print('Raw data')\n",
    "print(rawDataDF)\n",
    "print('\\n')\n",
    "\n",
    "phjMatrix = epy.phjBinaryVarsToSquareMatrix(phjDataDF = rawDataDF,\n",
    "                                        phjColumnNamesList = columns,\n",
    "                                        phjOutputFormat = 'arr',\n",
    "                                        phjPrintResults = False)\n",
    "                                        \n",
    "print('Returned square matrix')\n",
    "print(phjMatrix)"
   ]
  },
  {
   "cell_type": "markdown",
   "metadata": {},
   "source": [
    "#### Output a Pandas dataframe"
   ]
  },
  {
   "cell_type": "code",
   "execution_count": null,
   "metadata": {},
   "outputs": [],
   "source": [
    "rawDataDF = pd.DataFrame({'a':[0,1,1,1,0,0,1,0],\n",
    "                          'b':[1,1,0,0,1,0,0,1],\n",
    "                          'c':[0,0,1,0,1,1,1,1],\n",
    "                          'd':[1,0,0,0,1,0,0,0],\n",
    "                          'e':[1,0,0,0,0,1,0,0]})\n",
    "\n",
    "columns = ['a','b','c','d','e']\n",
    "\n",
    "print('Raw data')\n",
    "print(rawDataDF)\n",
    "print('\\n')\n",
    "\n",
    "phjMatrix = epy.phjBinaryVarsToSquareMatrix(phjDataDF = rawDataDF,\n",
    "                                            phjColumnNamesList = columns,\n",
    "                                            phjOutputFormat = 'df',\n",
    "                                            phjPrintResults = False)\n",
    "                                        \n",
    "print('Returned square matrix')\n",
    "print(phjMatrix)"
   ]
  },
  {
   "cell_type": "markdown",
   "metadata": {},
   "source": [
    "### FUNCTION: phjLongToWideBinary()"
   ]
  },
  {
   "cell_type": "code",
   "execution_count": null,
   "metadata": {},
   "outputs": [],
   "source": []
  },
  {
   "cell_type": "markdown",
   "metadata": {},
   "source": [
    "---"
   ]
  },
  {
   "cell_type": "markdown",
   "metadata": {},
   "source": [
    "## FILE: phjCalculateProportions"
   ]
  },
  {
   "cell_type": "markdown",
   "metadata": {},
   "source": [
    "### FUNCTION: phjCalculateBinomialProportions()"
   ]
  },
  {
   "cell_type": "code",
   "execution_count": null,
   "metadata": {},
   "outputs": [],
   "source": [
    "# Example calculating binomial proportions (using phjCaculateBinomialProportions() function)\n",
    "# ========================================\n",
    "\n",
    "# Create example dataset\n",
    "phjTempDF = pd.DataFrame({'group':['g1','g1','g2','g1','g2','g2','g1','g1','g2','g1'],\n",
    "                          'A':['yes','yes','no','no','no','no','no','yes',np.nan,'yes'],\n",
    "                          'B':['no',np.nan,np.nan,'yes','yes','yes','yes','no','no','no'],\n",
    "                          'C':['yes','yes','yes',np.nan,'no','yes','yes','yes','no','no']})\n",
    "\n",
    "print(phjTempDF)\n",
    "print('\\n')\n",
    "\n",
    "phjPropDF = epy.phjCalculateBinomialProportions(phjTempDF = phjTempDF,\n",
    "                                                phjColumnsList = ['A','B','C'],\n",
    "                                                phjSuccess = 'yes',\n",
    "                                                phjGroupVarName = 'group',\n",
    "                                                phjMissingValue = 'missing',\n",
    "                                                phjBinomialConfIntMethod = 'wilson',\n",
    "                                                phjAlpha = 0.05,\n",
    "                                                phjPlotProportions = True,\n",
    "                                                phjGroupsToPlotList = 'all',\n",
    "                                                phjSortProportions = True,\n",
    "                                                phjGraphTitle = None,\n",
    "                                                phjPrintResults = False)\n",
    "\n",
    "print(phjPropDF)"
   ]
  },
  {
   "cell_type": "markdown",
   "metadata": {},
   "source": [
    "### FUNCTION: phjCalculateBinomialConfInts()"
   ]
  },
  {
   "cell_type": "code",
   "execution_count": null,
   "metadata": {},
   "outputs": [],
   "source": []
  },
  {
   "cell_type": "markdown",
   "metadata": {},
   "source": [
    "### FUNCTION: phjCalculateMultinomialProportions()"
   ]
  },
  {
   "cell_type": "code",
   "execution_count": null,
   "metadata": {},
   "outputs": [],
   "source": [
    "# Example of calculating multinomial proportions (using phjCalculateMultinomialProportions() function)\n",
    "# ==============================================\n",
    "\n",
    "# Create example dataset\n",
    "phjTempDF = pd.DataFrame({'group':['case','case','case','control','control','case','case','case','control','control','control','control','case','case','case','control','control','control','control','case','case','case','case','case',np.nan,np.nan],\n",
    "                          'category':[np.nan,'spaniel','missing','terrier','collie','labrador','labrador','collie','spaniel','spaniel','labrador','collie','terrier','terrier','terrier','collie','labrador','labrador','labrador','spaniel','spaniel','collie','collie','collie','terrier','spaniel'],\n",
    "                          'catint':[1,2,3,2,3,2,1,2,1,2,3,2,3,2,3,1,2,3,2,3,2,3,2,3,1,2]})\n",
    "\n",
    "print(phjTempDF)\n",
    "print('\\n')\n",
    "\n",
    "phjRelFreqDF = epy.phjCalculateMultinomialProportions(phjTempDF = phjTempDF,\n",
    "                                                      phjCategoryVarName = 'category',\n",
    "                                                      phjGroupVarName = 'group',\n",
    "                                                      phjMissingValue = 'missing',\n",
    "                                                      phjMultinomialConfIntMethod = 'goodman',\n",
    "                                                      phjAlpha = 0.05,\n",
    "                                                      phjPlotRelFreq = True,\n",
    "                                                      phjCategoriesToPlotList = 'all',\n",
    "                                                      phjGroupsToPlotList = 'all',   # Currently not implemented\n",
    "                                                      phjGraphTitle = 'Relative frequencies (Goodman CI)',\n",
    "                                                      phjPrintResults = True)\n",
    "\n",
    "print(phjRelFreqDF)"
   ]
  },
  {
   "cell_type": "code",
   "execution_count": null,
   "metadata": {},
   "outputs": [],
   "source": []
  },
  {
   "cell_type": "markdown",
   "metadata": {},
   "source": [
    "### FUNCTION: phjSummaryTableToBinaryOutcomes()"
   ]
  },
  {
   "cell_type": "code",
   "execution_count": null,
   "metadata": {},
   "outputs": [],
   "source": []
  },
  {
   "cell_type": "markdown",
   "metadata": {},
   "source": [
    "### FUNCTION: phjAnnualDiseaseTrend()"
   ]
  },
  {
   "cell_type": "code",
   "execution_count": null,
   "metadata": {},
   "outputs": [],
   "source": [
    "phjDiseaseDF = pd.DataFrame({'year':[2008,2009,2010,2011,2012,2013,2014,2015,2016,2017,2018],\n",
    "                             'positive':[18,34,24,26,30,27,36,17,18,15,4],\n",
    "                             'negative':[1695,1733,1929,1517,1449,1329,1130,928,753,496,325]})\n",
    "\n",
    "phjDiseaseDF = epy.phjAnnualDiseaseTrend(phjDF = phjDiseaseDF.loc[phjDiseaseDF['year'] < 2018,:],\n",
    "                                         phjYearVarName = 'year',\n",
    "                                         phjPositivesVarName = 'positive',\n",
    "                                         phjNegativesVarName = 'negative',\n",
    "                                         phjTotalVarName = None,\n",
    "                                         phjConfIntMethod = 'normal',\n",
    "                                         phjAlpha = 0.05,\n",
    "                                         phjPlotProportions = True,\n",
    "                                         phjPlotPrediction = True,\n",
    "                                         phjGraphTitleStr = None,\n",
    "                                         phjPrintResults = False)"
   ]
  },
  {
   "cell_type": "markdown",
   "metadata": {},
   "source": [
    "---"
   ]
  },
  {
   "cell_type": "markdown",
   "metadata": {},
   "source": [
    "## FILE: phjCleanUKPostcodes.py"
   ]
  },
  {
   "cell_type": "markdown",
   "metadata": {},
   "source": [
    "### FUNCTION: phjCleanUKPostcodeVariable()"
   ]
  },
  {
   "cell_type": "markdown",
   "metadata": {},
   "source": [
    "#### Clean postcodes based on format alone"
   ]
  },
  {
   "cell_type": "code",
   "execution_count": null,
   "metadata": {
    "scrolled": false
   },
   "outputs": [],
   "source": [
    "import re\n",
    "\n",
    "# Create test dataframe\n",
    "myTestPostcodeDF = pd.DataFrame({'postcode': ['NP45DG',\n",
    "                                              'CH647TE',\n",
    "                                              'CH5 4HE',\n",
    "                                              'GIR 0AA',\n",
    "                                              'NOT NOWN',\n",
    "                                              'GIR0AB',\n",
    "                                              'NOR12A',\n",
    "                                              'no idea',\n",
    "                                              'W1A 1AA',\n",
    "                                              'missin',\n",
    "                                              'NP4  OGH',\n",
    "                                              'P012 OLL',\n",
    "                                              'p01s',\n",
    "                                              'ABCD',\n",
    "                                              '',\n",
    "                                              'ab123cd',\n",
    "                                              'un-known',\n",
    "                                              'B1    INJ',\n",
    "                                              'AB123CD',\n",
    "                                              'No idea what the postcode is',\n",
    "                                              '    ???NP4-5DG_*#   '],\n",
    "                                 'pcdClean': np.nan,\n",
    "                                 'pcd7': np.nan,\n",
    "                                 'postcodeOutward': np.nan,\n",
    "                                 'someOtherCol': np.nan})\n",
    "\n",
    "# Run function to extract postcode data\n",
    "print('\\nStart dataframe\\n===============\\n')\n",
    "print(myTestPostcodeDF)\n",
    "print('\\n')\n",
    "\n",
    "myTestPostcodeDF = epy.phjCleanUKPostcodeVariable(phjDF = myTestPostcodeDF,\n",
    "                                                  phjRealPostcodeSer = None,\n",
    "                                                  phjOrigPostcodeVarName = 'postcode',\n",
    "                                                  phjNewPostcodeVarName = 'pcdClean',\n",
    "                                                  phjNewPostcodeStrLenVarName = 'pcdCleanStrLen',\n",
    "                                                  phjPostcodeCheckVarName = 'pcdFormatCheck',\n",
    "                                                  phjMissingValueCode = 'missing',\n",
    "                                                  phjMinDamerauLevenshteinDistanceVarName = 'minDamLevDist',\n",
    "                                                  phjBestAlternativesVarName = 'bestAlternatives',\n",
    "                                                  phjPostcode7VarName = 'pcd7',\n",
    "                                                  phjPostcodeAreaVarName = 'pcdArea',\n",
    "                                                  phjSalvageOutwardPostcodeComponent = True,\n",
    "                                                  phjCheckByOption = 'format',\n",
    "                                                  phjDropExisting = True,\n",
    "                                                  phjPrintResults = True)\n",
    "\n",
    "print('\\nReturned dataframe\\n==================\\n')\n",
    "print(myTestPostcodeDF)"
   ]
  },
  {
   "cell_type": "markdown",
   "metadata": {},
   "source": [
    "#### Clean postcodes based on real postcode and identify closest matches"
   ]
  },
  {
   "cell_type": "code",
   "execution_count": null,
   "metadata": {
    "scrolled": false
   },
   "outputs": [],
   "source": [
    "import re\n",
    "\n",
    "# N.B. When calculating best alternative postcodes, only postcodes that are within\n",
    "# 1 DL distance are considered.\n",
    "\n",
    "# Create a Pandas series that could contain all the postcodes in the UK\n",
    "realPostcodesSer = pd.Series(['NP4 5DG','CH647TE','CH5 4HE','W1A 1AA','NP4 0GH','PO120LL','AB123CF','AB124DF','AB123CV'])\n",
    "\n",
    "# Create test dataframe\n",
    "myTestPostcodeDF = pd.DataFrame({'postcode': ['NP45DG',\n",
    "                                              'CH647TE',\n",
    "                                              'CH5 4HE',\n",
    "                                              'GIR 0AA',\n",
    "                                              'NOT NOWN',\n",
    "                                              'GIR0AB',\n",
    "                                              'NOR12A',\n",
    "                                              'no idea',\n",
    "                                              'W1A 1AA',\n",
    "                                              'missin',\n",
    "                                              'NP4  OGH',\n",
    "                                              'P012 OLL',\n",
    "                                              'p01s',\n",
    "                                              'ABCD',\n",
    "                                              '',\n",
    "                                              'ab123cd',\n",
    "                                              'un-known',\n",
    "                                              'B1    INJ',\n",
    "                                              'AB123CD',\n",
    "                                              'No idea what the postcode is',\n",
    "                                              '    ???NP4-5DG_*#   '],\n",
    "                                 'pcdClean': np.nan,\n",
    "                                 'pcd7': np.nan,\n",
    "                                 'postcodeOutward': np.nan,\n",
    "                                 'someOtherCol': np.nan})\n",
    "\n",
    "# Run function to extract postcode data\n",
    "print('\\nStart dataframe\\n===============\\n')\n",
    "print(myTestPostcodeDF)\n",
    "print('\\n')\n",
    "\n",
    "myTestPostcodeDF = epy.phjCleanUKPostcodeVariable(phjDF = myTestPostcodeDF,\n",
    "                                                  phjRealPostcodeSer = realPostcodesSer,\n",
    "                                                  phjOrigPostcodeVarName = 'postcode',\n",
    "                                                  phjNewPostcodeVarName = 'pcdClean',\n",
    "                                                  phjNewPostcodeStrLenVarName = 'pcdCleanStrLen',\n",
    "                                                  phjPostcodeCheckVarName = 'pcdFormatCheck',\n",
    "                                                  phjMissingValueCode = 'missing',\n",
    "                                                  phjMinDamerauLevenshteinDistanceVarName = 'minDamLevDist',\n",
    "                                                  phjBestAlternativesVarName = 'bestAlternatives',\n",
    "                                                  phjPostcode7VarName = 'pcd7',\n",
    "                                                  phjPostcodeAreaVarName = 'pcdArea',\n",
    "                                                  phjSalvageOutwardPostcodeComponent = True,\n",
    "                                                  phjCheckByOption = 'dictionary',\n",
    "                                                  phjDropExisting = True,\n",
    "                                                  phjPrintResults = True)\n",
    "\n",
    "print('\\nReturned dataframe\\n==================\\n')\n",
    "print(myTestPostcodeDF)"
   ]
  },
  {
   "cell_type": "markdown",
   "metadata": {},
   "source": [
    "### FUNCTION: phjPostcodeFormat7()"
   ]
  },
  {
   "cell_type": "code",
   "execution_count": null,
   "metadata": {},
   "outputs": [],
   "source": []
  },
  {
   "cell_type": "markdown",
   "metadata": {},
   "source": [
    "---"
   ]
  },
  {
   "cell_type": "markdown",
   "metadata": {},
   "source": [
    "## FILE: phjCleanData"
   ]
  },
  {
   "cell_type": "markdown",
   "metadata": {},
   "source": [
    "### FUNCTION: phjParseDateVar()"
   ]
  },
  {
   "cell_type": "code",
   "execution_count": null,
   "metadata": {},
   "outputs": [],
   "source": []
  },
  {
   "cell_type": "markdown",
   "metadata": {},
   "source": [
    "---"
   ]
  },
  {
   "cell_type": "markdown",
   "metadata": {},
   "source": [
    "## FILE: phjExploreData"
   ]
  },
  {
   "cell_type": "markdown",
   "metadata": {},
   "source": [
    "### FUNCTION: phjViewLogOdds()\n",
    "Example of viewing log odds plotted against mid-point of categories."
   ]
  },
  {
   "cell_type": "markdown",
   "metadata": {},
   "source": [
    "#### Categorise using Jenks breaks and using 'yes' and 'no' as binary outcome"
   ]
  },
  {
   "cell_type": "code",
   "execution_count": null,
   "metadata": {},
   "outputs": [],
   "source": [
    "# Define example dataset\n",
    "phjTempDF = pd.DataFrame({'binDepVar':['yes']*50000 + ['no']*50000,\n",
    "                          'riskFactorCont':np.random.uniform(0,1,100000)})\n",
    "\n",
    "with pd.option_context('display.max_rows', 10, 'display.max_columns', 5):\n",
    "    print(phjTempDF)\n",
    "\n",
    "    \n",
    "# View log odds\n",
    "phjTempDF = epy.phjViewLogOdds(phjTempDF = phjTempDF,\n",
    "                               phjBinaryDepVarName = 'binDepVar',\n",
    "                               phjContIndepVarName = 'riskFactorCont',\n",
    "                               phjCaseValue = 'yes',\n",
    "                               phjMissingValue = 'missing',\n",
    "                               phjNumberOfCategoriesInt = 5,\n",
    "                               phjNewCategoryVarName = 'categoricalVar',\n",
    "                               phjCategorisationMethod = 'jenks',\n",
    "                               phjGroupNameVar = None,\n",
    "                               phjPrintResults = False)\n",
    "\n",
    "with pd.option_context('display.max_rows', 10, 'display.max_columns', 10):\n",
    "    print('Log odds for categorised variable')\n",
    "    print(phjTempDF)"
   ]
  },
  {
   "cell_type": "markdown",
   "metadata": {},
   "source": [
    "#### Categorise using quantile breaks and using 1 and 0 as binary outcome"
   ]
  },
  {
   "cell_type": "code",
   "execution_count": null,
   "metadata": {},
   "outputs": [],
   "source": [
    "# Define example dataset\n",
    "phjTempDF = pd.DataFrame({'binDepVar':[1]*50000 + [0]*50000,\n",
    "                          'riskFactorCont':np.random.uniform(0,1,100000)})\n",
    "\n",
    "with pd.option_context('display.max_rows', 10, 'display.max_columns', 5):\n",
    "    print(phjTempDF)\n",
    "\n",
    "    \n",
    "# View log odds\n",
    "phjTempDF = epy.phjViewLogOdds(phjTempDF = phjTempDF,\n",
    "                               phjBinaryDepVarName = 'binDepVar',\n",
    "                               phjContIndepVarName = 'riskFactorCont',\n",
    "                               phjCaseValue = 1,\n",
    "                               phjMissingValue = 'missing',\n",
    "                               phjNumberOfCategoriesInt = 8,\n",
    "                               phjNewCategoryVarName = 'categoricalVar',\n",
    "                               phjCategorisationMethod = 'quantile',\n",
    "                               phjGroupNameVar = None,\n",
    "                               phjPrintResults = False)\n",
    "\n",
    "with pd.option_context('display.max_rows', 10, 'display.max_columns', 10):\n",
    "    print('Log odds for categorised variable')\n",
    "    print(phjTempDF)"
   ]
  },
  {
   "cell_type": "markdown",
   "metadata": {},
   "source": [
    "### FUNCTION: phjCategoriseContinuousVariable()"
   ]
  },
  {
   "cell_type": "code",
   "execution_count": null,
   "metadata": {},
   "outputs": [],
   "source": []
  },
  {
   "cell_type": "markdown",
   "metadata": {},
   "source": [
    "---"
   ]
  },
  {
   "cell_type": "markdown",
   "metadata": {},
   "source": [
    "## FILE: phjRROR"
   ]
  },
  {
   "cell_type": "markdown",
   "metadata": {},
   "source": [
    "### FUNCTION: phjOddsRatio()"
   ]
  },
  {
   "cell_type": "code",
   "execution_count": null,
   "metadata": {},
   "outputs": [],
   "source": []
  },
  {
   "cell_type": "markdown",
   "metadata": {},
   "source": [
    "### FUNCTION: phjRelativeRisk()"
   ]
  },
  {
   "cell_type": "code",
   "execution_count": null,
   "metadata": {},
   "outputs": [],
   "source": []
  },
  {
   "cell_type": "markdown",
   "metadata": {},
   "source": [
    "---"
   ]
  },
  {
   "cell_type": "markdown",
   "metadata": {},
   "source": [
    "## FILE: phjSelectData.py"
   ]
  },
  {
   "cell_type": "markdown",
   "metadata": {},
   "source": [
    "### FUNCTION: phjSelectCaseControlDataset()"
   ]
  },
  {
   "cell_type": "markdown",
   "metadata": {},
   "source": [
    "#### Unmatched controls"
   ]
  },
  {
   "cell_type": "code",
   "execution_count": null,
   "metadata": {},
   "outputs": [],
   "source": [
    "casesDF = pd.DataFrame({'animalID':[1,2,3,4,5],'var1':[43,45,34,45,56],'sp':['dog','dog','dog','dog','dog']})\n",
    "potControlsDF = pd.DataFrame({'animalID':[11,12,13,14,15,16,17,18,19,20,21,22,23,24,25,26,27,28,29,30],\n",
    "                              'var1':[34,54,34,23,34,45,56,67,56,67,78,98,65,54,34,76,87,56,45,34],\n",
    "                              'sp':['dog','cat','dog','dog','cat','dog','cat','dog','cat','dog',\n",
    "                                    'dog','dog','dog','cat','dog','cat','dog','dog','dog','cat']})\n",
    "\n",
    "print(\"This dataframe contains all the cases of disease\\n\")\n",
    "print(casesDF)\n",
    "print(\"\\n\")\n",
    "print(\"This dataframe contains all the animals you could potentially use as controls\\n\")\n",
    "print(potControlsDF)\n",
    "print(\"\\n\")\n",
    "\n",
    "# Selecting unmatched controls\n",
    "unmatchedDF = epy.phjSelectCaseControlDataset(phjCasesDF = casesDF,\n",
    "                                              phjPotentialControlsDF = potControlsDF,\n",
    "                                              phjUniqueIdentifierVarName = 'animalID',\n",
    "                                              phjMatchingVariablesList = None,\n",
    "                                              phjControlsPerCaseInt = 2,\n",
    "                                              phjPrintResults = False)\n",
    "\n",
    "print(unmatchedDF)"
   ]
  },
  {
   "cell_type": "markdown",
   "metadata": {},
   "source": [
    "#### Matched controls"
   ]
  },
  {
   "cell_type": "code",
   "execution_count": null,
   "metadata": {},
   "outputs": [],
   "source": [
    "casesDF = pd.DataFrame({'animalID':[1,2,3,4,5],'var1':[43,45,34,45,56],'sp':['dog','dog','dog','dog','dog']})\n",
    "potControlsDF = pd.DataFrame({'animalID':[11,12,13,14,15,16,17,18,19,20,21,22,23,24,25,26,27,28,29,30],\n",
    "                              'var1':[34,54,34,23,34,45,56,67,56,67,78,98,65,54,34,76,87,56,45,34],\n",
    "                              'sp':['dog','cat','dog','dog','cat','dog','cat','dog','cat','dog',\n",
    "                                    'dog','dog','dog','cat','dog','cat','dog','dog','dog','cat']})\n",
    "\n",
    "print(\"This dataframe contains all the cases of disease\\n\")\n",
    "print(casesDF)\n",
    "print(\"\\n\")\n",
    "print(\"This dataframe contains all the animals you could potentially use as controls\\n\")\n",
    "print(potControlsDF)\n",
    "print(\"\\n\")\n",
    "\n",
    "# Selecting controls that are matched to cases on variable 'sp'\n",
    "matchedDF = epy.phjSelectCaseControlDataset(phjCasesDF = casesDF,\n",
    "                                            phjPotentialControlsDF = potControlsDF,\n",
    "                                            phjUniqueIdentifierVarName = 'animalID',\n",
    "                                            phjMatchingVariablesList = ['sp'],\n",
    "                                            phjControlsPerCaseInt = 2,\n",
    "                                            phjPrintResults = False)\n",
    "\n",
    "print(matchedDF)"
   ]
  },
  {
   "cell_type": "markdown",
   "metadata": {},
   "source": [
    "### FUNCTION: phjGenerateCaseControlDataset()"
   ]
  },
  {
   "cell_type": "code",
   "execution_count": null,
   "metadata": {},
   "outputs": [],
   "source": []
  },
  {
   "cell_type": "markdown",
   "metadata": {},
   "source": [
    "### FUNCTION: phjCollapseOnPatientID()"
   ]
  },
  {
   "cell_type": "code",
   "execution_count": null,
   "metadata": {},
   "outputs": [],
   "source": []
  },
  {
   "cell_type": "markdown",
   "metadata": {},
   "source": [
    "---"
   ]
  },
  {
   "cell_type": "markdown",
   "metadata": {},
   "source": [
    "## File: phjCalculateProportions.py"
   ]
  },
  {
   "cell_type": "markdown",
   "metadata": {},
   "source": [
    "---"
   ]
  },
  {
   "cell_type": "markdown",
   "metadata": {},
   "source": [
    "## File: phjExploreData.py"
   ]
  },
  {
   "cell_type": "markdown",
   "metadata": {},
   "source": [
    "### Function: phjCategoriseContinuousVariable()"
   ]
  },
  {
   "cell_type": "markdown",
   "metadata": {},
   "source": [
    "#### Return dataframe alone"
   ]
  },
  {
   "cell_type": "code",
   "execution_count": null,
   "metadata": {},
   "outputs": [],
   "source": [
    "# Define example dataset\n",
    "phjTempDF = pd.DataFrame({'binDepVar':['yes']*50000 + ['no']*50000,\n",
    "                          'riskFactorCont':np.random.uniform(0,1,100000)})\n",
    "\n",
    "with pd.option_context('display.max_rows', 10, 'display.max_columns', 5):\n",
    "    print(phjTempDF)\n",
    "\n",
    "    \n",
    "# Categorise a continuous variable\n",
    "phjTempDF = epy.phjCategoriseContinuousVariable(phjTempDF = phjTempDF,\n",
    "                                                phjContinuousVarName = 'riskFactorCont',\n",
    "                                                phjMissingValue = 'missing',\n",
    "                                                phjNumberOfCategoriesInt = 6,\n",
    "                                                phjNewCategoryVarName = 'catVar',\n",
    "                                                phjCategorisationMethod = 'jenks',\n",
    "                                                phjReturnBreaks = False,\n",
    "                                                phjPrintResults = False)\n",
    "\n",
    "with pd.option_context('display.max_rows', 10, 'display.max_columns', 5):\n",
    "    print('\\nLog odds for categorised variable')\n",
    "    print(phjTempDF)"
   ]
  },
  {
   "cell_type": "markdown",
   "metadata": {},
   "source": [
    "#### Return dataframe and list of breaks"
   ]
  },
  {
   "cell_type": "code",
   "execution_count": null,
   "metadata": {},
   "outputs": [],
   "source": [
    "# Define example dataset\n",
    "phjTempDF = pd.DataFrame({'binDepVar':['yes']*50000 + ['no']*50000,\n",
    "                          'riskFactorCont':np.random.uniform(0,1,100000)})\n",
    "\n",
    "with pd.option_context('display.max_rows', 10, 'display.max_columns', 5):\n",
    "    print(phjTempDF)\n",
    "\n",
    "    \n",
    "# Categorise a continuous variable\n",
    "phjTempDF, phjBreaksList = epy.phjCategoriseContinuousVariable(phjTempDF = phjTempDF,\n",
    "                                                               phjContinuousVarName = 'riskFactorCont',\n",
    "                                                               phjMissingValue = 'missing',\n",
    "                                                               phjNumberOfCategoriesInt = 6,\n",
    "                                                               phjNewCategoryVarName = 'catVar',\n",
    "                                                               phjCategorisationMethod = 'jenks',\n",
    "                                                               phjReturnBreaks = True,\n",
    "                                                               phjPrintResults = False)\n",
    "\n",
    "with pd.option_context('display.max_rows', 10, 'display.max_columns', 5):\n",
    "    print('\\nCategorised variable')\n",
    "    print(phjTempDF)\n",
    "    print('\\n')\n",
    "    print('Breaks')\n",
    "    print(phjBreaksList)"
   ]
  },
  {
   "cell_type": "markdown",
   "metadata": {},
   "source": [
    "---"
   ]
  },
  {
   "cell_type": "code",
   "execution_count": null,
   "metadata": {},
   "outputs": [],
   "source": []
  }
 ],
 "metadata": {
  "kernelspec": {
   "display_name": "Python 3",
   "language": "python",
   "name": "python3"
  },
  "language_info": {
   "codemirror_mode": {
    "name": "ipython",
    "version": 3
   },
   "file_extension": ".py",
   "mimetype": "text/x-python",
   "name": "python",
   "nbconvert_exporter": "python",
   "pygments_lexer": "ipython3",
   "version": "3.7.6"
  }
 },
 "nbformat": 4,
 "nbformat_minor": 2
}
