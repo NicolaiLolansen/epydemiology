{
 "cells": [
  {
   "cell_type": "markdown",
   "metadata": {},
   "source": [
    "# Testing functions in epydemiology"
   ]
  },
  {
   "cell_type": "markdown",
   "metadata": {},
   "source": [
    "## Import epydemiology\n",
    "(All other packages will be imported or reported missing.)"
   ]
  },
  {
   "cell_type": "code",
   "execution_count": 1,
   "metadata": {},
   "outputs": [],
   "source": [
    "%matplotlib inline"
   ]
  },
  {
   "cell_type": "code",
   "execution_count": 2,
   "metadata": {},
   "outputs": [
    {
     "name": "stderr",
     "output_type": "stream",
     "text": [
      "/Users/phil/Documents/python_projects/general_python34_projects/env34/lib/python3.4/importlib/_bootstrap.py:321: FutureWarning: The pandas.core.datetools module is deprecated and will be removed in a future version. Please use the pandas.tseries module instead.\n",
      "  return f(*args, **kwds)\n"
     ]
    }
   ],
   "source": [
    "import numpy as np\n",
    "import pandas as pd\n",
    "\n",
    "import epydemiology as epy"
   ]
  },
  {
   "cell_type": "markdown",
   "metadata": {},
   "source": [
    "## Some background details"
   ]
  },
  {
   "cell_type": "code",
   "execution_count": 3,
   "metadata": {},
   "outputs": [
    {
     "name": "stdout",
     "output_type": "stream",
     "text": [
      "Help on package epydemiology:\n",
      "\n",
      "NAME\n",
      "    epydemiology\n",
      "\n",
      "DESCRIPTION\n",
      "    # These are the functions that can be accessed from epydemiology.\n",
      "    # Other functions that are used internally cannot be accessed\n",
      "    # directly by end-users.\n",
      "\n",
      "PACKAGE CONTENTS\n",
      "    phjCalculateProportions\n",
      "    phjCleanUKPostcodes\n",
      "    phjExploreData\n",
      "    phjExtFuncs\n",
      "    phjGetDBData\n",
      "    phjGetData\n",
      "    phjMatrices\n",
      "    phjPrelimPrepForSelectData\n",
      "    phjRROR\n",
      "    phjSelectData\n",
      "\n",
      "FILE\n",
      "    /Users/phil/Documents/phjPyPI/epydemiology/epydemiology/__init__.py\n",
      "\n",
      "\n"
     ]
    }
   ],
   "source": [
    "help(epy)"
   ]
  },
  {
   "cell_type": "code",
   "execution_count": 4,
   "metadata": {},
   "outputs": [
    {
     "name": "stdout",
     "output_type": "stream",
     "text": [
      "['__builtins__', '__cached__', '__doc__', '__file__', '__loader__', '__name__', '__package__', '__path__', '__spec__', 'getJenksBreaks', 'phjBinaryVarsToSquareMatrix', 'phjCalculateBinomialProportions', 'phjCalculateMultinomialProportions', 'phjCalculateProportions', 'phjCategoriseContinuousVariable', 'phjCleanUKPostcodeVariable', 'phjCleanUKPostcodes', 'phjExploreData', 'phjExtFuncs', 'phjGetDBData', 'phjGetData', 'phjGetDataFromDatabase', 'phjMatrices', 'phjOddsRatio', 'phjRROR', 'phjReadDataFromExcelNamedCellRange', 'phjReadTextFromFile', 'phjRelativeRisk', 'phjSelectCaseControlDataset', 'phjSelectData', 'phjViewLogOdds']\n"
     ]
    }
   ],
   "source": [
    "print(dir(epy))"
   ]
  },
  {
   "cell_type": "markdown",
   "metadata": {},
   "source": [
    "---"
   ]
  },
  {
   "cell_type": "markdown",
   "metadata": {},
   "source": [
    "## File: phjCalculateProportions"
   ]
  },
  {
   "cell_type": "markdown",
   "metadata": {},
   "source": [
    "### Function: phjCalculateBinomialProportions()"
   ]
  },
  {
   "cell_type": "code",
   "execution_count": 5,
   "metadata": {},
   "outputs": [],
   "source": [
    "# Create example dataset"
   ]
  },
  {
   "cell_type": "markdown",
   "metadata": {},
   "source": [
    "### Function: phjCalculateMultinomialProportions()"
   ]
  },
  {
   "cell_type": "code",
   "execution_count": 6,
   "metadata": {},
   "outputs": [],
   "source": [
    "# Create example dataset"
   ]
  },
  {
   "cell_type": "markdown",
   "metadata": {},
   "source": [
    "---"
   ]
  },
  {
   "cell_type": "markdown",
   "metadata": {},
   "source": [
    "## File: phjSelectData"
   ]
  },
  {
   "cell_type": "markdown",
   "metadata": {},
   "source": [
    "### Function: phjSelectCaseControlDataset()"
   ]
  },
  {
   "cell_type": "code",
   "execution_count": 7,
   "metadata": {},
   "outputs": [
    {
     "name": "stdout",
     "output_type": "stream",
     "text": [
      "This dataframe contains all the cases of disease\n",
      "\n",
      "   animalID   sp  var1\n",
      "0         1  dog    43\n",
      "1         2  dog    45\n",
      "2         3  dog    34\n",
      "3         4  dog    45\n",
      "4         5  dog    56\n",
      "\n",
      "\n",
      "This dataframe contains all the animals you could potentially use as controls\n",
      "\n",
      "    animalID   sp  var1\n",
      "0         11  dog    34\n",
      "1         12  cat    54\n",
      "2         13  dog    34\n",
      "3         14  dog    23\n",
      "4         15  cat    34\n",
      "5         16  dog    45\n",
      "6         17  cat    56\n",
      "7         18  dog    67\n",
      "8         19  cat    56\n",
      "9         20  dog    67\n",
      "10        21  dog    78\n",
      "11        22  dog    98\n",
      "12        23  dog    65\n",
      "13        24  cat    54\n",
      "14        25  dog    34\n",
      "15        26  cat    76\n",
      "16        27  dog    87\n",
      "17        28  dog    56\n",
      "18        29  dog    45\n",
      "19        30  cat    34\n",
      "\n",
      "\n",
      "UNMATCHED CONTROLS\n",
      "\n",
      "    case  animalID\n",
      "0      1         1\n",
      "1      1         2\n",
      "2      1         3\n",
      "3      1         4\n",
      "4      1         5\n",
      "5      0        22\n",
      "6      0        20\n",
      "7      0        12\n",
      "8      0        30\n",
      "9      0        11\n",
      "10     0        21\n",
      "11     0        13\n",
      "12     0        25\n",
      "13     0        28\n",
      "14     0        26\n",
      "\n",
      "\n",
      "MATCHED CONTROLS\n",
      "\n",
      "   animalID group case   sp\n",
      "0         1     0    1  dog\n",
      "1        29     0    0  dog\n",
      "2        21     0    0  dog\n",
      "3         2     1    1  dog\n",
      "4        28     1    0  dog\n",
      "5        25     1    0  dog\n",
      "6         3     2    1  dog\n",
      "7        20     2    0  dog\n",
      "8        23     2    0  dog\n",
      "9         4     3    1  dog\n",
      "10       16     3    0  dog\n",
      "11       27     3    0  dog\n",
      "12        5     4    1  dog\n",
      "13       22     4    0  dog\n",
      "14       18     4    0  dog\n"
     ]
    }
   ],
   "source": [
    "# Create example dataset\n",
    "casesDF = pd.DataFrame({'animalID':[1,2,3,4,5],'var1':[43,45,34,45,56],'sp':['dog','dog','dog','dog','dog']})\n",
    "potControlsDF = pd.DataFrame({'animalID':[11,12,13,14,15,16,17,18,19,20,21,22,23,24,25,26,27,28,29,30],\n",
    "                              'var1':[34,54,34,23,34,45,56,67,56,67,78,98,65,54,34,76,87,56,45,34],\n",
    "                              'sp':['dog','cat','dog','dog','cat','dog','cat','dog','cat','dog',\n",
    "                                    'dog','dog','dog','cat','dog','cat','dog','dog','dog','cat']})\n",
    "\n",
    "print(\"This dataframe contains all the cases of disease\\n\")\n",
    "print(casesDF)\n",
    "print(\"\\n\")\n",
    "print(\"This dataframe contains all the animals you could potentially use as controls\\n\")\n",
    "print(potControlsDF)\n",
    "print(\"\\n\")\n",
    "\n",
    "# Selecting unmatched controls\n",
    "unmatchedDF = epy.phjSelectCaseControlDataset(phjCasesDF = casesDF,\n",
    "                                              phjPotentialControlsDF = potControlsDF,\n",
    "                                              phjUniqueIdentifierVarName = 'animalID',\n",
    "                                              phjMatchingVariablesList = None,\n",
    "                                              phjControlsPerCaseInt = 2,\n",
    "                                              phjPrintResults = False)\n",
    "\n",
    "print(unmatchedDF)\n",
    "print(\"\\n\")\n",
    "\n",
    "# Selecting controls that are matched to cases on variable 'sp'\n",
    "matchedDF = epy.phjSelectCaseControlDataset(phjCasesDF = casesDF,\n",
    "                                            phjPotentialControlsDF = potControlsDF,\n",
    "                                            phjUniqueIdentifierVarName = 'animalID',\n",
    "                                            phjMatchingVariablesList = ['sp'],\n",
    "                                            phjControlsPerCaseInt = 2,\n",
    "                                            phjPrintResults = False)\n",
    "\n",
    "print(matchedDF)"
   ]
  },
  {
   "cell_type": "markdown",
   "metadata": {},
   "source": [
    "---"
   ]
  },
  {
   "cell_type": "markdown",
   "metadata": {},
   "source": [
    "## File: phjExploreData"
   ]
  },
  {
   "cell_type": "markdown",
   "metadata": {},
   "source": [
    "### Function: phjCategoriseContinuousVariable()"
   ]
  },
  {
   "cell_type": "markdown",
   "metadata": {},
   "source": [
    "#### Return dataframe alone"
   ]
  },
  {
   "cell_type": "code",
   "execution_count": 8,
   "metadata": {},
   "outputs": [
    {
     "name": "stdout",
     "output_type": "stream",
     "text": [
      "      binDepVar  riskFactorCont\n",
      "0           yes        0.233029\n",
      "1           yes        0.419627\n",
      "2           yes        0.833248\n",
      "3           yes        0.376651\n",
      "4           yes        0.065051\n",
      "...         ...             ...\n",
      "99995        no        0.341591\n",
      "99996        no        0.106766\n",
      "99997        no        0.804538\n",
      "99998        no        0.270812\n",
      "99999        no        0.273346\n",
      "\n",
      "[100000 rows x 2 columns]\n",
      "\n",
      "Log odds for categorised variable\n",
      "      binDepVar  riskFactorCont  catVar\n",
      "0           yes        0.233029       1\n",
      "1           yes        0.419627       2\n",
      "2           yes        0.833248       4\n",
      "3           yes        0.376651       2\n",
      "4           yes        0.065051       0\n",
      "...         ...             ...     ...\n",
      "99995        no        0.341591       1\n",
      "99996        no        0.106766       0\n",
      "99997        no        0.804538       4\n",
      "99998        no        0.270812       1\n",
      "99999        no        0.273346       1\n",
      "\n",
      "[100000 rows x 3 columns]\n"
     ]
    }
   ],
   "source": [
    "# Define example dataset\n",
    "phjTempDF = pd.DataFrame({'binDepVar':['yes']*50000 + ['no']*50000,\n",
    "                          'riskFactorCont':np.random.uniform(0,1,100000)})\n",
    "\n",
    "with pd.option_context('display.max_rows', 10, 'display.max_columns', 5):\n",
    "    print(phjTempDF)\n",
    "\n",
    "    \n",
    "# Categorise a continuous variable\n",
    "phjTempDF = epy.phjCategoriseContinuousVariable(phjTempDF = phjTempDF,\n",
    "                                                phjContinuousVarName = 'riskFactorCont',\n",
    "                                                phjMissingValue = 'missing',\n",
    "                                                phjNumberOfCategoriesInt = 6,\n",
    "                                                phjNewCategoryVarName = 'catVar',\n",
    "                                                phjCategorisationMethod = 'jenks',\n",
    "                                                phjReturnBreaks = False,\n",
    "                                                phjPrintResults = False)\n",
    "\n",
    "with pd.option_context('display.max_rows', 10, 'display.max_columns', 5):\n",
    "    print('\\nLog odds for categorised variable')\n",
    "    print(phjTempDF)"
   ]
  },
  {
   "cell_type": "markdown",
   "metadata": {},
   "source": [
    "#### Return dataframe and list of breaks"
   ]
  },
  {
   "cell_type": "code",
   "execution_count": 9,
   "metadata": {},
   "outputs": [
    {
     "name": "stdout",
     "output_type": "stream",
     "text": [
      "      binDepVar  riskFactorCont\n",
      "0           yes        0.413018\n",
      "1           yes        0.009638\n",
      "2           yes        0.661134\n",
      "3           yes        0.755140\n",
      "4           yes        0.341305\n",
      "...         ...             ...\n",
      "99995        no        0.135354\n",
      "99996        no        0.387370\n",
      "99997        no        0.391701\n",
      "99998        no        0.066896\n",
      "99999        no        0.844374\n",
      "\n",
      "[100000 rows x 2 columns]\n",
      "\n",
      "Categorised variable\n",
      "      binDepVar  riskFactorCont  catVar\n",
      "0           yes        0.413018       2\n",
      "1           yes        0.009638       0\n",
      "2           yes        0.661134       3\n",
      "3           yes        0.755140       4\n",
      "4           yes        0.341305       1\n",
      "...         ...             ...     ...\n",
      "99995        no        0.135354       0\n",
      "99996        no        0.387370       2\n",
      "99997        no        0.391701       2\n",
      "99998        no        0.066896       0\n",
      "99999        no        0.844374       5\n",
      "\n",
      "[100000 rows x 3 columns]\n",
      "\n",
      "\n",
      "Breaks\n",
      "[8.9802259531740488e-06, 0.18062839719873769, 0.3605449546225914, 0.53036893717335376, 0.69029790874414521, 0.84011232932196522, 1.0009872569542515]\n"
     ]
    }
   ],
   "source": [
    "# Define example dataset\n",
    "phjTempDF = pd.DataFrame({'binDepVar':['yes']*50000 + ['no']*50000,\n",
    "                          'riskFactorCont':np.random.uniform(0,1,100000)})\n",
    "\n",
    "with pd.option_context('display.max_rows', 10, 'display.max_columns', 5):\n",
    "    print(phjTempDF)\n",
    "\n",
    "    \n",
    "# Categorise a continuous variable\n",
    "phjTempDF, phjBreaksList = epy.phjCategoriseContinuousVariable(phjTempDF = phjTempDF,\n",
    "                                                               phjContinuousVarName = 'riskFactorCont',\n",
    "                                                               phjMissingValue = 'missing',\n",
    "                                                               phjNumberOfCategoriesInt = 6,\n",
    "                                                               phjNewCategoryVarName = 'catVar',\n",
    "                                                               phjCategorisationMethod = 'jenks',\n",
    "                                                               phjReturnBreaks = True,\n",
    "                                                               phjPrintResults = False)\n",
    "\n",
    "with pd.option_context('display.max_rows', 10, 'display.max_columns', 5):\n",
    "    print('\\nCategorised variable')\n",
    "    print(phjTempDF)\n",
    "    print('\\n')\n",
    "    print('Breaks')\n",
    "    print(phjBreaksList)"
   ]
  },
  {
   "cell_type": "markdown",
   "metadata": {},
   "source": [
    "### Function: phjViewLogOdds()\n",
    "Example of viewing log odds plotted against mid-point of categories."
   ]
  },
  {
   "cell_type": "markdown",
   "metadata": {},
   "source": [
    "#### Categorise using Jenks breaks and using 'yes' and 'no' as binary outcome"
   ]
  },
  {
   "cell_type": "code",
   "execution_count": 10,
   "metadata": {},
   "outputs": [
    {
     "name": "stdout",
     "output_type": "stream",
     "text": [
      "      binDepVar  riskFactorCont\n",
      "0           yes        0.885007\n",
      "1           yes        0.398733\n",
      "2           yes        0.088841\n",
      "3           yes        0.047183\n",
      "4           yes        0.173154\n",
      "...         ...             ...\n",
      "99995        no        0.498419\n",
      "99996        no        0.143683\n",
      "99997        no        0.390726\n",
      "99998        no        0.400637\n",
      "99999        no        0.534702\n",
      "\n",
      "[100000 rows x 2 columns]\n"
     ]
    },
    {
     "name": "stderr",
     "output_type": "stream",
     "text": [
      "/Users/phil/Documents/phjPyPI/epydemiology/epydemiology/phjRROR.py:70: FutureWarning: set_value is deprecated and will be removed in a future release. Please use .at[] or .iat[] accessors instead\n",
      "  phjContTable.set_value(phjStratum,'95pcCI_Woolf',phjRiskFactorCI)\n"
     ]
    },
    {
     "name": "stdout",
     "output_type": "stream",
     "text": [
      "Log odds for categorised variable\n",
      "                  yes     no      odds        or      95pcCI_Woolf   logodds  \\\n",
      "categoricalVar                                                                 \n",
      "0               10361  10332  1.002807  1.027789  [0.9884, 1.0687]  0.002803   \n",
      "1                9674   9915  0.975693  1.000000               --- -0.024607   \n",
      "2               10135  10036  1.009864  1.035022  [0.9951, 1.0765]  0.009816   \n",
      "3               10156  10174  0.998231  1.023099  [0.9837, 1.0641] -0.001771   \n",
      "4                9674   9543  1.013727  1.038981  [0.9984, 1.0812]  0.013634   \n",
      "\n",
      "                      se  95CI_llimit  95CI_ulimit  catMidpoints  \n",
      "categoricalVar                                                    \n",
      "0               0.013903    -0.024447     0.030053      0.104146  \n",
      "1               0.014291    -0.052616     0.003403      0.305866  \n",
      "2               0.014082    -0.017785     0.037417      0.503397  \n",
      "3               0.014027    -0.029263     0.025721      0.704615  \n",
      "4               0.014428    -0.014644     0.041912      0.903436  \n"
     ]
    },
    {
     "data": {
      "image/png": "[encoded data removed]",
      "text/plain": [
       "<matplotlib.figure.Figure at 0x10aa8e438>"
      ]
     },
     "metadata": {},
     "output_type": "display_data"
    }
   ],
   "source": [
    "# Define example dataset\n",
    "phjTempDF = pd.DataFrame({'binDepVar':['yes']*50000 + ['no']*50000,\n",
    "                          'riskFactorCont':np.random.uniform(0,1,100000)})\n",
    "\n",
    "with pd.option_context('display.max_rows', 10, 'display.max_columns', 5):\n",
    "    print(phjTempDF)\n",
    "\n",
    "    \n",
    "# View log odds\n",
    "phjTempDF = epy.phjViewLogOdds(phjTempDF = phjTempDF,\n",
    "                               phjBinaryDepVarName = 'binDepVar',\n",
    "                               phjContIndepVarName = 'riskFactorCont',\n",
    "                               phjCaseValue = 'yes',\n",
    "                               phjMissingValue = 'missing',\n",
    "                               phjNumberOfCategoriesInt = 5,\n",
    "                               phjNewCategoryVarName = 'categoricalVar',\n",
    "                               phjCategorisationMethod = 'jenks',\n",
    "                               phjGroupNameVar = None,\n",
    "                               phjPrintResults = False)\n",
    "\n",
    "with pd.option_context('display.max_rows', 10, 'display.max_columns', 10):\n",
    "    print('Log odds for categorised variable')\n",
    "    print(phjTempDF)"
   ]
  },
  {
   "cell_type": "markdown",
   "metadata": {},
   "source": [
    "#### Categorise using quantile breaks and using 1 and 0 as binary outcome"
   ]
  },
  {
   "cell_type": "code",
   "execution_count": 11,
   "metadata": {},
   "outputs": [
    {
     "name": "stdout",
     "output_type": "stream",
     "text": [
      "       binDepVar  riskFactorCont\n",
      "0              1        0.260246\n",
      "1              1        0.487985\n",
      "2              1        0.922498\n",
      "3              1        0.449533\n",
      "4              1        0.479241\n",
      "...          ...             ...\n",
      "99995          0        0.902317\n",
      "99996          0        0.625651\n",
      "99997          0        0.294277\n",
      "99998          0        0.448437\n",
      "99999          0        0.746110\n",
      "\n",
      "[100000 rows x 2 columns]\n"
     ]
    },
    {
     "name": "stderr",
     "output_type": "stream",
     "text": [
      "/Users/phil/Documents/phjPyPI/epydemiology/epydemiology/phjRROR.py:70: FutureWarning: set_value is deprecated and will be removed in a future release. Please use .at[] or .iat[] accessors instead\n",
      "  phjContTable.set_value(phjStratum,'95pcCI_Woolf',phjRiskFactorCI)\n"
     ]
    },
    {
     "name": "stdout",
     "output_type": "stream",
     "text": [
      "Log odds for categorised variable\n",
      "                   1     0      odds        or      95pcCI_Woolf   logodds  \\\n",
      "categoricalVar                                                               \n",
      "0               6305  6389  0.986852  1.010489  [0.9619, 1.0616] -0.013235   \n",
      "1               6221  6370  0.976609  1.000000               --- -0.023669   \n",
      "2               6254  6122  1.021562  1.046029  [0.9954, 1.0992]  0.021332   \n",
      "3               6201  6288  0.986164  1.009784  [0.9610, 1.0610] -0.013932   \n",
      "4               6366  6088  1.045664  1.070708  [1.0189, 1.1251]  0.044652   \n",
      "5               6239  6259  0.996805  1.020679  [0.9714, 1.0725] -0.003201   \n",
      "6               6244  6253  0.998561  1.022477  [0.9731, 1.0744] -0.001440   \n",
      "7               6170  6231  0.990210  1.013927  [0.9649, 1.0655] -0.009838   \n",
      "\n",
      "                      se  95CI_llimit  95CI_ulimit  catMidpoints  \n",
      "categoricalVar                                                    \n",
      "0               0.017752    -0.048028     0.021558      0.062007  \n",
      "1               0.017825    -0.058605     0.011268      0.187505  \n",
      "2               0.017979    -0.013906     0.056571      0.312504  \n",
      "3               0.017897    -0.049010     0.021145      0.437502  \n",
      "4               0.017926     0.009517     0.079786      0.562501  \n",
      "5               0.017890    -0.038264     0.031863      0.687499  \n",
      "6               0.017891    -0.036505     0.033625      0.812498  \n",
      "7               0.017960    -0.045039     0.025363      0.937496  \n"
     ]
    },
    {
     "data": {
      "image/png": "[encoded data removed]",
      "text/plain": [
       "<matplotlib.figure.Figure at 0x104168e48>"
      ]
     },
     "metadata": {},
     "output_type": "display_data"
    }
   ],
   "source": [
    "# Define example dataset\n",
    "phjTempDF = pd.DataFrame({'binDepVar':[1]*50000 + [0]*50000,\n",
    "                          'riskFactorCont':np.random.uniform(0,1,100000)})\n",
    "\n",
    "with pd.option_context('display.max_rows', 10, 'display.max_columns', 5):\n",
    "    print(phjTempDF)\n",
    "\n",
    "    \n",
    "# View log odds\n",
    "phjTempDF = epy.phjViewLogOdds(phjTempDF = phjTempDF,\n",
    "                               phjBinaryDepVarName = 'binDepVar',\n",
    "                               phjContIndepVarName = 'riskFactorCont',\n",
    "                               phjCaseValue = 1,\n",
    "                               phjMissingValue = 'missing',\n",
    "                               phjNumberOfCategoriesInt = 8,\n",
    "                               phjNewCategoryVarName = 'categoricalVar',\n",
    "                               phjCategorisationMethod = 'quantile',\n",
    "                               phjGroupNameVar = None,\n",
    "                               phjPrintResults = False)\n",
    "\n",
    "with pd.option_context('display.max_rows', 10, 'display.max_columns', 10):\n",
    "    print('Log odds for categorised variable')\n",
    "    print(phjTempDF)"
   ]
  },
  {
   "cell_type": "markdown",
   "metadata": {},
   "source": [
    "---"
   ]
  },
  {
   "cell_type": "code",
   "execution_count": null,
   "metadata": {},
   "outputs": [],
   "source": []
  }
 ],
 "metadata": {
  "kernelspec": {
   "display_name": "Python 3",
   "language": "python",
   "name": "python3"
  },
  "language_info": {
   "codemirror_mode": {
    "name": "ipython",
    "version": 3
   },
   "file_extension": ".py",
   "mimetype": "text/x-python",
   "name": "python",
   "nbconvert_exporter": "python",
   "pygments_lexer": "ipython3",
   "version": "3.4.4"
  }
 },
 "nbformat": 4,
 "nbformat_minor": 2
}
