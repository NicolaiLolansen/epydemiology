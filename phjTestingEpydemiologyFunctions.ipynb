{
 "cells": [
  {
   "cell_type": "markdown",
   "metadata": {},
   "source": [
    "# Testing functions in epydemiology"
   ]
  },
  {
   "cell_type": "markdown",
   "metadata": {},
   "source": [
    "## Import epydemiology\n",
    "(All other packages will be imported or reported missing.)"
   ]
  },
  {
   "cell_type": "code",
   "execution_count": 5,
   "metadata": {},
   "outputs": [],
   "source": [
    "%matplotlib inline"
   ]
  },
  {
   "cell_type": "code",
   "execution_count": 6,
   "metadata": {},
   "outputs": [],
   "source": [
    "import numpy as np\n",
    "import pandas as pd\n",
    "\n",
    "import epydemiology as epy"
   ]
  },
  {
   "cell_type": "markdown",
   "metadata": {},
   "source": [
    "## Some background details"
   ]
  },
  {
   "cell_type": "code",
   "execution_count": 3,
   "metadata": {},
   "outputs": [
    {
     "name": "stdout",
     "output_type": "stream",
     "text": [
      "Help on package epydemiology:\n",
      "\n",
      "NAME\n",
      "    epydemiology\n",
      "\n",
      "DESCRIPTION\n",
      "    # These are the functions that can be accessed from epydemiology.\n",
      "    # Other functions that are used internally cannot be accessed\n",
      "    # directly by end-users.\n",
      "\n",
      "PACKAGE CONTENTS\n",
      "    phjCalculateProportions\n",
      "    phjCleanData\n",
      "    phjCleanUKPostcodes\n",
      "    phjExploreData\n",
      "    phjExtFuncs\n",
      "    phjGetDBData\n",
      "    phjGetData\n",
      "    phjMatrices\n",
      "    phjMiscFuncs\n",
      "    phjRROR\n",
      "    phjSelectData\n",
      "    phjTestFunctionParameters\n",
      "\n",
      "FILE\n",
      "    /Users/philipjones/Documents/git_repositories/epydemiology/epydemiology/__init__.py\n",
      "\n",
      "\n"
     ]
    }
   ],
   "source": [
    "help(epy)"
   ]
  },
  {
   "cell_type": "code",
   "execution_count": 4,
   "metadata": {},
   "outputs": [
    {
     "name": "stdout",
     "output_type": "stream",
     "text": [
      "['__builtins__', '__cached__', '__doc__', '__file__', '__loader__', '__name__', '__package__', '__path__', '__spec__', 'getJenksBreaks', 'phjAnnualDiseaseTrend', 'phjBinaryVarsToSquareMatrix', 'phjCalculateBinomialConfInts', 'phjCalculateBinomialProportions', 'phjCalculateMultinomialProportions', 'phjCalculateProportions', 'phjCategoriseContinuousVariable', 'phjCleanData', 'phjCleanUKPostcodeVariable', 'phjCleanUKPostcodes', 'phjCollapseOnPatientID', 'phjConnectToDatabase', 'phjCreateNamedGroupRegex', 'phjExploreData', 'phjExtFuncs', 'phjFindRegexNamedGroups', 'phjGenerateCaseControlDataset', 'phjGetDBData', 'phjGetData', 'phjGetDataFromDatabase', 'phjGetStrFromArgOrFile', 'phjLongToWideBinary', 'phjMatrices', 'phjMaxLevelOfTaxonomicDetail', 'phjMiscFuncs', 'phjOddsRatio', 'phjParseDateVar', 'phjPostcodeFormat7', 'phjRROR', 'phjReadDataFromExcelNamedCellRange', 'phjReadTextFromFile', 'phjRelativeRisk', 'phjReverseMap', 'phjSelectCaseControlDataset', 'phjSelectData', 'phjSummaryTableToBinaryOutcomes', 'phjTestFunctionParameters', 'phjViewLogOdds']\n"
     ]
    }
   ],
   "source": [
    "print(dir(epy))"
   ]
  },
  {
   "cell_type": "markdown",
   "metadata": {},
   "source": [
    "---"
   ]
  },
  {
   "cell_type": "markdown",
   "metadata": {},
   "source": [
    "## FILE: phjGetData"
   ]
  },
  {
   "cell_type": "markdown",
   "metadata": {},
   "source": [
    "### FUNCTION: phjReadDataFromExcelNamedCellRange()"
   ]
  },
  {
   "cell_type": "code",
   "execution_count": 6,
   "metadata": {},
   "outputs": [
    {
     "name": "stdout",
     "output_type": "stream",
     "text": [
      "RANGE: some_test_data\n",
      "=====================\n",
      "Worksheet name:  Sheet 1\n",
      "Cell range name:  $A$3:$D$7\n",
      "\n",
      "\n",
      "\n",
      "First row (containing variable names) has been removed from the data.\n",
      "var 1 :  Date\n",
      "var 2 :  Subject\n",
      "var 3 :  Integer\n",
      "var 4 :  Float\n",
      "\n",
      "Imported data\n",
      "-------------\n",
      "        Date Subject  Integer  Float\n",
      "0  01Jan2019       A        5   3.34\n",
      "1  08Jan2019       B        2   5.22\n",
      "2  15Jan2019       C        7   6.48\n",
      "3  22Jan2019       D        9   8.91\n",
      "\n",
      "\n",
      "Date        object\n",
      "Subject     object\n",
      "Integer      int64\n",
      "Float      float64\n",
      "dtype: object\n",
      "\n",
      "\n",
      "RANGE: some_more_test_data\n",
      "==========================\n",
      "Worksheet name:  Sheet 1\n",
      "Cell range name:  $E$9:$I$18\n",
      "\n",
      "\n",
      "\n",
      "First row (containing variable names) has been removed from the data.\n",
      "var 1 :  Date\n",
      "var 2 :  Subject\n",
      "var 3 :  Integer\n",
      "var 4 :  Float\n",
      "var 5 :  Product\n",
      "\n",
      "Imported data\n",
      "-------------\n",
      "         Date Subject  Integer  Float  Product\n",
      "0  2019-01-01       A        6   3.56    21.36\n",
      "1  2019-01-02       A        7   2.76    19.32\n",
      "2  2019-01-03       A        8   7.45    59.60\n",
      "3  2019-01-04       B        6   9.98    59.88\n",
      "4  2019-01-05       B        7   2.54    17.78\n",
      "5  2019-01-06       B        5   4.23    21.15\n",
      "6  2019-01-07       C        6   5.78    34.68\n",
      "7  2019-01-08       C        3   9.76    29.28\n",
      "8  2019-01-09       C        5   1.11     5.55\n",
      "\n",
      "\n",
      "Date        object\n",
      "Subject     object\n",
      "Integer      int64\n",
      "Float      float64\n",
      "dtype: object\n"
     ]
    }
   ],
   "source": [
    "phjPath = \"/Users/philipjones/Documents/git_repositories/epydemiology\"\n",
    "phjFileName = \"Test data.xlsx\"\n",
    "\n",
    "import pandas as pd\n",
    "import openpyxl\n",
    "import epydemiology as epy\n",
    "\n",
    "print(\"RANGE: some_test_data\")\n",
    "print(\"=====================\")\n",
    "myDF = epy.phjReadDataFromExcelNamedCellRange(phjExcelPathAndFileName = '/'.join([phjPath,phjFileName]),\n",
    "                                              phjExcelCellRangeName = 'some_test_data',\n",
    "                                              phjDatetimeFormat = \"%d%b%Y\",\n",
    "                                              phjMissingValue = \"missing\",\n",
    "                                              phjHeaderRow = True,\n",
    "                                              phjPrintResults = True)\n",
    "\n",
    "print(myDF.dtypes)\n",
    "\n",
    "print('\\n')\n",
    "\n",
    "print(\"RANGE: some_more_test_data\")\n",
    "print(\"==========================\")\n",
    "myDF2 = epy.phjReadDataFromExcelNamedCellRange(phjExcelPathAndFileName = '/'.join([phjPath,phjFileName]),\n",
    "                                               phjExcelCellRangeName = 'some_more_test_data',\n",
    "                                               phjDatetimeFormat = \"%Y-%m-%d\",\n",
    "                                               phjMissingValue = \"missing\",\n",
    "                                               phjHeaderRow = True,\n",
    "                                               phjPrintResults = True)\n",
    "\n",
    "print(myDF.dtypes)"
   ]
  },
  {
   "cell_type": "markdown",
   "metadata": {},
   "source": [
    "---"
   ]
  },
  {
   "cell_type": "markdown",
   "metadata": {},
   "source": [
    "## FILE: phjGetDBData"
   ]
  },
  {
   "cell_type": "markdown",
   "metadata": {},
   "source": [
    "### FUNCTION: phjConnectToDatabase()"
   ]
  },
  {
   "cell_type": "code",
   "execution_count": 7,
   "metadata": {
    "scrolled": true
   },
   "outputs": [
    {
     "name": "stdout",
     "output_type": "stream",
     "text": [
      "Enter host: localhost\n",
      "Enter user: root\n",
      "Enter password: ········\n",
      "Enter database name (optional but may need to modify SQL query): \n",
      "<pymysql.connections.Connection object at 0x1c1cd94b10>\n"
     ]
    }
   ],
   "source": [
    "import pymysql\n",
    "import pymssql\n",
    "import epydemiology as epy\n",
    "\n",
    "tempConn = epy.phjConnectToDatabase('mysql')\n",
    "\n",
    "print(tempConn)"
   ]
  },
  {
   "cell_type": "markdown",
   "metadata": {},
   "source": [
    "### FUNCTION: phjGetDataFromDatabase()"
   ]
  },
  {
   "cell_type": "code",
   "execution_count": null,
   "metadata": {},
   "outputs": [],
   "source": [
    "myDF = epy.phjGetDataFromDatabase(phjQueryPathAndFile = '/path_to_directory/theSQLQueryFile.mysql',\n",
    "                                  phjPrintResults = True)\n",
    "\n",
    "myDF = epy.phjGetDataFromDatabase(phjQueryStr = 'SELECT * FROM Table1',\n",
    "                                  phjPrintResults = True)"
   ]
  },
  {
   "cell_type": "markdown",
   "metadata": {},
   "source": [
    "---"
   ]
  },
  {
   "cell_type": "markdown",
   "metadata": {},
   "source": [
    "## FILE: phjMiscFuncs"
   ]
  },
  {
   "cell_type": "markdown",
   "metadata": {},
   "source": [
    "### FUNCTION: phjGetStrFromArgOrFile()"
   ]
  },
  {
   "cell_type": "code",
   "execution_count": null,
   "metadata": {},
   "outputs": [],
   "source": []
  },
  {
   "cell_type": "markdown",
   "metadata": {},
   "source": [
    "### FUNCTION: phjReadTextFromFile()"
   ]
  },
  {
   "cell_type": "code",
   "execution_count": null,
   "metadata": {},
   "outputs": [],
   "source": []
  },
  {
   "cell_type": "markdown",
   "metadata": {},
   "source": [
    "### FUNCTION: phjCreateNameGroupRegex()"
   ]
  },
  {
   "cell_type": "code",
   "execution_count": null,
   "metadata": {},
   "outputs": [],
   "source": []
  },
  {
   "cell_type": "markdown",
   "metadata": {},
   "source": [
    "### FUNCTION: phjFindRegexNamedGroup()"
   ]
  },
  {
   "cell_type": "code",
   "execution_count": null,
   "metadata": {},
   "outputs": [],
   "source": []
  },
  {
   "cell_type": "markdown",
   "metadata": {},
   "source": [
    "### FUNCTION: phjMaxLevelOfTaxonomicDetail()"
   ]
  },
  {
   "cell_type": "code",
   "execution_count": null,
   "metadata": {},
   "outputs": [],
   "source": []
  },
  {
   "cell_type": "markdown",
   "metadata": {},
   "source": [
    "### FUNCTION: phjReverseMap()"
   ]
  },
  {
   "cell_type": "code",
   "execution_count": null,
   "metadata": {},
   "outputs": [],
   "source": []
  },
  {
   "cell_type": "markdown",
   "metadata": {},
   "source": [
    "---"
   ]
  },
  {
   "cell_type": "markdown",
   "metadata": {},
   "source": [
    "## FILE: phjMatrices"
   ]
  },
  {
   "cell_type": "markdown",
   "metadata": {},
   "source": [
    "### FUNCTION: phjBinaryVarsToSquareMatrix()"
   ]
  },
  {
   "cell_type": "markdown",
   "metadata": {},
   "source": [
    "#### Output a numpy array"
   ]
  },
  {
   "cell_type": "code",
   "execution_count": 5,
   "metadata": {},
   "outputs": [
    {
     "name": "stdout",
     "output_type": "stream",
     "text": [
      "Raw data\n",
      "   a  b  c  d  e\n",
      "0  0  1  0  1  1\n",
      "1  1  1  0  0  0\n",
      "2  1  0  1  0  0\n",
      "3  1  0  0  0  0\n",
      "4  0  1  1  1  0\n",
      "5  0  0  1  0  1\n",
      "6  1  0  1  0  0\n",
      "7  0  1  1  0  0\n",
      "\n",
      "\n",
      "Returned square matrix\n",
      "[[1 1 2 0 0]\n",
      " [1 0 2 2 1]\n",
      " [2 2 0 1 1]\n",
      " [0 2 1 0 1]\n",
      " [0 1 1 1 0]]\n"
     ]
    }
   ],
   "source": [
    "rawDataDF = pd.DataFrame({'a':[0,1,1,1,0,0,1,0],\n",
    "                          'b':[1,1,0,0,1,0,0,1],\n",
    "                          'c':[0,0,1,0,1,1,1,1],\n",
    "                          'd':[1,0,0,0,1,0,0,0],\n",
    "                          'e':[1,0,0,0,0,1,0,0]})\n",
    "\n",
    "columns = ['a','b','c','d','e']\n",
    "\n",
    "print('Raw data')\n",
    "print(rawDataDF)\n",
    "print('\\n')\n",
    "\n",
    "phjMatrix = epy.phjBinaryVarsToSquareMatrix(phjDataDF = rawDataDF,\n",
    "                                        phjColumnNamesList = columns,\n",
    "                                        phjOutputFormat = 'arr',\n",
    "                                        phjPrintResults = False)\n",
    "                                        \n",
    "print('Returned square matrix')\n",
    "print(phjMatrix)"
   ]
  },
  {
   "cell_type": "markdown",
   "metadata": {},
   "source": [
    "#### Output a Pandas dataframe"
   ]
  },
  {
   "cell_type": "code",
   "execution_count": 6,
   "metadata": {},
   "outputs": [
    {
     "name": "stdout",
     "output_type": "stream",
     "text": [
      "Raw data\n",
      "   a  b  c  d  e\n",
      "0  0  1  0  1  1\n",
      "1  1  1  0  0  0\n",
      "2  1  0  1  0  0\n",
      "3  1  0  0  0  0\n",
      "4  0  1  1  1  0\n",
      "5  0  0  1  0  1\n",
      "6  1  0  1  0  0\n",
      "7  0  1  1  0  0\n",
      "\n",
      "\n",
      "Returned square matrix\n",
      "   a  b  c  d  e\n",
      "a  1  1  2  0  0\n",
      "b  1  0  2  2  1\n",
      "c  2  2  0  1  1\n",
      "d  0  2  1  0  1\n",
      "e  0  1  1  1  0\n"
     ]
    }
   ],
   "source": [
    "rawDataDF = pd.DataFrame({'a':[0,1,1,1,0,0,1,0],\n",
    "                          'b':[1,1,0,0,1,0,0,1],\n",
    "                          'c':[0,0,1,0,1,1,1,1],\n",
    "                          'd':[1,0,0,0,1,0,0,0],\n",
    "                          'e':[1,0,0,0,0,1,0,0]})\n",
    "\n",
    "columns = ['a','b','c','d','e']\n",
    "\n",
    "print('Raw data')\n",
    "print(rawDataDF)\n",
    "print('\\n')\n",
    "\n",
    "phjMatrix = epy.phjBinaryVarsToSquareMatrix(phjDataDF = rawDataDF,\n",
    "                                            phjColumnNamesList = columns,\n",
    "                                            phjOutputFormat = 'df',\n",
    "                                            phjPrintResults = False)\n",
    "                                        \n",
    "print('Returned square matrix')\n",
    "print(phjMatrix)"
   ]
  },
  {
   "cell_type": "markdown",
   "metadata": {},
   "source": [
    "### FUNCTION: phjLongToWideBinary()"
   ]
  },
  {
   "cell_type": "code",
   "execution_count": null,
   "metadata": {},
   "outputs": [],
   "source": []
  },
  {
   "cell_type": "markdown",
   "metadata": {},
   "source": [
    "---"
   ]
  },
  {
   "cell_type": "markdown",
   "metadata": {},
   "source": [
    "## FILE: phjCalculateProportions"
   ]
  },
  {
   "cell_type": "markdown",
   "metadata": {},
   "source": [
    "### FUNCTION: phjCalculateBinomialProportions()"
   ]
  },
  {
   "cell_type": "code",
   "execution_count": null,
   "metadata": {},
   "outputs": [],
   "source": [
    "# Example calculating binomial proportions (using phjCaculateBinomialProportions() function)\n",
    "# ========================================\n",
    "\n",
    "# Create example dataset\n",
    "phjTempDF = pd.DataFrame({'group':['g1','g1','g2','g1','g2','g2','g1','g1','g2','g1'],\n",
    "                          'A':['yes','yes','no','no','no','no','no','yes',np.nan,'yes'],\n",
    "                          'B':['no',np.nan,np.nan,'yes','yes','yes','yes','no','no','no'],\n",
    "                          'C':['yes','yes','yes',np.nan,'no','yes','yes','yes','no','no']})\n",
    "\n",
    "print(phjTempDF)\n",
    "print('\\n')\n",
    "\n",
    "phjPropDF = epy.phjCalculateBinomialProportions(phjTempDF = phjTempDF,\n",
    "                                                phjColumnsList = ['A','B','C'],\n",
    "                                                phjSuccess = 'yes',\n",
    "                                                phjGroupVarName = 'group',\n",
    "                                                phjMissingValue = 'missing',\n",
    "                                                phjBinomialConfIntMethod = 'wilson',\n",
    "                                                phjAlpha = 0.05,\n",
    "                                                phjPlotProportions = True,\n",
    "                                                phjGroupsToPlotList = 'all',\n",
    "                                                phjSortProportions = True,\n",
    "                                                phjGraphTitle = None,\n",
    "                                                phjPrintResults = False)\n",
    "\n",
    "print(phjPropDF)"
   ]
  },
  {
   "cell_type": "markdown",
   "metadata": {},
   "source": [
    "### FUNCTION: phjCalculateBinomialConfInts()"
   ]
  },
  {
   "cell_type": "code",
   "execution_count": null,
   "metadata": {},
   "outputs": [],
   "source": []
  },
  {
   "cell_type": "markdown",
   "metadata": {},
   "source": [
    "### FUNCTION: phjCalculateMultinomialProportions()"
   ]
  },
  {
   "cell_type": "code",
   "execution_count": null,
   "metadata": {},
   "outputs": [],
   "source": [
    "# Example of calculating multinomial proportions (using phjCalculateMultinomialProportions() function)\n",
    "# ==============================================\n",
    "\n",
    "# Create example dataset\n",
    "phjTempDF = pd.DataFrame({'group':['case','case','case','control','control','case','case','case','control','control','control','control','case','case','case','control','control','control','control','case','case','case','case','case',np.nan,np.nan],\n",
    "                          'category':[np.nan,'spaniel','missing','terrier','collie','labrador','labrador','collie','spaniel','spaniel','labrador','collie','terrier','terrier','terrier','collie','labrador','labrador','labrador','spaniel','spaniel','collie','collie','collie','terrier','spaniel'],\n",
    "                          'catint':[1,2,3,2,3,2,1,2,1,2,3,2,3,2,3,1,2,3,2,3,2,3,2,3,1,2]})\n",
    "\n",
    "print(phjTempDF)\n",
    "print('\\n')\n",
    "\n",
    "phjRelFreqDF = epy.phjCalculateMultinomialProportions(phjTempDF = phjTempDF,\n",
    "                                                      phjCategoryVarName = 'category',\n",
    "                                                      phjGroupVarName = 'group',\n",
    "                                                      phjMissingValue = 'missing',\n",
    "                                                      phjMultinomialConfIntMethod = 'goodman',\n",
    "                                                      phjAlpha = 0.05,\n",
    "                                                      phjPlotRelFreq = True,\n",
    "                                                      phjCategoriesToPlotList = 'all',\n",
    "                                                      phjGroupsToPlotList = 'all',   # Currently not implemented\n",
    "                                                      phjGraphTitle = 'Relative frequencies (Goodman CI)',\n",
    "                                                      phjPrintResults = True)\n",
    "\n",
    "print(phjRelFreqDF)"
   ]
  },
  {
   "cell_type": "code",
   "execution_count": null,
   "metadata": {},
   "outputs": [],
   "source": []
  },
  {
   "cell_type": "markdown",
   "metadata": {},
   "source": [
    "### FUNCTION: phjSummaryTableToBinaryOutcomes()"
   ]
  },
  {
   "cell_type": "code",
   "execution_count": null,
   "metadata": {},
   "outputs": [],
   "source": []
  },
  {
   "cell_type": "markdown",
   "metadata": {},
   "source": [
    "### FUNCTION: phjAnnualDiseaseTrend()"
   ]
  },
  {
   "cell_type": "code",
   "execution_count": 11,
   "metadata": {},
   "outputs": [
    {
     "name": "stdout",
     "output_type": "stream",
     "text": [
      "Optimization terminated successfully.\n",
      "         Current function value: 0.091853\n",
      "         Iterations 22\n"
     ]
    },
    {
     "data": {
      "image/png": "[encoded data removed]",
      "text/plain": [
       "<Figure size 720x432 with 1 Axes>"
      ]
     },
     "metadata": {
      "needs_background": "light"
     },
     "output_type": "display_data"
    }
   ],
   "source": [
    "phjDiseaseDF = pd.DataFrame({'year':[2008,2009,2010,2011,2012,2013,2014,2015,2016,2017,2018],\n",
    "                             'positive':[18,34,24,26,30,27,36,17,18,15,4],\n",
    "                             'negative':[1695,1733,1929,1517,1449,1329,1130,928,753,496,325]})\n",
    "\n",
    "phjDiseaseDF = epy.phjAnnualDiseaseTrend(phjDF = phjDiseaseDF.loc[phjDiseaseDF['year'] < 2018,:],\n",
    "                                         phjYearVarName = 'year',\n",
    "                                         phjPositivesVarName = 'positive',\n",
    "                                         phjNegativesVarName = 'negative',\n",
    "                                         phjTotalVarName = None,\n",
    "                                         phjConfIntMethod = 'normal',\n",
    "                                         phjAlpha = 0.05,\n",
    "                                         phjPlotProportions = True,\n",
    "                                         phjPlotPrediction = True,\n",
    "                                         phjGraphTitleStr = None,\n",
    "                                         phjPrintResults = False)"
   ]
  },
  {
   "cell_type": "markdown",
   "metadata": {},
   "source": [
    "---"
   ]
  },
  {
   "cell_type": "markdown",
   "metadata": {},
   "source": [
    "## FILE: phjCleanUKPostcodes.py"
   ]
  },
  {
   "cell_type": "markdown",
   "metadata": {},
   "source": [
    "### FUNCTION: phjCleanUKPostcodeVariable()"
   ]
  },
  {
   "cell_type": "markdown",
   "metadata": {},
   "source": [
    "#### Clean postcodes based on format alone"
   ]
  },
  {
   "cell_type": "code",
   "execution_count": 8,
   "metadata": {
    "scrolled": false
   },
   "outputs": [
    {
     "name": "stdout",
     "output_type": "stream",
     "text": [
      "\n",
      "Start dataframe\n",
      "===============\n",
      "\n",
      "                        postcode  pcdClean  pcd7  postcodeOutward  \\\n",
      "0                         NP45DG       NaN   NaN              NaN   \n",
      "1                        CH647TE       NaN   NaN              NaN   \n",
      "2                        CH5 4HE       NaN   NaN              NaN   \n",
      "3                        GIR 0AA       NaN   NaN              NaN   \n",
      "4                       NOT NOWN       NaN   NaN              NaN   \n",
      "5                         GIR0AB       NaN   NaN              NaN   \n",
      "6                         NOR12A       NaN   NaN              NaN   \n",
      "7                        no idea       NaN   NaN              NaN   \n",
      "8                        W1A 1AA       NaN   NaN              NaN   \n",
      "9                         missin       NaN   NaN              NaN   \n",
      "10                      NP4  OGH       NaN   NaN              NaN   \n",
      "11                      P012 OLL       NaN   NaN              NaN   \n",
      "12                          p01s       NaN   NaN              NaN   \n",
      "13                          ABCD       NaN   NaN              NaN   \n",
      "14                                     NaN   NaN              NaN   \n",
      "15                       ab123cd       NaN   NaN              NaN   \n",
      "16                      un-known       NaN   NaN              NaN   \n",
      "17                     B1    INJ       NaN   NaN              NaN   \n",
      "18                       AB123CD       NaN   NaN              NaN   \n",
      "19  No idea what the postcode is       NaN   NaN              NaN   \n",
      "20              ???NP4-5DG_*#          NaN   NaN              NaN   \n",
      "\n",
      "    someOtherCol  \n",
      "0            NaN  \n",
      "1            NaN  \n",
      "2            NaN  \n",
      "3            NaN  \n",
      "4            NaN  \n",
      "5            NaN  \n",
      "6            NaN  \n",
      "7            NaN  \n",
      "8            NaN  \n",
      "9            NaN  \n",
      "10           NaN  \n",
      "11           NaN  \n",
      "12           NaN  \n",
      "13           NaN  \n",
      "14           NaN  \n",
      "15           NaN  \n",
      "16           NaN  \n",
      "17           NaN  \n",
      "18           NaN  \n",
      "19           NaN  \n",
      "20           NaN  \n",
      "\n",
      "\n",
      "\n",
      "Correctly and incorrectly formatted postcodes (BEFORE ERROR CORRECTION):\n",
      "False    10\n",
      "True      7\n",
      "Name: pcdFormatCheck, dtype: int64\n",
      "                        postcode                 pcdClean pcdFormatCheck  \\\n",
      "0                         NP45DG                   NP45DG           True   \n",
      "1                        CH647TE                  CH647TE           True   \n",
      "2                        CH5 4HE                   CH54HE           True   \n",
      "3                        GIR 0AA                   GIR0AA           True   \n",
      "4                       NOT NOWN                  missing            NaN   \n",
      "5                         GIR0AB                   GIR0AB          False   \n",
      "6                         NOR12A                   NOR12A           True   \n",
      "7                        no idea                   NOIDEA          False   \n",
      "8                        W1A 1AA                   W1A1AA           True   \n",
      "9                         missin                  missing            NaN   \n",
      "10                      NP4  OGH                   NP4OGH          False   \n",
      "11                      P012 OLL                  P012OLL          False   \n",
      "12                          p01s                     P01S          False   \n",
      "13                          ABCD                     ABCD          False   \n",
      "14                                                missing            NaN   \n",
      "15                       ab123cd                  AB123CD          False   \n",
      "16                      un-known                  missing            NaN   \n",
      "17                     B1    INJ                    B1INJ          False   \n",
      "18                       AB123CD                  AB123CD          False   \n",
      "19  No idea what the postcode is  NOIDEAWHATTHEPOSTCODEIS          False   \n",
      "20              ???NP4-5DG_*#                      NP45DG           True   \n",
      "\n",
      "    pcdCleanStrLen  \n",
      "0                6  \n",
      "1                7  \n",
      "2                6  \n",
      "3                6  \n",
      "4                7  \n",
      "5                6  \n",
      "6                6  \n",
      "7                6  \n",
      "8                6  \n",
      "9                7  \n",
      "10               6  \n",
      "11               7  \n",
      "12               4  \n",
      "13               4  \n",
      "14               7  \n",
      "15               7  \n",
      "16               7  \n",
      "17               5  \n",
      "18               7  \n",
      "19              23  \n",
      "20               6  \n",
      "\n",
      "\n",
      "\n",
      "Correctly and incorrectly formatted postcodes (AFTER ERROR CORRECTION):\n",
      "True     10\n",
      "False     7\n",
      "Name: pcdFormatCheck, dtype: int64\n",
      "                        postcode pcdClean pcdFormatCheck  pcdCleanStrLen\n",
      "0                         NP45DG   NP45DG           True               6\n",
      "1                        CH647TE  CH647TE           True               7\n",
      "2                        CH5 4HE   CH54HE           True               6\n",
      "3                        GIR 0AA   GIR0AA           True               6\n",
      "4                       NOT NOWN  missing            NaN               7\n",
      "5                         GIR0AB   GIR0AB          False               6\n",
      "6                         NOR12A   NOR12A           True               6\n",
      "7                        no idea   NO1DEA          False               6\n",
      "8                        W1A 1AA   W1A1AA           True               6\n",
      "9                         missin  missing            NaN               7\n",
      "10                      NP4  OGH   NP40GH           True               6\n",
      "11                      P012 OLL  PO120LL           True               7\n",
      "12                          p01s     PO15          False               4\n",
      "13                          ABCD     ABCD          False               4\n",
      "14                                missing            NaN               7\n",
      "15                       ab123cd  AB123CD          False               7\n",
      "16                      un-known  missing            NaN               7\n",
      "17                     B1    INJ    B11NJ           True               5\n",
      "18                       AB123CD  AB123CD          False               7\n",
      "19  No idea what the postcode is  missing          False              23\n",
      "20              ???NP4-5DG_*#      NP45DG           True               6\n",
      "\n",
      "\n",
      "\n",
      "Final working postcode dataframe\n",
      "================================\n",
      "\n",
      "                        postcode pcdClean pcdFormatCheck  pcdCleanStrLen  \\\n",
      "0                         NP45DG   NP45DG           True               6   \n",
      "1                        CH647TE  CH647TE           True               7   \n",
      "2                        CH5 4HE   CH54HE           True               6   \n",
      "3                        GIR 0AA   GIR0AA           True               6   \n",
      "4                       NOT NOWN  missing            NaN               7   \n",
      "5                         GIR0AB  missing          False               6   \n",
      "6                         NOR12A   NOR12A           True               6   \n",
      "7                        no idea  missing          False               6   \n",
      "8                        W1A 1AA   W1A1AA           True               6   \n",
      "9                         missin  missing            NaN               7   \n",
      "10                      NP4  OGH   NP40GH           True               6   \n",
      "11                      P012 OLL  PO120LL           True               7   \n",
      "12                          p01s     PO15           True               4   \n",
      "13                          ABCD  missing          False               4   \n",
      "14                                missing            NaN               7   \n",
      "15                       ab123cd     AB12           True               7   \n",
      "16                      un-known  missing            NaN               7   \n",
      "17                     B1    INJ    B11NJ           True               5   \n",
      "18                       AB123CD     AB12           True               7   \n",
      "19  No idea what the postcode is  missing          False              23   \n",
      "20              ???NP4-5DG_*#      NP45DG           True               6   \n",
      "\n",
      "       pcd7 postcodeOutward postcodeInward pcdArea  \n",
      "0   NP4 5DG             NP4            5DG      NP  \n",
      "1   CH647TE            CH64            7TE      CH  \n",
      "2   CH5 4HE             CH5            4HE      CH  \n",
      "3   GIR 0AA             GIR            0AA     GIR  \n",
      "4       NaN             NaN            NaN     NaN  \n",
      "5       NaN             NaN            NaN     NaN  \n",
      "6   NOR 12A             NOR            12A     NOR  \n",
      "7       NaN             NaN            NaN     NaN  \n",
      "8   W1A 1AA             W1A            1AA       W  \n",
      "9       NaN             NaN            NaN     NaN  \n",
      "10  NP4 0GH             NP4            0GH      NP  \n",
      "11  PO120LL            PO12            0LL      PO  \n",
      "12      NaN            PO15            NaN      PO  \n",
      "13      NaN             NaN            NaN     NaN  \n",
      "14      NaN             NaN            NaN     NaN  \n",
      "15      NaN            AB12            NaN      AB  \n",
      "16      NaN             NaN            NaN     NaN  \n",
      "17  B1  1NJ              B1            1NJ       B  \n",
      "18      NaN            AB12            NaN      AB  \n",
      "19      NaN             NaN            NaN     NaN  \n",
      "20  NP4 5DG             NP4            5DG      NP  \n",
      "\n",
      "\n",
      "\n",
      "Returned dataframe\n",
      "==================\n",
      "\n",
      "                        postcode  someOtherCol pcdClean pcdFormatCheck  \\\n",
      "0                         NP45DG           NaN   NP45DG           True   \n",
      "1                        CH647TE           NaN  CH647TE           True   \n",
      "2                        CH5 4HE           NaN   CH54HE           True   \n",
      "3                        GIR 0AA           NaN   GIR0AA           True   \n",
      "4                       NOT NOWN           NaN  missing            NaN   \n",
      "5                         GIR0AB           NaN  missing          False   \n",
      "6                         NOR12A           NaN   NOR12A           True   \n",
      "7                        no idea           NaN  missing          False   \n",
      "8                        W1A 1AA           NaN   W1A1AA           True   \n",
      "9                         missin           NaN  missing            NaN   \n",
      "10                      NP4  OGH           NaN   NP40GH           True   \n",
      "11                      P012 OLL           NaN  PO120LL           True   \n",
      "12                          p01s           NaN     PO15           True   \n",
      "13                          ABCD           NaN  missing          False   \n",
      "14                                         NaN  missing            NaN   \n",
      "15                       ab123cd           NaN     AB12           True   \n",
      "16                      un-known           NaN  missing            NaN   \n",
      "17                     B1    INJ           NaN    B11NJ           True   \n",
      "18                       AB123CD           NaN     AB12           True   \n",
      "19  No idea what the postcode is           NaN  missing          False   \n",
      "20              ???NP4-5DG_*#              NaN   NP45DG           True   \n",
      "\n",
      "    pcdCleanStrLen     pcd7 postcodeOutward postcodeInward pcdArea  \n",
      "0                6  NP4 5DG             NP4            5DG      NP  \n",
      "1                7  CH647TE            CH64            7TE      CH  \n",
      "2                6  CH5 4HE             CH5            4HE      CH  \n",
      "3                6  GIR 0AA             GIR            0AA     GIR  \n",
      "4                7      NaN             NaN            NaN     NaN  \n",
      "5                6      NaN             NaN            NaN     NaN  \n",
      "6                6  NOR 12A             NOR            12A     NOR  \n",
      "7                6      NaN             NaN            NaN     NaN  \n",
      "8                6  W1A 1AA             W1A            1AA       W  \n",
      "9                7      NaN             NaN            NaN     NaN  \n",
      "10               6  NP4 0GH             NP4            0GH      NP  \n",
      "11               7  PO120LL            PO12            0LL      PO  \n",
      "12               4      NaN            PO15            NaN      PO  \n",
      "13               4      NaN             NaN            NaN     NaN  \n",
      "14               7      NaN             NaN            NaN     NaN  \n",
      "15               7      NaN            AB12            NaN      AB  \n",
      "16               7      NaN             NaN            NaN     NaN  \n",
      "17               5  B1  1NJ              B1            1NJ       B  \n",
      "18               7      NaN            AB12            NaN      AB  \n",
      "19              23      NaN             NaN            NaN     NaN  \n",
      "20               6  NP4 5DG             NP4            5DG      NP  \n"
     ]
    },
    {
     "name": "stderr",
     "output_type": "stream",
     "text": [
      "/Users/philipjones/Documents/python_venvs/gen_python37_venv/venv37/lib/python3.7/site-packages/pandas/core/strings.py:1843: UserWarning: This pattern has match groups. To actually get the groups, use str.extract.\n",
      "  return func(self, *args, **kwargs)\n"
     ]
    }
   ],
   "source": [
    "import re\n",
    "\n",
    "# Create test dataframe\n",
    "myTestPostcodeDF = pd.DataFrame({'postcode': ['NP45DG',\n",
    "                                              'CH647TE',\n",
    "                                              'CH5 4HE',\n",
    "                                              'GIR 0AA',\n",
    "                                              'NOT NOWN',\n",
    "                                              'GIR0AB',\n",
    "                                              'NOR12A',\n",
    "                                              'no idea',\n",
    "                                              'W1A 1AA',\n",
    "                                              'missin',\n",
    "                                              'NP4  OGH',\n",
    "                                              'P012 OLL',\n",
    "                                              'p01s',\n",
    "                                              'ABCD',\n",
    "                                              '',\n",
    "                                              'ab123cd',\n",
    "                                              'un-known',\n",
    "                                              'B1    INJ',\n",
    "                                              'AB123CD',\n",
    "                                              'No idea what the postcode is',\n",
    "                                              '    ???NP4-5DG_*#   '],\n",
    "                                 'pcdClean': np.nan,\n",
    "                                 'pcd7': np.nan,\n",
    "                                 'postcodeOutward': np.nan,\n",
    "                                 'someOtherCol': np.nan})\n",
    "\n",
    "# Run function to extract postcode data\n",
    "print('\\nStart dataframe\\n===============\\n')\n",
    "print(myTestPostcodeDF)\n",
    "print('\\n')\n",
    "\n",
    "myTestPostcodeDF = epy.phjCleanUKPostcodeVariable(phjDF = myTestPostcodeDF,\n",
    "                                                  phjRealPostcodeSer = None,\n",
    "                                                  phjOrigPostcodeVarName = 'postcode',\n",
    "                                                  phjNewPostcodeVarName = 'pcdClean',\n",
    "                                                  phjNewPostcodeStrLenVarName = 'pcdCleanStrLen',\n",
    "                                                  phjPostcodeCheckVarName = 'pcdFormatCheck',\n",
    "                                                  phjMissingValueCode = 'missing',\n",
    "                                                  phjMinDamerauLevenshteinDistanceVarName = 'minDamLevDist',\n",
    "                                                  phjBestAlternativesVarName = 'bestAlternatives',\n",
    "                                                  phjPostcode7VarName = 'pcd7',\n",
    "                                                  phjPostcodeAreaVarName = 'pcdArea',\n",
    "                                                  phjSalvageOutwardPostcodeComponent = True,\n",
    "                                                  phjCheckByOption = 'format',\n",
    "                                                  phjDropExisting = True,\n",
    "                                                  phjPrintResults = True)\n",
    "\n",
    "print('\\nReturned dataframe\\n==================\\n')\n",
    "print(myTestPostcodeDF)"
   ]
  },
  {
   "cell_type": "markdown",
   "metadata": {},
   "source": [
    "#### Clean postcodes based on real postcode and identify closest matches"
   ]
  },
  {
   "cell_type": "code",
   "execution_count": 10,
   "metadata": {
    "scrolled": false
   },
   "outputs": [
    {
     "name": "stdout",
     "output_type": "stream",
     "text": [
      "\n",
      "Start dataframe\n",
      "===============\n",
      "\n",
      "                        postcode  pcdClean  pcd7  postcodeOutward  \\\n",
      "0                         NP45DG       NaN   NaN              NaN   \n",
      "1                        CH647TE       NaN   NaN              NaN   \n",
      "2                        CH5 4HE       NaN   NaN              NaN   \n",
      "3                        GIR 0AA       NaN   NaN              NaN   \n",
      "4                       NOT NOWN       NaN   NaN              NaN   \n",
      "5                         GIR0AB       NaN   NaN              NaN   \n",
      "6                         NOR12A       NaN   NaN              NaN   \n",
      "7                        no idea       NaN   NaN              NaN   \n",
      "8                        W1A 1AA       NaN   NaN              NaN   \n",
      "9                         missin       NaN   NaN              NaN   \n",
      "10                      NP4  OGH       NaN   NaN              NaN   \n",
      "11                      P012 OLL       NaN   NaN              NaN   \n",
      "12                          p01s       NaN   NaN              NaN   \n",
      "13                          ABCD       NaN   NaN              NaN   \n",
      "14                                     NaN   NaN              NaN   \n",
      "15                       ab123cd       NaN   NaN              NaN   \n",
      "16                      un-known       NaN   NaN              NaN   \n",
      "17                     B1    INJ       NaN   NaN              NaN   \n",
      "18                       AB123CD       NaN   NaN              NaN   \n",
      "19  No idea what the postcode is       NaN   NaN              NaN   \n",
      "20              ???NP4-5DG_*#          NaN   NaN              NaN   \n",
      "\n",
      "    someOtherCol  \n",
      "0            NaN  \n",
      "1            NaN  \n",
      "2            NaN  \n",
      "3            NaN  \n",
      "4            NaN  \n",
      "5            NaN  \n",
      "6            NaN  \n",
      "7            NaN  \n",
      "8            NaN  \n",
      "9            NaN  \n",
      "10           NaN  \n",
      "11           NaN  \n",
      "12           NaN  \n",
      "13           NaN  \n",
      "14           NaN  \n",
      "15           NaN  \n",
      "16           NaN  \n",
      "17           NaN  \n",
      "18           NaN  \n",
      "19           NaN  \n",
      "20           NaN  \n",
      "\n",
      "\n",
      "\n",
      "Correctly and incorrectly formatted postcodes (BEFORE ERROR CORRECTION):\n",
      "False    12\n",
      "True      5\n",
      "Name: pcdFormatCheck, dtype: int64\n",
      "                        postcode                 pcdClean pcdFormatCheck  \\\n",
      "0                         NP45DG                   NP45DG           True   \n",
      "1                        CH647TE                  CH647TE           True   \n",
      "2                        CH5 4HE                   CH54HE           True   \n",
      "3                        GIR 0AA                   GIR0AA          False   \n",
      "4                       NOT NOWN                  missing            NaN   \n",
      "5                         GIR0AB                   GIR0AB          False   \n",
      "6                         NOR12A                   NOR12A          False   \n",
      "7                        no idea                   NOIDEA          False   \n",
      "8                        W1A 1AA                   W1A1AA           True   \n",
      "9                         missin                  missing            NaN   \n",
      "10                      NP4  OGH                   NP4OGH          False   \n",
      "11                      P012 OLL                  P012OLL          False   \n",
      "12                          p01s                     P01S          False   \n",
      "13                          ABCD                     ABCD          False   \n",
      "14                                                missing            NaN   \n",
      "15                       ab123cd                  AB123CD          False   \n",
      "16                      un-known                  missing            NaN   \n",
      "17                     B1    INJ                    B1INJ          False   \n",
      "18                       AB123CD                  AB123CD          False   \n",
      "19  No idea what the postcode is  NOIDEAWHATTHEPOSTCODEIS          False   \n",
      "20              ???NP4-5DG_*#                      NP45DG           True   \n",
      "\n",
      "    pcdCleanStrLen  \n",
      "0                6  \n",
      "1                7  \n",
      "2                6  \n",
      "3                6  \n",
      "4                7  \n",
      "5                6  \n",
      "6                6  \n",
      "7                6  \n",
      "8                6  \n",
      "9                7  \n",
      "10               6  \n",
      "11               7  \n",
      "12               4  \n",
      "13               4  \n",
      "14               7  \n",
      "15               7  \n",
      "16               7  \n",
      "17               5  \n",
      "18               7  \n",
      "19              23  \n",
      "20               6  \n",
      "\n",
      "\n",
      "\n",
      "Correctly and incorrectly formatted postcodes (AFTER ERROR CORRECTION):\n",
      "False    10\n",
      "True      7\n",
      "Name: pcdFormatCheck, dtype: int64\n",
      "                        postcode pcdClean pcdFormatCheck  pcdCleanStrLen\n",
      "0                         NP45DG   NP45DG           True               6\n",
      "1                        CH647TE  CH647TE           True               7\n",
      "2                        CH5 4HE   CH54HE           True               6\n",
      "3                        GIR 0AA   GIR0AA          False               6\n",
      "4                       NOT NOWN  missing            NaN               7\n",
      "5                         GIR0AB   GIR0AB          False               6\n",
      "6                         NOR12A   NOR1ZA          False               6\n",
      "7                        no idea   NO1DEA          False               6\n",
      "8                        W1A 1AA   W1A1AA           True               6\n",
      "9                         missin  missing            NaN               7\n",
      "10                      NP4  OGH   NP40GH           True               6\n",
      "11                      P012 OLL  PO120LL           True               7\n",
      "12                          p01s     PO15          False               4\n",
      "13                          ABCD     ABCD          False               4\n",
      "14                                missing            NaN               7\n",
      "15                       ab123cd  AB123CD          False               7\n",
      "16                      un-known  missing            NaN               7\n",
      "17                     B1    INJ    B11NJ          False               5\n",
      "18                       AB123CD  AB123CD          False               7\n",
      "19  No idea what the postcode is  missing          False              23\n",
      "20              ???NP4-5DG_*#      NP45DG           True               6\n",
      "\n",
      "\n",
      "Consider first postcode entry: GIR0AA\n",
      "Consider first postcode entry: GIR0AA\n"
     ]
    },
    {
     "ename": "NameError",
     "evalue": "(\"name 'pyxdl' is not defined\", 'occurred at index 3')",
     "output_type": "error",
     "traceback": [
      "\u001b[0;31m---------------------------------------------------------------------------\u001b[0m",
      "\u001b[0;31mNameError\u001b[0m                                 Traceback (most recent call last)",
      "\u001b[0;32m<ipython-input-10-df4f54ef75f8>\u001b[0m in \u001b[0;36m<module>\u001b[0;34m\u001b[0m\n\u001b[1;32m     53\u001b[0m                                                   \u001b[0mphjCheckByOption\u001b[0m \u001b[0;34m=\u001b[0m \u001b[0;34m'dictionary'\u001b[0m\u001b[0;34m,\u001b[0m\u001b[0;34m\u001b[0m\u001b[0;34m\u001b[0m\u001b[0m\n\u001b[1;32m     54\u001b[0m                                                   \u001b[0mphjDropExisting\u001b[0m \u001b[0;34m=\u001b[0m \u001b[0;32mTrue\u001b[0m\u001b[0;34m,\u001b[0m\u001b[0;34m\u001b[0m\u001b[0;34m\u001b[0m\u001b[0m\n\u001b[0;32m---> 55\u001b[0;31m                                                   phjPrintResults = True)\n\u001b[0m\u001b[1;32m     56\u001b[0m \u001b[0;34m\u001b[0m\u001b[0m\n\u001b[1;32m     57\u001b[0m \u001b[0mprint\u001b[0m\u001b[0;34m(\u001b[0m\u001b[0;34m'\\nReturned dataframe\\n==================\\n'\u001b[0m\u001b[0;34m)\u001b[0m\u001b[0;34m\u001b[0m\u001b[0;34m\u001b[0m\u001b[0m\n",
      "\u001b[0;32m~/Documents/git_repositories/epydemiology/epydemiology/phjCleanUKPostcodes.py\u001b[0m in \u001b[0;36mphjCleanUKPostcodeVariable\u001b[0;34m(phjDF, phjRealPostcodeSer, phjOrigPostcodeVarName, phjNewPostcodeVarName, phjNewPostcodeStrLenVarName, phjPostcodeCheckVarName, phjMissingValueCode, phjMinDamerauLevenshteinDistanceVarName, phjBestAlternativesVarName, phjPostcode7VarName, phjPostcodeAreaVarName, phjSalvageOutwardPostcodeComponent, phjCheckByOption, phjDropExisting, phjPrintResults)\u001b[0m\n\u001b[1;32m    243\u001b[0m                                                                   \u001b[0mphjMinDamerauLevenshteinDistanceVarName\u001b[0m \u001b[0;34m=\u001b[0m \u001b[0mphjMinDamerauLevenshteinDistanceVarName\u001b[0m\u001b[0;34m,\u001b[0m\u001b[0;34m\u001b[0m\u001b[0;34m\u001b[0m\u001b[0m\n\u001b[1;32m    244\u001b[0m                                                                   \u001b[0mphjBestAlternativesVarName\u001b[0m \u001b[0;34m=\u001b[0m \u001b[0mphjBestAlternativesVarName\u001b[0m\u001b[0;34m,\u001b[0m\u001b[0;34m\u001b[0m\u001b[0;34m\u001b[0m\u001b[0m\n\u001b[0;32m--> 245\u001b[0;31m                                                                   phjPrintResults = phjPrintResults)\n\u001b[0m\u001b[1;32m    246\u001b[0m \u001b[0;34m\u001b[0m\u001b[0m\n\u001b[1;32m    247\u001b[0m \u001b[0;34m\u001b[0m\u001b[0m\n",
      "\u001b[0;32m~/Documents/git_repositories/epydemiology/epydemiology/phjCleanUKPostcodes.py\u001b[0m in \u001b[0;36mphjGetBestAlternativePostcodes\u001b[0;34m(phjDF, phjRealPostcodeArr, phjNewPostcodeVarName, phjNewPostcodeStrLenVarName, phjPostcodeCheckVarName, phjMinDamerauLevenshteinDistanceVarName, phjBestAlternativesVarName, phjPrintResults)\u001b[0m\n\u001b[1;32m   1062\u001b[0m                                                                                                            \u001b[0mphjRealPostcodeArr\u001b[0m \u001b[0;34m=\u001b[0m \u001b[0mphjRealPostcodeArr\u001b[0m\u001b[0;34m,\u001b[0m\u001b[0;34m\u001b[0m\u001b[0;34m\u001b[0m\u001b[0m\n\u001b[1;32m   1063\u001b[0m                                                                                                            \u001b[0mphjNewPostcodeVarName\u001b[0m \u001b[0;34m=\u001b[0m \u001b[0mphjNewPostcodeVarName\u001b[0m\u001b[0;34m,\u001b[0m\u001b[0;34m\u001b[0m\u001b[0;34m\u001b[0m\u001b[0m\n\u001b[0;32m-> 1064\u001b[0;31m                                                                                                            phjAllowedEdits = 1),axis = 1)\n\u001b[0m\u001b[1;32m   1065\u001b[0m \u001b[0;34m\u001b[0m\u001b[0m\n\u001b[1;32m   1066\u001b[0m     \u001b[0mphjDF\u001b[0m\u001b[0;34m.\u001b[0m\u001b[0mupdate\u001b[0m\u001b[0;34m(\u001b[0m\u001b[0mphjScratchDF\u001b[0m\u001b[0;34m)\u001b[0m\u001b[0;34m\u001b[0m\u001b[0;34m\u001b[0m\u001b[0m\n",
      "\u001b[0;32m~/Documents/python_venvs/gen_python37_venv/venv37/lib/python3.7/site-packages/pandas/core/frame.py\u001b[0m in \u001b[0;36mapply\u001b[0;34m(self, func, axis, broadcast, raw, reduce, result_type, args, **kwds)\u001b[0m\n\u001b[1;32m   6904\u001b[0m             \u001b[0mkwds\u001b[0m\u001b[0;34m=\u001b[0m\u001b[0mkwds\u001b[0m\u001b[0;34m,\u001b[0m\u001b[0;34m\u001b[0m\u001b[0;34m\u001b[0m\u001b[0m\n\u001b[1;32m   6905\u001b[0m         )\n\u001b[0;32m-> 6906\u001b[0;31m         \u001b[0;32mreturn\u001b[0m \u001b[0mop\u001b[0m\u001b[0;34m.\u001b[0m\u001b[0mget_result\u001b[0m\u001b[0;34m(\u001b[0m\u001b[0;34m)\u001b[0m\u001b[0;34m\u001b[0m\u001b[0;34m\u001b[0m\u001b[0m\n\u001b[0m\u001b[1;32m   6907\u001b[0m \u001b[0;34m\u001b[0m\u001b[0m\n\u001b[1;32m   6908\u001b[0m     \u001b[0;32mdef\u001b[0m \u001b[0mapplymap\u001b[0m\u001b[0;34m(\u001b[0m\u001b[0mself\u001b[0m\u001b[0;34m,\u001b[0m \u001b[0mfunc\u001b[0m\u001b[0;34m)\u001b[0m\u001b[0;34m:\u001b[0m\u001b[0;34m\u001b[0m\u001b[0;34m\u001b[0m\u001b[0m\n",
      "\u001b[0;32m~/Documents/python_venvs/gen_python37_venv/venv37/lib/python3.7/site-packages/pandas/core/apply.py\u001b[0m in \u001b[0;36mget_result\u001b[0;34m(self)\u001b[0m\n\u001b[1;32m    184\u001b[0m             \u001b[0;32mreturn\u001b[0m \u001b[0mself\u001b[0m\u001b[0;34m.\u001b[0m\u001b[0mapply_raw\u001b[0m\u001b[0;34m(\u001b[0m\u001b[0;34m)\u001b[0m\u001b[0;34m\u001b[0m\u001b[0;34m\u001b[0m\u001b[0m\n\u001b[1;32m    185\u001b[0m \u001b[0;34m\u001b[0m\u001b[0m\n\u001b[0;32m--> 186\u001b[0;31m         \u001b[0;32mreturn\u001b[0m \u001b[0mself\u001b[0m\u001b[0;34m.\u001b[0m\u001b[0mapply_standard\u001b[0m\u001b[0;34m(\u001b[0m\u001b[0;34m)\u001b[0m\u001b[0;34m\u001b[0m\u001b[0;34m\u001b[0m\u001b[0m\n\u001b[0m\u001b[1;32m    187\u001b[0m \u001b[0;34m\u001b[0m\u001b[0m\n\u001b[1;32m    188\u001b[0m     \u001b[0;32mdef\u001b[0m \u001b[0mapply_empty_result\u001b[0m\u001b[0;34m(\u001b[0m\u001b[0mself\u001b[0m\u001b[0;34m)\u001b[0m\u001b[0;34m:\u001b[0m\u001b[0;34m\u001b[0m\u001b[0;34m\u001b[0m\u001b[0m\n",
      "\u001b[0;32m~/Documents/python_venvs/gen_python37_venv/venv37/lib/python3.7/site-packages/pandas/core/apply.py\u001b[0m in \u001b[0;36mapply_standard\u001b[0;34m(self)\u001b[0m\n\u001b[1;32m    290\u001b[0m \u001b[0;34m\u001b[0m\u001b[0m\n\u001b[1;32m    291\u001b[0m         \u001b[0;31m# compute the result using the series generator\u001b[0m\u001b[0;34m\u001b[0m\u001b[0;34m\u001b[0m\u001b[0;34m\u001b[0m\u001b[0m\n\u001b[0;32m--> 292\u001b[0;31m         \u001b[0mself\u001b[0m\u001b[0;34m.\u001b[0m\u001b[0mapply_series_generator\u001b[0m\u001b[0;34m(\u001b[0m\u001b[0;34m)\u001b[0m\u001b[0;34m\u001b[0m\u001b[0;34m\u001b[0m\u001b[0m\n\u001b[0m\u001b[1;32m    293\u001b[0m \u001b[0;34m\u001b[0m\u001b[0m\n\u001b[1;32m    294\u001b[0m         \u001b[0;31m# wrap results\u001b[0m\u001b[0;34m\u001b[0m\u001b[0;34m\u001b[0m\u001b[0;34m\u001b[0m\u001b[0m\n",
      "\u001b[0;32m~/Documents/python_venvs/gen_python37_venv/venv37/lib/python3.7/site-packages/pandas/core/apply.py\u001b[0m in \u001b[0;36mapply_series_generator\u001b[0;34m(self)\u001b[0m\n\u001b[1;32m    319\u001b[0m             \u001b[0;32mtry\u001b[0m\u001b[0;34m:\u001b[0m\u001b[0;34m\u001b[0m\u001b[0;34m\u001b[0m\u001b[0m\n\u001b[1;32m    320\u001b[0m                 \u001b[0;32mfor\u001b[0m \u001b[0mi\u001b[0m\u001b[0;34m,\u001b[0m \u001b[0mv\u001b[0m \u001b[0;32min\u001b[0m \u001b[0menumerate\u001b[0m\u001b[0;34m(\u001b[0m\u001b[0mseries_gen\u001b[0m\u001b[0;34m)\u001b[0m\u001b[0;34m:\u001b[0m\u001b[0;34m\u001b[0m\u001b[0;34m\u001b[0m\u001b[0m\n\u001b[0;32m--> 321\u001b[0;31m                     \u001b[0mresults\u001b[0m\u001b[0;34m[\u001b[0m\u001b[0mi\u001b[0m\u001b[0;34m]\u001b[0m \u001b[0;34m=\u001b[0m \u001b[0mself\u001b[0m\u001b[0;34m.\u001b[0m\u001b[0mf\u001b[0m\u001b[0;34m(\u001b[0m\u001b[0mv\u001b[0m\u001b[0;34m)\u001b[0m\u001b[0;34m\u001b[0m\u001b[0;34m\u001b[0m\u001b[0m\n\u001b[0m\u001b[1;32m    322\u001b[0m                     \u001b[0mkeys\u001b[0m\u001b[0;34m.\u001b[0m\u001b[0mappend\u001b[0m\u001b[0;34m(\u001b[0m\u001b[0mv\u001b[0m\u001b[0;34m.\u001b[0m\u001b[0mname\u001b[0m\u001b[0;34m)\u001b[0m\u001b[0;34m\u001b[0m\u001b[0;34m\u001b[0m\u001b[0m\n\u001b[1;32m    323\u001b[0m             \u001b[0;32mexcept\u001b[0m \u001b[0mException\u001b[0m \u001b[0;32mas\u001b[0m \u001b[0me\u001b[0m\u001b[0;34m:\u001b[0m\u001b[0;34m\u001b[0m\u001b[0;34m\u001b[0m\u001b[0m\n",
      "\u001b[0;32m~/Documents/git_repositories/epydemiology/epydemiology/phjCleanUKPostcodes.py\u001b[0m in \u001b[0;36m<lambda>\u001b[0;34m(x)\u001b[0m\n\u001b[1;32m   1062\u001b[0m                                                                                                            \u001b[0mphjRealPostcodeArr\u001b[0m \u001b[0;34m=\u001b[0m \u001b[0mphjRealPostcodeArr\u001b[0m\u001b[0;34m,\u001b[0m\u001b[0;34m\u001b[0m\u001b[0;34m\u001b[0m\u001b[0m\n\u001b[1;32m   1063\u001b[0m                                                                                                            \u001b[0mphjNewPostcodeVarName\u001b[0m \u001b[0;34m=\u001b[0m \u001b[0mphjNewPostcodeVarName\u001b[0m\u001b[0;34m,\u001b[0m\u001b[0;34m\u001b[0m\u001b[0;34m\u001b[0m\u001b[0m\n\u001b[0;32m-> 1064\u001b[0;31m                                                                                                            phjAllowedEdits = 1),axis = 1)\n\u001b[0m\u001b[1;32m   1065\u001b[0m \u001b[0;34m\u001b[0m\u001b[0m\n\u001b[1;32m   1066\u001b[0m     \u001b[0mphjDF\u001b[0m\u001b[0;34m.\u001b[0m\u001b[0mupdate\u001b[0m\u001b[0;34m(\u001b[0m\u001b[0mphjScratchDF\u001b[0m\u001b[0;34m)\u001b[0m\u001b[0;34m\u001b[0m\u001b[0;34m\u001b[0m\u001b[0m\n",
      "\u001b[0;32m~/Documents/git_repositories/epydemiology/epydemiology/phjCleanUKPostcodes.py\u001b[0m in \u001b[0;36mphjCalcMinDamLevDistAndEdits\u001b[0;34m(x, phjRealPostcodeArr, phjNewPostcodeVarName, phjAllowedEdits)\u001b[0m\n\u001b[1;32m   1081\u001b[0m \u001b[0;34m\u001b[0m\u001b[0m\n\u001b[1;32m   1082\u001b[0m     \u001b[0;31m# Calculate distance from string to each postcode in dataframe\u001b[0m\u001b[0;34m\u001b[0m\u001b[0;34m\u001b[0m\u001b[0;34m\u001b[0m\u001b[0m\n\u001b[0;32m-> 1083\u001b[0;31m     \u001b[0mphjPostcodeDF\u001b[0m\u001b[0;34m[\u001b[0m\u001b[0;34m'tempDL'\u001b[0m\u001b[0;34m]\u001b[0m \u001b[0;34m=\u001b[0m \u001b[0mpyxdl\u001b[0m\u001b[0;34m.\u001b[0m\u001b[0mdamerau_levenshtein_distance_ndarray\u001b[0m\u001b[0;34m(\u001b[0m\u001b[0mx\u001b[0m\u001b[0;34m[\u001b[0m\u001b[0mphjNewPostcodeVarName\u001b[0m\u001b[0;34m]\u001b[0m\u001b[0;34m,\u001b[0m \u001b[0mphjRealPostcodeArr\u001b[0m\u001b[0;34m)\u001b[0m\u001b[0;34m\u001b[0m\u001b[0;34m\u001b[0m\u001b[0m\n\u001b[0m\u001b[1;32m   1084\u001b[0m \u001b[0;34m\u001b[0m\u001b[0m\n\u001b[1;32m   1085\u001b[0m     \u001b[0;31m# Calculate minimum DL distance\u001b[0m\u001b[0;34m\u001b[0m\u001b[0;34m\u001b[0m\u001b[0;34m\u001b[0m\u001b[0m\n",
      "\u001b[0;31mNameError\u001b[0m: (\"name 'pyxdl' is not defined\", 'occurred at index 3')"
     ]
    }
   ],
   "source": [
    "import re\n",
    "\n",
    "# N.B. When calculating best alternative postcodes, only postcodes that are within\n",
    "# 1 DL distance are considered.\n",
    "\n",
    "# Create a Pandas series that could contain all the postcodes in the UK\n",
    "realPostcodesSer = pd.Series(['NP4 5DG','CH647TE','CH5 4HE','W1A 1AA','NP4 0GH','PO120LL','AB123CF','AB124DF','AB123CV'])\n",
    "\n",
    "# Create test dataframe\n",
    "myTestPostcodeDF = pd.DataFrame({'postcode': ['NP45DG',\n",
    "                                              'CH647TE',\n",
    "                                              'CH5 4HE',\n",
    "                                              'GIR 0AA',\n",
    "                                              'NOT NOWN',\n",
    "                                              'GIR0AB',\n",
    "                                              'NOR12A',\n",
    "                                              'no idea',\n",
    "                                              'W1A 1AA',\n",
    "                                              'missin',\n",
    "                                              'NP4  OGH',\n",
    "                                              'P012 OLL',\n",
    "                                              'p01s',\n",
    "                                              'ABCD',\n",
    "                                              '',\n",
    "                                              'ab123cd',\n",
    "                                              'un-known',\n",
    "                                              'B1    INJ',\n",
    "                                              'AB123CD',\n",
    "                                              'No idea what the postcode is',\n",
    "                                              '    ???NP4-5DG_*#   '],\n",
    "                                 'pcdClean': np.nan,\n",
    "                                 'pcd7': np.nan,\n",
    "                                 'postcodeOutward': np.nan,\n",
    "                                 'someOtherCol': np.nan})\n",
    "\n",
    "# Run function to extract postcode data\n",
    "print('\\nStart dataframe\\n===============\\n')\n",
    "print(myTestPostcodeDF)\n",
    "print('\\n')\n",
    "\n",
    "myTestPostcodeDF = epy.phjCleanUKPostcodeVariable(phjDF = myTestPostcodeDF,\n",
    "                                                  phjRealPostcodeSer = realPostcodesSer,\n",
    "                                                  phjOrigPostcodeVarName = 'postcode',\n",
    "                                                  phjNewPostcodeVarName = 'pcdClean',\n",
    "                                                  phjNewPostcodeStrLenVarName = 'pcdCleanStrLen',\n",
    "                                                  phjPostcodeCheckVarName = 'pcdFormatCheck',\n",
    "                                                  phjMissingValueCode = 'missing',\n",
    "                                                  phjMinDamerauLevenshteinDistanceVarName = 'minDamLevDist',\n",
    "                                                  phjBestAlternativesVarName = 'bestAlternatives',\n",
    "                                                  phjPostcode7VarName = 'pcd7',\n",
    "                                                  phjPostcodeAreaVarName = 'pcdArea',\n",
    "                                                  phjSalvageOutwardPostcodeComponent = True,\n",
    "                                                  phjCheckByOption = 'dictionary',\n",
    "                                                  phjDropExisting = True,\n",
    "                                                  phjPrintResults = True)\n",
    "\n",
    "print('\\nReturned dataframe\\n==================\\n')\n",
    "print(myTestPostcodeDF)"
   ]
  },
  {
   "cell_type": "markdown",
   "metadata": {},
   "source": [
    "### FUNCTION: phjPostcodeFormat7()"
   ]
  },
  {
   "cell_type": "code",
   "execution_count": null,
   "metadata": {},
   "outputs": [],
   "source": []
  },
  {
   "cell_type": "markdown",
   "metadata": {},
   "source": [
    "---"
   ]
  },
  {
   "cell_type": "markdown",
   "metadata": {},
   "source": [
    "## FILE: phjCleanData"
   ]
  },
  {
   "cell_type": "markdown",
   "metadata": {},
   "source": [
    "### FUNCTION: phjParseDateVar()"
   ]
  },
  {
   "cell_type": "code",
   "execution_count": null,
   "metadata": {},
   "outputs": [],
   "source": []
  },
  {
   "cell_type": "markdown",
   "metadata": {},
   "source": [
    "---"
   ]
  },
  {
   "cell_type": "markdown",
   "metadata": {},
   "source": [
    "## FILE: phjExploreData"
   ]
  },
  {
   "cell_type": "markdown",
   "metadata": {},
   "source": [
    "### FUNCTION: phjViewLogOdds()\n",
    "Example of viewing log odds plotted against mid-point of categories."
   ]
  },
  {
   "cell_type": "markdown",
   "metadata": {},
   "source": [
    "#### Categorise using Jenks breaks and using 'yes' and 'no' as binary outcome"
   ]
  },
  {
   "cell_type": "code",
   "execution_count": null,
   "metadata": {},
   "outputs": [],
   "source": [
    "# Define example dataset\n",
    "phjTempDF = pd.DataFrame({'binDepVar':['yes']*50000 + ['no']*50000,\n",
    "                          'riskFactorCont':np.random.uniform(0,1,100000)})\n",
    "\n",
    "with pd.option_context('display.max_rows', 10, 'display.max_columns', 5):\n",
    "    print(phjTempDF)\n",
    "\n",
    "    \n",
    "# View log odds\n",
    "phjTempDF = epy.phjViewLogOdds(phjTempDF = phjTempDF,\n",
    "                               phjBinaryDepVarName = 'binDepVar',\n",
    "                               phjContIndepVarName = 'riskFactorCont',\n",
    "                               phjCaseValue = 'yes',\n",
    "                               phjMissingValue = 'missing',\n",
    "                               phjNumberOfCategoriesInt = 5,\n",
    "                               phjNewCategoryVarName = 'categoricalVar',\n",
    "                               phjCategorisationMethod = 'jenks',\n",
    "                               phjGroupNameVar = None,\n",
    "                               phjPrintResults = False)\n",
    "\n",
    "with pd.option_context('display.max_rows', 10, 'display.max_columns', 10):\n",
    "    print('Log odds for categorised variable')\n",
    "    print(phjTempDF)"
   ]
  },
  {
   "cell_type": "markdown",
   "metadata": {},
   "source": [
    "#### Categorise using quantile breaks and using 1 and 0 as binary outcome"
   ]
  },
  {
   "cell_type": "code",
   "execution_count": null,
   "metadata": {},
   "outputs": [],
   "source": [
    "# Define example dataset\n",
    "phjTempDF = pd.DataFrame({'binDepVar':[1]*50000 + [0]*50000,\n",
    "                          'riskFactorCont':np.random.uniform(0,1,100000)})\n",
    "\n",
    "with pd.option_context('display.max_rows', 10, 'display.max_columns', 5):\n",
    "    print(phjTempDF)\n",
    "\n",
    "    \n",
    "# View log odds\n",
    "phjTempDF = epy.phjViewLogOdds(phjTempDF = phjTempDF,\n",
    "                               phjBinaryDepVarName = 'binDepVar',\n",
    "                               phjContIndepVarName = 'riskFactorCont',\n",
    "                               phjCaseValue = 1,\n",
    "                               phjMissingValue = 'missing',\n",
    "                               phjNumberOfCategoriesInt = 8,\n",
    "                               phjNewCategoryVarName = 'categoricalVar',\n",
    "                               phjCategorisationMethod = 'quantile',\n",
    "                               phjGroupNameVar = None,\n",
    "                               phjPrintResults = False)\n",
    "\n",
    "with pd.option_context('display.max_rows', 10, 'display.max_columns', 10):\n",
    "    print('Log odds for categorised variable')\n",
    "    print(phjTempDF)"
   ]
  },
  {
   "cell_type": "markdown",
   "metadata": {},
   "source": [
    "### FUNCTION: phjCategoriseContinuousVariable()"
   ]
  },
  {
   "cell_type": "code",
   "execution_count": null,
   "metadata": {},
   "outputs": [],
   "source": []
  },
  {
   "cell_type": "markdown",
   "metadata": {},
   "source": [
    "---"
   ]
  },
  {
   "cell_type": "markdown",
   "metadata": {},
   "source": [
    "## FILE: phjRROR"
   ]
  },
  {
   "cell_type": "markdown",
   "metadata": {},
   "source": [
    "### FUNCTION: phjOddsRatio()"
   ]
  },
  {
   "cell_type": "code",
   "execution_count": null,
   "metadata": {},
   "outputs": [],
   "source": []
  },
  {
   "cell_type": "markdown",
   "metadata": {},
   "source": [
    "### FUNCTION: phjRelativeRisk()"
   ]
  },
  {
   "cell_type": "code",
   "execution_count": null,
   "metadata": {},
   "outputs": [],
   "source": []
  },
  {
   "cell_type": "markdown",
   "metadata": {},
   "source": [
    "---"
   ]
  },
  {
   "cell_type": "markdown",
   "metadata": {},
   "source": [
    "## FILE: phjSelectData.py"
   ]
  },
  {
   "cell_type": "markdown",
   "metadata": {},
   "source": [
    "### FUNCTION: phjSelectCaseControlDataset()"
   ]
  },
  {
   "cell_type": "markdown",
   "metadata": {},
   "source": [
    "#### Unmatched controls"
   ]
  },
  {
   "cell_type": "code",
   "execution_count": null,
   "metadata": {},
   "outputs": [],
   "source": [
    "casesDF = pd.DataFrame({'animalID':[1,2,3,4,5],'var1':[43,45,34,45,56],'sp':['dog','dog','dog','dog','dog']})\n",
    "potControlsDF = pd.DataFrame({'animalID':[11,12,13,14,15,16,17,18,19,20,21,22,23,24,25,26,27,28,29,30],\n",
    "                              'var1':[34,54,34,23,34,45,56,67,56,67,78,98,65,54,34,76,87,56,45,34],\n",
    "                              'sp':['dog','cat','dog','dog','cat','dog','cat','dog','cat','dog',\n",
    "                                    'dog','dog','dog','cat','dog','cat','dog','dog','dog','cat']})\n",
    "\n",
    "print(\"This dataframe contains all the cases of disease\\n\")\n",
    "print(casesDF)\n",
    "print(\"\\n\")\n",
    "print(\"This dataframe contains all the animals you could potentially use as controls\\n\")\n",
    "print(potControlsDF)\n",
    "print(\"\\n\")\n",
    "\n",
    "# Selecting unmatched controls\n",
    "unmatchedDF = epy.phjSelectCaseControlDataset(phjCasesDF = casesDF,\n",
    "                                              phjPotentialControlsDF = potControlsDF,\n",
    "                                              phjUniqueIdentifierVarName = 'animalID',\n",
    "                                              phjMatchingVariablesList = None,\n",
    "                                              phjControlsPerCaseInt = 2,\n",
    "                                              phjPrintResults = False)\n",
    "\n",
    "print(unmatchedDF)"
   ]
  },
  {
   "cell_type": "markdown",
   "metadata": {},
   "source": [
    "#### Matched controls"
   ]
  },
  {
   "cell_type": "code",
   "execution_count": null,
   "metadata": {},
   "outputs": [],
   "source": [
    "casesDF = pd.DataFrame({'animalID':[1,2,3,4,5],'var1':[43,45,34,45,56],'sp':['dog','dog','dog','dog','dog']})\n",
    "potControlsDF = pd.DataFrame({'animalID':[11,12,13,14,15,16,17,18,19,20,21,22,23,24,25,26,27,28,29,30],\n",
    "                              'var1':[34,54,34,23,34,45,56,67,56,67,78,98,65,54,34,76,87,56,45,34],\n",
    "                              'sp':['dog','cat','dog','dog','cat','dog','cat','dog','cat','dog',\n",
    "                                    'dog','dog','dog','cat','dog','cat','dog','dog','dog','cat']})\n",
    "\n",
    "print(\"This dataframe contains all the cases of disease\\n\")\n",
    "print(casesDF)\n",
    "print(\"\\n\")\n",
    "print(\"This dataframe contains all the animals you could potentially use as controls\\n\")\n",
    "print(potControlsDF)\n",
    "print(\"\\n\")\n",
    "\n",
    "# Selecting controls that are matched to cases on variable 'sp'\n",
    "matchedDF = epy.phjSelectCaseControlDataset(phjCasesDF = casesDF,\n",
    "                                            phjPotentialControlsDF = potControlsDF,\n",
    "                                            phjUniqueIdentifierVarName = 'animalID',\n",
    "                                            phjMatchingVariablesList = ['sp'],\n",
    "                                            phjControlsPerCaseInt = 2,\n",
    "                                            phjPrintResults = False)\n",
    "\n",
    "print(matchedDF)"
   ]
  },
  {
   "cell_type": "markdown",
   "metadata": {},
   "source": [
    "### FUNCTION: phjGenerateCaseControlDataset()"
   ]
  },
  {
   "cell_type": "code",
   "execution_count": null,
   "metadata": {},
   "outputs": [],
   "source": []
  },
  {
   "cell_type": "markdown",
   "metadata": {},
   "source": [
    "### FUNCTION: phjCollapseOnPatientID()"
   ]
  },
  {
   "cell_type": "code",
   "execution_count": null,
   "metadata": {},
   "outputs": [],
   "source": []
  },
  {
   "cell_type": "markdown",
   "metadata": {},
   "source": [
    "---"
   ]
  },
  {
   "cell_type": "markdown",
   "metadata": {},
   "source": [
    "## File: phjCalculateProportions.py"
   ]
  },
  {
   "cell_type": "markdown",
   "metadata": {},
   "source": [
    "---"
   ]
  },
  {
   "cell_type": "markdown",
   "metadata": {},
   "source": [
    "## File: phjExploreData.py"
   ]
  },
  {
   "cell_type": "markdown",
   "metadata": {},
   "source": [
    "### Function: phjCategoriseContinuousVariable()"
   ]
  },
  {
   "cell_type": "markdown",
   "metadata": {},
   "source": [
    "#### Return dataframe alone"
   ]
  },
  {
   "cell_type": "code",
   "execution_count": null,
   "metadata": {},
   "outputs": [],
   "source": [
    "# Define example dataset\n",
    "phjTempDF = pd.DataFrame({'binDepVar':['yes']*50000 + ['no']*50000,\n",
    "                          'riskFactorCont':np.random.uniform(0,1,100000)})\n",
    "\n",
    "with pd.option_context('display.max_rows', 10, 'display.max_columns', 5):\n",
    "    print(phjTempDF)\n",
    "\n",
    "    \n",
    "# Categorise a continuous variable\n",
    "phjTempDF = epy.phjCategoriseContinuousVariable(phjTempDF = phjTempDF,\n",
    "                                                phjContinuousVarName = 'riskFactorCont',\n",
    "                                                phjMissingValue = 'missing',\n",
    "                                                phjNumberOfCategoriesInt = 6,\n",
    "                                                phjNewCategoryVarName = 'catVar',\n",
    "                                                phjCategorisationMethod = 'jenks',\n",
    "                                                phjReturnBreaks = False,\n",
    "                                                phjPrintResults = False)\n",
    "\n",
    "with pd.option_context('display.max_rows', 10, 'display.max_columns', 5):\n",
    "    print('\\nLog odds for categorised variable')\n",
    "    print(phjTempDF)"
   ]
  },
  {
   "cell_type": "markdown",
   "metadata": {},
   "source": [
    "#### Return dataframe and list of breaks"
   ]
  },
  {
   "cell_type": "code",
   "execution_count": null,
   "metadata": {},
   "outputs": [],
   "source": [
    "# Define example dataset\n",
    "phjTempDF = pd.DataFrame({'binDepVar':['yes']*50000 + ['no']*50000,\n",
    "                          'riskFactorCont':np.random.uniform(0,1,100000)})\n",
    "\n",
    "with pd.option_context('display.max_rows', 10, 'display.max_columns', 5):\n",
    "    print(phjTempDF)\n",
    "\n",
    "    \n",
    "# Categorise a continuous variable\n",
    "phjTempDF, phjBreaksList = epy.phjCategoriseContinuousVariable(phjTempDF = phjTempDF,\n",
    "                                                               phjContinuousVarName = 'riskFactorCont',\n",
    "                                                               phjMissingValue = 'missing',\n",
    "                                                               phjNumberOfCategoriesInt = 6,\n",
    "                                                               phjNewCategoryVarName = 'catVar',\n",
    "                                                               phjCategorisationMethod = 'jenks',\n",
    "                                                               phjReturnBreaks = True,\n",
    "                                                               phjPrintResults = False)\n",
    "\n",
    "with pd.option_context('display.max_rows', 10, 'display.max_columns', 5):\n",
    "    print('\\nCategorised variable')\n",
    "    print(phjTempDF)\n",
    "    print('\\n')\n",
    "    print('Breaks')\n",
    "    print(phjBreaksList)"
   ]
  },
  {
   "cell_type": "markdown",
   "metadata": {},
   "source": [
    "---"
   ]
  },
  {
   "cell_type": "code",
   "execution_count": null,
   "metadata": {},
   "outputs": [],
   "source": []
  }
 ],
 "metadata": {
  "kernelspec": {
   "display_name": "Python 3",
   "language": "python",
   "name": "python3"
  },
  "language_info": {
   "codemirror_mode": {
    "name": "ipython",
    "version": 3
   },
   "file_extension": ".py",
   "mimetype": "text/x-python",
   "name": "python",
   "nbconvert_exporter": "python",
   "pygments_lexer": "ipython3",
   "version": "3.7.4"
  }
 },
 "nbformat": 4,
 "nbformat_minor": 2
}
