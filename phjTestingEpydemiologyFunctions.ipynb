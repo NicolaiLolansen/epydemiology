{
 "cells": [
  {
   "cell_type": "markdown",
   "metadata": {},
   "source": [
    "# Testing functions in epydemiology"
   ]
  },
  {
   "cell_type": "markdown",
   "metadata": {},
   "source": [
    "## Import epydemiology\n",
    "(All other packages will be imported or reported missing.)"
   ]
  },
  {
   "cell_type": "code",
   "execution_count": 1,
   "metadata": {},
   "outputs": [],
   "source": [
    "%matplotlib inline"
   ]
  },
  {
   "cell_type": "code",
   "execution_count": 2,
   "metadata": {},
   "outputs": [],
   "source": [
    "import numpy as np\n",
    "import pandas as pd\n",
    "\n",
    "import epydemiology as epy"
   ]
  },
  {
   "cell_type": "markdown",
   "metadata": {},
   "source": [
    "## Some background details"
   ]
  },
  {
   "cell_type": "code",
   "execution_count": null,
   "metadata": {},
   "outputs": [],
   "source": [
    "help(epy)"
   ]
  },
  {
   "cell_type": "code",
   "execution_count": null,
   "metadata": {},
   "outputs": [],
   "source": [
    "print(dir(epy))"
   ]
  },
  {
   "cell_type": "markdown",
   "metadata": {},
   "source": [
    "---"
   ]
  },
  {
   "cell_type": "markdown",
   "metadata": {},
   "source": [
    "## FILE: phjGetData.py"
   ]
  },
  {
   "cell_type": "markdown",
   "metadata": {},
   "source": [
    "### FUNCTION: phjReadDataFromExcelNamedCellRange()"
   ]
  },
  {
   "cell_type": "code",
   "execution_count": null,
   "metadata": {},
   "outputs": [],
   "source": [
    "phjPath = \"/Users/philipjones/Documents/git_repositories/epydemiology\"\n",
    "phjFileName = \"Test data.xlsx\"\n",
    "\n",
    "import pandas as pd\n",
    "import openpyxl\n",
    "import epydemiology as epy\n",
    "\n",
    "print(\"RANGE: some_test_data\")\n",
    "print(\"=====================\")\n",
    "myDF = epy.phjReadDataFromExcelNamedCellRange(phjExcelPathAndFileName = '/'.join([phjPath,phjFileName]),\n",
    "                                              phjExcelCellRangeName = 'some_test_data',\n",
    "                                              phjDatetimeFormat = \"%d%b%Y\",\n",
    "                                              phjMissingValue = \"missing\",\n",
    "                                              phjHeaderRow = True,\n",
    "                                              phjPrintResults = True)\n",
    "\n",
    "print(myDF.dtypes)\n",
    "\n",
    "print('\\n')\n",
    "\n",
    "print(\"RANGE: some_more_test_data\")\n",
    "print(\"==========================\")\n",
    "myDF2 = epy.phjReadDataFromExcelNamedCellRange(phjExcelPathAndFileName = '/'.join([phjPath,phjFileName]),\n",
    "                                               phjExcelCellRangeName = 'some_more_test_data',\n",
    "                                               phjDatetimeFormat = \"%Y-%m-%d\",\n",
    "                                               phjMissingValue = \"missing\",\n",
    "                                               phjHeaderRow = True,\n",
    "                                               phjPrintResults = True)\n",
    "\n",
    "print(myDF.dtypes)"
   ]
  },
  {
   "cell_type": "markdown",
   "metadata": {},
   "source": [
    "---"
   ]
  },
  {
   "cell_type": "markdown",
   "metadata": {},
   "source": [
    "## FILE: phjGetDBData.py"
   ]
  },
  {
   "cell_type": "markdown",
   "metadata": {},
   "source": [
    "### FUNCTION: phjConnectToDatabase()"
   ]
  },
  {
   "cell_type": "code",
   "execution_count": null,
   "metadata": {
    "scrolled": true
   },
   "outputs": [],
   "source": [
    "import pymysql\n",
    "import pymssql\n",
    "import epydemiology as epy\n",
    "\n",
    "tempConn = epy.phjConnectToDatabase('mysql')\n",
    "\n",
    "print(tempConn)"
   ]
  },
  {
   "cell_type": "markdown",
   "metadata": {},
   "source": [
    "### FUNCTION: phjGetDataFromDatabase()"
   ]
  },
  {
   "cell_type": "markdown",
   "metadata": {},
   "source": [
    "#### Example 1 – Query stored in file"
   ]
  },
  {
   "cell_type": "code",
   "execution_count": null,
   "metadata": {},
   "outputs": [],
   "source": [
    "# The following external libraries are imported automatically but are incuded here for completeness.\n",
    "import pandas as pd\n",
    "import pymysql\n",
    "import pymssql\n",
    "import epydemiology as epy\n",
    "\n",
    "myDF = epy.phjGetDataFromDatabase(phjQueryPathAndFile = '/Users/username/Desktop/theSQLQueryFile.mssql',\n",
    "                                  phjPrintResults = True)"
   ]
  },
  {
   "cell_type": "markdown",
   "metadata": {},
   "source": [
    "#### Example 2 – Query entered directly in function call"
   ]
  },
  {
   "cell_type": "code",
   "execution_count": null,
   "metadata": {},
   "outputs": [],
   "source": [
    "# The following external libraries are imported automatically but are incuded here for completeness.\n",
    "import pandas as pd\n",
    "import pymysql\n",
    "import pymssql\n",
    "import epydemiology as epy\n",
    "\n",
    "myDF = epy.phjGetDataFromDatabase(phjQueryStr = 'SELECT * FROM Table1',\n",
    "                                  phjPrintResults = True)"
   ]
  },
  {
   "cell_type": "markdown",
   "metadata": {},
   "source": [
    "---"
   ]
  },
  {
   "cell_type": "markdown",
   "metadata": {},
   "source": [
    "## FILE: phjMiscFuncs.py"
   ]
  },
  {
   "cell_type": "markdown",
   "metadata": {},
   "source": [
    "### FUNCTION: phjGetStrFromArgOrFile()"
   ]
  },
  {
   "cell_type": "code",
   "execution_count": null,
   "metadata": {},
   "outputs": [],
   "source": []
  },
  {
   "cell_type": "markdown",
   "metadata": {},
   "source": [
    "### FUNCTION: phjReadTextFromFile()"
   ]
  },
  {
   "cell_type": "code",
   "execution_count": null,
   "metadata": {},
   "outputs": [],
   "source": [
    "myStr = epy.phjReadTextFromFile(phjFilePathAndName = '/Users/username/Desktop/myTextFile.txt',\n",
    "                                phjMaxAttempts = 3,\n",
    "                                phjPrintResults = False)"
   ]
  },
  {
   "cell_type": "markdown",
   "metadata": {},
   "source": [
    "### FUNCTION: phjCreateNameGroupRegex()"
   ]
  },
  {
   "cell_type": "markdown",
   "metadata": {},
   "source": [
    "#### phjRegexPreCompile parameter set to `False`"
   ]
  },
  {
   "cell_type": "code",
   "execution_count": 6,
   "metadata": {},
   "outputs": [
    {
     "name": "stdout",
     "output_type": "stream",
     "text": [
      "Dataframe\n",
      "---------\n",
      "   id group       regex\n",
      "0   2   dog     (?:dog)\n",
      "1   2   dog  (?:canine)\n",
      "2   2   dog      (?:k9)\n",
      "3   1   cat     (?:cat)\n",
      "4   1   cat  (?:feline)\n",
      "\n",
      "Combined Regex string\n",
      "---------------------\n",
      "(?P<cat>\n",
      "    (?:cat)|\n",
      "    (?:feline))|\n",
      "(?P<dog>\n",
      "    (?:dog)|\n",
      "    (?:canine)|\n",
      "    (?:k9))\n"
     ]
    }
   ],
   "source": [
    "import numpy as np\n",
    "import pandas as pd\n",
    "import re\n",
    "import epydemiology as epy\n",
    "\n",
    "df = pd.DataFrame({'id':[2,2,2,1,1],\n",
    "                   'group':['dog','dog','dog','cat','cat'],\n",
    "                   'regex':['(?:dog)','(?:canine)','(?:k9)','(?:cat)','(?:feline)']})\n",
    "\n",
    "print(\"Dataframe\\n---------\")\n",
    "print(df)\n",
    "\n",
    "regexStr = epy.phjCreateNamedGroupRegex(phjDF = df,\n",
    "                                        phjGroupVarName = 'group',\n",
    "                                        phjRegexVarName = 'regex',\n",
    "                                        phjIDVarName = 'id',\n",
    "                                        phjRegexPreCompile = False,\n",
    "                                        phjPrintResults = False)\n",
    "\n",
    "print(\"\\nCombined Regex string\\n---------------------\")\n",
    "print(regexStr)"
   ]
  },
  {
   "cell_type": "markdown",
   "metadata": {},
   "source": [
    "#### phjRegexPreCompile parameter set to `True`"
   ]
  },
  {
   "cell_type": "code",
   "execution_count": 8,
   "metadata": {},
   "outputs": [
    {
     "name": "stdout",
     "output_type": "stream",
     "text": [
      "Dataframe\n",
      "---------\n",
      "   id group       regex\n",
      "0   2   dog     (?:dog)\n",
      "1   2   dog  (?:canine)\n",
      "2   2   dog      (?:k9)\n",
      "3   1   cat     (?:cat)\n",
      "4   1   cat  (?:feline)\n",
      "\n",
      "Compiled Regex object\n",
      "---------------------\n",
      "re.compile('(?P<cat>\\n    (?:cat)|\\n    (?:feline))|\\n(?P<dog>\\n    (?:dog)|\\n    (?:canine)|\\n    (?:k9))', re.IGNORECASE|re.VERBOSE)\n"
     ]
    }
   ],
   "source": [
    "df = pd.DataFrame({'id':[2,2,2,1,1],\n",
    "                   'group':['dog','dog','dog','cat','cat'],\n",
    "                   'regex':['(?:dog)','(?:canine)','(?:k9)','(?:cat)','(?:feline)']})\n",
    "\n",
    "print(\"Dataframe\\n---------\")\n",
    "print(df)\n",
    "\n",
    "myCompiledRegexObj = epy.phjCreateNamedGroupRegex(phjDF = df,\n",
    "                                                  phjGroupVarName = 'group',\n",
    "                                                  phjRegexVarName = 'regex',\n",
    "                                                  phjIDVarName = 'id',\n",
    "                                                  phjRegexPreCompile = True,\n",
    "                                                  phjPrintResults = False)\n",
    "\n",
    "print(\"\\nCompiled Regex object\\n---------------------\")\n",
    "print(myCompiledRegexObj)"
   ]
  },
  {
   "cell_type": "markdown",
   "metadata": {},
   "source": [
    "### FUNCTION: phjFindRegexNamedGroup()"
   ]
  },
  {
   "cell_type": "code",
   "execution_count": null,
   "metadata": {},
   "outputs": [],
   "source": []
  },
  {
   "cell_type": "markdown",
   "metadata": {},
   "source": [
    "### FUNCTION: phjMaxLevelOfTaxonomicDetail()"
   ]
  },
  {
   "cell_type": "code",
   "execution_count": null,
   "metadata": {},
   "outputs": [],
   "source": [
    "import numpy as np\n",
    "import pandas as pd\n",
    "import collections\n",
    "\n",
    "myOrderedDict = collections.OrderedDict()\n",
    "myOrderedDict['Descriptor'] = ['dog','ferret','cat','rabbit','horse','primate','rodent','gerbil','guinea pig','rat','mammal','lizard','snake','common basilisk','turtle','tortoise','spur-thighed tortoise']\n",
    "myOrderedDict['Phylum'] = ['Chordata','Chordata','Chordata','Chordata','Chordata','Chordata','Chordata','Chordata','Chordata','Chordata','Chordata','Chordata','Chordata','Chordata','Chordata','Chordata','Chordata']\n",
    "myOrderedDict['Class'] = ['Mammalia','Mammalia','Mammalia','Mammalia','Mammalia','Mammalia','Mammalia','Mammalia','Mammalia','Mammalia','Mammalia','Reptilia','Reptilia','Reptilia','Reptilia','Reptilia','Reptilia']\n",
    "myOrderedDict['Order'] = ['Carnivora','Carnivora','Carnivora','Lagomorpha','Perissodactyla','Primates','Rodentia','Rodentia','Rodentia','Rodentia','','Squamata','Squamata','Squmata','Testudines','Testudines','Testudines']\n",
    "myOrderedDict['Suborder'] = ['','','Feliformia','','','','','','','','','Lacertilia','Serpentes','Iguania','','Cryptodira','Cryptodira']\n",
    "myOrderedDict['Superfamily'] = ['','','','','','','','','','','','','','','','','']\n",
    "myOrderedDict['Family'] = ['Canidae','Mustelidae','Felidae','Leporidae','Equidae','','','Muridae','Caviidae','Muridae','','','','Corytophanidae','','Testudinidae','Testudinidae']\n",
    "myOrderedDict['Subfamily'] = ['','','','','','','','Gerbillinae','','Murinae','','','','','','','']\n",
    "myOrderedDict['Genus'] = ['Canis','Mustela','Felis','Oryctolagus','Equus','','','','Cavia','Rattus','','','','Basiliscus','','','Testudo']\n",
    "myOrderedDict['Species'] = ['lupus','putorius','silvestris','cuniculus','ferus','','','','porcellus','norvegicus','','','','basiliscus','','','graeca']\n",
    "myOrderedDict['Subspecies'] = ['familiaris','furo','catus','','caballus','','','','','domestica','','','','','','','']\n",
    "\n",
    "df = pd.DataFrame(myOrderedDict)\n",
    "\n",
    "df = epy.phjMaxLevelOfTaxonomicDetail(phjDF = df,\n",
    "                                      phjFirstCol = 'Phylum',\n",
    "                                      phjLastCol = 'Subspecies',\n",
    "                                      phjNewColName = 'max_tax_details',\n",
    "                                      phjDropPreExisting = False,\n",
    "                                      phjCleanup = True,\n",
    "                                      phjPrintResults = False)"
   ]
  },
  {
   "cell_type": "markdown",
   "metadata": {},
   "source": [
    "### FUNCTION: phjReverseMap()"
   ]
  },
  {
   "cell_type": "markdown",
   "metadata": {},
   "source": [
    "#### Example 1 – exact string matches"
   ]
  },
  {
   "cell_type": "code",
   "execution_count": null,
   "metadata": {},
   "outputs": [],
   "source": [
    "myDF = pd.DataFrame({'id':[1,2,3,4,5,6,7],\n",
    "                     'var':['dogg','canine','cannine','catt','felin','cot','feline'],\n",
    "                     'dog':[1,2,3,4,5,6,7]})\n",
    "\n",
    "print(myDF)\n",
    "\n",
    "d = {'dog':['dogg','canine','cannine'],\n",
    "     'cat':['catt','felin','feline']}"
   ]
  },
  {
   "cell_type": "code",
   "execution_count": null,
   "metadata": {},
   "outputs": [],
   "source": [
    "myDF = epy.phjReverseMap(phjDF = myDF,\n",
    "                         phjMappingDict = d,\n",
    "                         phjCategoryVarName = 'var',\n",
    "                         phjMappedVarName = 'spp',\n",
    "                         phjUnmapped = 'missing',\n",
    "                         phjTreatAsRegex = False,\n",
    "                         phjDropPreExisting = True,\n",
    "                         phjPrintResults = True)"
   ]
  },
  {
   "cell_type": "markdown",
   "metadata": {},
   "source": [
    "#### Example 2 – regex"
   ]
  },
  {
   "cell_type": "code",
   "execution_count": null,
   "metadata": {},
   "outputs": [],
   "source": [
    "myDF = pd.DataFrame({'id':[1,2,3,4,5,6,7],\n",
    "                     'var':['dogg','canine','cannine','catt','felin','cot','feline'],\n",
    "                     'dog':[1,2,3,4,5,6,7]})\n",
    "\n",
    "print(myDF)\n",
    "print('\\n')\n",
    "       \n",
    "d = {'dog':['(?:dog+)','(?:can*ine)'],\n",
    "     'cat':['(?:cat+)','(?:fel+ine?)']}\n",
    "\n",
    "print(d)"
   ]
  },
  {
   "cell_type": "code",
   "execution_count": null,
   "metadata": {
    "scrolled": false
   },
   "outputs": [],
   "source": [
    "myDF = epy.phjReverseMap(phjDF = myDF,\n",
    "                         phjMappingDict = d,\n",
    "                         phjCategoryVarName = 'var',\n",
    "                         phjMappedVarName = 'new',\n",
    "                         phjUnmapped = 'missing',\n",
    "                         phjTreatAsRegex = True,\n",
    "                         phjDropPreExisting = True,\n",
    "                         phjPrintResults = True)"
   ]
  },
  {
   "cell_type": "markdown",
   "metadata": {},
   "source": [
    "### FUNCTION: phjRetrieveUniqueFromMultiDataFrames()"
   ]
  },
  {
   "cell_type": "markdown",
   "metadata": {},
   "source": [
    "#### Single dataframe"
   ]
  },
  {
   "cell_type": "code",
   "execution_count": null,
   "metadata": {},
   "outputs": [],
   "source": [
    "phjTempDF = pd.DataFrame({'a':[1,2,3,4,5,6,1,2,3,4,5,6],\n",
    "                          'b':['a','b','c','d','e','f','a','b','w','d','e','f']})\n",
    "\n",
    "print('Single variable')\n",
    "print('---------------')\n",
    "\n",
    "phjOutDF = epy.phjRetrieveUniqueFromMultiDataFrames(phjDFList = [phjTempDF],\n",
    "                                                    phjVarNameList = 'a',\n",
    "                                                    phjSort = True,\n",
    "                                                    phjPrintResults = True)\n",
    " \n",
    "print('\\n')\n",
    "print('Multiple variables')\n",
    "print('------------------')\n",
    "\n",
    "phjOutDF = epy.phjRetrieveUniqueFromMultiDataFrames(phjDFList = phjTempDF,\n",
    "                                                    phjVarNameList = ['a','b'],\n",
    "                                                    phjSort = True,\n",
    "                                                    phjPrintResults = True)"
   ]
  },
  {
   "cell_type": "markdown",
   "metadata": {},
   "source": [
    "#### Multiple dataframes of data"
   ]
  },
  {
   "cell_type": "code",
   "execution_count": null,
   "metadata": {},
   "outputs": [],
   "source": [
    "df1 = pd.DataFrame({'m':[1,2,3,4,5,6],\n",
    "                    'n':['a','b','c','d','e','f']})\n",
    " \n",
    "df2 = pd.DataFrame({'m':[2,5,7,8],\n",
    "                    'n':['b','e','g','h']})\n",
    "\n",
    "phjOutDF = epy.phjRetrieveUniqueFromMultiDataFrames(phjDFList = [df1,df2],\n",
    "                                                    phjVarNameList = ['m','n'],\n",
    "                                                    phjSort = True,\n",
    "                                                    phjPrintResults = True)"
   ]
  },
  {
   "cell_type": "markdown",
   "metadata": {},
   "source": [
    "### FUNCTION: phjUpdateLUT()"
   ]
  },
  {
   "cell_type": "markdown",
   "metadata": {},
   "source": [
    "#### Testing phjUpdateLUT() function with dataframe with single column"
   ]
  },
  {
   "cell_type": "code",
   "execution_count": 3,
   "metadata": {},
   "outputs": [
    {
     "name": "stdout",
     "output_type": "stream",
     "text": [
      "Existing dataframe\n",
      "------------------\n",
      "   id  m\n",
      "0   1  a\n",
      "1   2  b\n",
      "2   3  c\n",
      "3   4  d\n",
      "4   5  e\n",
      "5   6  f\n",
      "\n",
      "\n",
      "New dataframe\n",
      "-------------\n",
      "   id  m\n",
      "0   1  b\n",
      "1   2  E\n",
      "2   3  g\n",
      "3   4  H\n",
      "\n",
      "\n",
      "Dataframe of new values\n",
      "-----------------------\n",
      "   id  m\n",
      "2   3  g\n",
      "3   4  H\n",
      "\n",
      "\n",
      "List of new ID values\n",
      "---------------------\n",
      "[7, 8]\n",
      "\n",
      "\n",
      "New dataframe with new ID\n",
      "-------------------------\n",
      "   id  m\n",
      "2   7  g\n",
      "3   8  H\n",
      "\n",
      "\n",
      "Returned dataframe\n",
      "------------------\n",
      "    id        m\n",
      "0    7        g\n",
      "1    8        H\n",
      "2  999  missing\n",
      "\n",
      "\n"
     ]
    }
   ],
   "source": [
    "old_df = pd.DataFrame({'id':[1,2,3,4,5,6],\n",
    "                       'm':['a','b','c','d','e','f']})\n",
    " \n",
    "new_df = pd.DataFrame({'id':[1,2,3,4],\n",
    "                       'm':['b','E','g','H']})\n",
    " \n",
    "update_df = epy.phjUpdateLUT(phjExistDF = old_df,\n",
    "                             phjNewDF = new_df,\n",
    "                             phjIDName = 'id',\n",
    "                             phjVarNameList = ['m'],\n",
    "                             phjMissStr = 'missing',\n",
    "                             phjMissCode = 999,\n",
    "                             phjIgnoreCase = True,\n",
    "                             phjPrintResults = True)"
   ]
  },
  {
   "cell_type": "markdown",
   "metadata": {},
   "source": [
    "#### Testing phjUpdateLUT() function with dataframe with multiple columns"
   ]
  },
  {
   "cell_type": "code",
   "execution_count": 5,
   "metadata": {},
   "outputs": [
    {
     "name": "stdout",
     "output_type": "stream",
     "text": [
      "Existing dataframe\n",
      "------------------\n",
      "   id  m  n\n",
      "0   1  a  A\n",
      "1   2  b  B\n",
      "2   3  c  C\n",
      "3   4  d  D\n",
      "4   5  e  E\n",
      "5   6  f  F\n",
      "\n",
      "\n",
      "New dataframe\n",
      "-------------\n",
      "   id  m   n\n",
      "0   1  b  BB\n",
      "1   2  e   e\n",
      "2   3  g  GG\n",
      "3   4  h   H\n",
      "4   5  a   a\n",
      "\n",
      "\n",
      "Dataframe of new values\n",
      "-----------------------\n",
      "   id  m   n\n",
      "0   1  b  BB\n",
      "2   3  g  GG\n",
      "3   4  h   H\n",
      "\n",
      "\n",
      "List of new ID values\n",
      "---------------------\n",
      "[7, 8, 9]\n",
      "\n",
      "\n",
      "New dataframe with new ID\n",
      "-------------------------\n",
      "   id  m   n\n",
      "0   7  b  BB\n",
      "2   8  g  GG\n",
      "3   9  h   H\n",
      "\n",
      "\n",
      "Returned dataframe\n",
      "------------------\n",
      "    id        m        n\n",
      "0    7        b       BB\n",
      "1    8        g       GG\n",
      "2    9        h        H\n",
      "3  999  missing  missing\n",
      "\n",
      "\n",
      "Updated dataframe\n",
      "-----------------\n",
      "    id        m        n\n",
      "0    7        b       BB\n",
      "1    8        g       GG\n",
      "2    9        h        H\n",
      "3  999  missing  missing\n"
     ]
    }
   ],
   "source": [
    "old_df = pd.DataFrame({'id':[1,2,3,4,5,6],\n",
    "                       'm':['a','b','c','d','e','f'],\n",
    "                       'n':['A','B','C','D','E','F']})\n",
    " \n",
    "new_df = pd.DataFrame({'id':[1,2,3,4,5],\n",
    "                       'm':['b','e','g','h','a'],\n",
    "                       'n':['BB','e','GG','H','a']})\n",
    " \n",
    "update_df = epy.phjUpdateLUT(phjExistDF = old_df,\n",
    "                             phjNewDF = new_df,\n",
    "                             phjIDName = 'id',\n",
    "                             phjVarNameList = ['m','n'],\n",
    "                             phjMissStr = 'missing',\n",
    "                             phjMissCode = 999,\n",
    "                             phjIgnoreCase = True,\n",
    "                             phjPrintResults = True)\n",
    " \n",
    "print('Updated dataframe')\n",
    "print('-----------------')\n",
    "print(update_df)"
   ]
  },
  {
   "cell_type": "markdown",
   "metadata": {},
   "source": [
    "---"
   ]
  },
  {
   "cell_type": "markdown",
   "metadata": {},
   "source": [
    "## FILE: phjMatrices.py"
   ]
  },
  {
   "cell_type": "markdown",
   "metadata": {},
   "source": [
    "### FUNCTION: phjBinaryVarsToSquareMatrix()"
   ]
  },
  {
   "cell_type": "markdown",
   "metadata": {},
   "source": [
    "#### Output a numpy array"
   ]
  },
  {
   "cell_type": "code",
   "execution_count": 9,
   "metadata": {},
   "outputs": [
    {
     "name": "stdout",
     "output_type": "stream",
     "text": [
      "Raw data\n",
      "   a  b  c  d  e\n",
      "0  0  1  0  1  1\n",
      "1  1  1  0  0  0\n",
      "2  1  0  1  0  0\n",
      "3  1  0  0  0  0\n",
      "4  0  1  1  1  0\n",
      "5  0  0  1  0  1\n",
      "6  1  0  1  0  0\n",
      "7  0  1  1  0  0\n",
      "\n",
      "\n",
      "Returned square matrix\n",
      "[[1 1 2 0 0]\n",
      " [1 0 2 2 1]\n",
      " [2 2 0 1 1]\n",
      " [0 2 1 0 1]\n",
      " [0 1 1 1 0]]\n"
     ]
    }
   ],
   "source": [
    "rawDataDF = pd.DataFrame({'a':[0,1,1,1,0,0,1,0],\n",
    "                          'b':[1,1,0,0,1,0,0,1],\n",
    "                          'c':[0,0,1,0,1,1,1,1],\n",
    "                          'd':[1,0,0,0,1,0,0,0],\n",
    "                          'e':[1,0,0,0,0,1,0,0]})\n",
    "\n",
    "columns = ['a','b','c','d','e']\n",
    "\n",
    "print('Raw data')\n",
    "print(rawDataDF)\n",
    "print('\\n')\n",
    "\n",
    "phjMatrix = epy.phjBinaryVarsToSquareMatrix(phjDataDF = rawDataDF,\n",
    "                                        phjColumnNamesList = columns,\n",
    "                                        phjOutputFormat = 'arr',\n",
    "                                        phjPrintResults = False)\n",
    "                                        \n",
    "print('Returned square matrix')\n",
    "print(phjMatrix)"
   ]
  },
  {
   "cell_type": "markdown",
   "metadata": {},
   "source": [
    "#### Output a Pandas dataframe"
   ]
  },
  {
   "cell_type": "code",
   "execution_count": 11,
   "metadata": {},
   "outputs": [
    {
     "name": "stdout",
     "output_type": "stream",
     "text": [
      "Raw data\n",
      "   a  b  c  d  e\n",
      "0  0  1  0  1  1\n",
      "1  1  1  0  0  0\n",
      "2  1  0  1  0  0\n",
      "3  1  0  0  0  0\n",
      "4  0  1  1  1  0\n",
      "5  0  0  1  0  1\n",
      "6  1  0  1  0  0\n",
      "7  0  1  1  0  0\n",
      "\n",
      "\n",
      "Returned square matrix dataframe\n",
      "   a  b  c  d  e\n",
      "a  1  1  2  0  0\n",
      "b  1  0  2  2  1\n",
      "c  2  2  0  1  1\n",
      "d  0  2  1  0  1\n",
      "e  0  1  1  1  0\n"
     ]
    }
   ],
   "source": [
    "rawDataDF = pd.DataFrame({'a':[0,1,1,1,0,0,1,0],\n",
    "                          'b':[1,1,0,0,1,0,0,1],\n",
    "                          'c':[0,0,1,0,1,1,1,1],\n",
    "                          'd':[1,0,0,0,1,0,0,0],\n",
    "                          'e':[1,0,0,0,0,1,0,0]})\n",
    "\n",
    "columns = ['a','b','c','d','e']\n",
    "\n",
    "print('Raw data')\n",
    "print(rawDataDF)\n",
    "print('\\n')\n",
    "\n",
    "phjMatrixDF = epy.phjBinaryVarsToSquareMatrix(phjDataDF = rawDataDF,\n",
    "                                              phjColumnNamesList = columns,\n",
    "                                              phjOutputFormat = 'df',\n",
    "                                              phjPrintResults = False)\n",
    "                                        \n",
    "print('Returned square matrix dataframe')\n",
    "print(phjMatrixDF)"
   ]
  },
  {
   "cell_type": "markdown",
   "metadata": {},
   "source": [
    "### FUNCTION: phjLongToWideBinary()"
   ]
  },
  {
   "cell_type": "code",
   "execution_count": 12,
   "metadata": {},
   "outputs": [
    {
     "name": "stdout",
     "output_type": "stream",
     "text": [
      "Original dataframe\n",
      "\n",
      "   X  Y\n",
      "0  1  a\n",
      "1  1  b\n",
      "2  1  d\n",
      "3  2  b\n",
      "4  2  c\n",
      "5  3  d\n",
      "6  3  e\n",
      "7  3  a\n",
      "8  3  f\n",
      "9  4  b\n",
      "\n",
      "\n",
      "New wide dataframe\n",
      "\n",
      "   X  a  b  d  c  e  f\n",
      "0  1  1  1  1  0  0  0\n",
      "1  2  0  1  0  1  0  0\n",
      "2  3  1  0  1  0  1  1\n",
      "3  4  0  1  0  0  0  0\n"
     ]
    }
   ],
   "source": [
    "df = pd.DataFrame({'X':[1,1,1,2,2,3,3,3,3,4],\n",
    "                   'Y':['a','b','d','b','c','d','e','a','f','b']})\n",
    "\n",
    "newDF = epy.phjLongToWideBinary(phjDF = df,\n",
    "                                phjGroupbyVarName = 'X',\n",
    "                                phjVariablesVarName = 'Y',\n",
    "                                phjValuesDict = {0:0,1:1},\n",
    "                                phjPrintResults = False)\n",
    "\n",
    "print('Original dataframe\\n')\n",
    "print(df)\n",
    "\n",
    "print('\\n')\n",
    "\n",
    "print('New wide dataframe\\n')\n",
    "print(newDF)"
   ]
  },
  {
   "cell_type": "markdown",
   "metadata": {},
   "source": [
    "---"
   ]
  },
  {
   "cell_type": "markdown",
   "metadata": {},
   "source": [
    "## FILE: phjCalculateProportions.py"
   ]
  },
  {
   "cell_type": "markdown",
   "metadata": {},
   "source": [
    "### FUNCTION: phjCalculateBinomialProportions()"
   ]
  },
  {
   "cell_type": "markdown",
   "metadata": {},
   "source": [
    "#### Example of calculating binomial proportions (using phjCaculateBinomialProportions() function)"
   ]
  },
  {
   "cell_type": "code",
   "execution_count": 14,
   "metadata": {},
   "outputs": [
    {
     "name": "stdout",
     "output_type": "stream",
     "text": [
      "  group    A    B    C\n",
      "0    g1  yes   no  yes\n",
      "1    g1  yes  NaN  yes\n",
      "2    g2   no  NaN  yes\n",
      "3    g1   no  yes  NaN\n",
      "4    g2   no  yes   no\n",
      "5    g2   no  yes  yes\n",
      "6    g1   no  yes  yes\n",
      "7    g1  yes   no  yes\n",
      "8    g2  NaN   no   no\n",
      "9    g1  yes   no   no\n",
      "\n",
      "\n",
      "   g1_95CI_lint  g1_95CI_llim  g1_95CI_uint  g1_95CI_ulim  g1_obs   g1_prop  \\\n",
      "A      0.377195      0.289471      0.333333      1.000000       6  0.666667   \n",
      "B      0.400000      0.000000      0.429407      0.829407       5  0.400000   \n",
      "C      0.350609      0.449391      0.200000      1.000000       5  0.800000   \n",
      "\n",
      "   g1_success  g2_95CI_lint  g2_95CI_llim  g2_95CI_uint  g2_95CI_ulim  g2_obs  \\\n",
      "A           4      0.000000      0.000000      0.000000      0.000000       3   \n",
      "B           2      0.533435      0.133232      0.333333      1.000000       3   \n",
      "C           4      0.489991      0.010009      0.489991      0.989991       4   \n",
      "\n",
      "    g2_prop  g2_success  \n",
      "A  0.000000           0  \n",
      "B  0.666667           2  \n",
      "C  0.500000           2  \n"
     ]
    },
    {
     "data": {
      "image/png": "[encoded data removed]",
      "text/plain": [
       "<Figure size 432x288 with 1 Axes>"
      ]
     },
     "metadata": {
      "needs_background": "light"
     },
     "output_type": "display_data"
    }
   ],
   "source": [
    "phjTempDF = pd.DataFrame({'group':['g1','g1','g2','g1','g2','g2','g1','g1','g2','g1'],\n",
    "                          'A':['yes','yes','no','no','no','no','no','yes',np.nan,'yes'],\n",
    "                          'B':['no',np.nan,np.nan,'yes','yes','yes','yes','no','no','no'],\n",
    "                          'C':['yes','yes','yes',np.nan,'no','yes','yes','yes','no','no']})\n",
    "\n",
    "print(phjTempDF)\n",
    "print('\\n')\n",
    "\n",
    "phjPropDF = epy.phjCalculateBinomialProportions(phjDF = phjTempDF,\n",
    "                                                phjColumnsList = ['A','B','C'],\n",
    "                                                phjSuccess = 'yes',\n",
    "                                                phjGroupVarName = 'group',\n",
    "                                                phjMissingValue = 'missing',\n",
    "                                                phjBinomialConfIntMethod = 'normal',\n",
    "                                                phjAlpha = 0.05,\n",
    "                                                phjPlotProportions = True,\n",
    "                                                phjGroupsToPlotList = 'all',\n",
    "                                                phjSortProportions = True,\n",
    "                                                phjGraphTitle = None,\n",
    "                                                phjPrintResults = False)\n",
    "\n",
    "print(phjPropDF)"
   ]
  },
  {
   "cell_type": "markdown",
   "metadata": {},
   "source": [
    "### FUNCTION: phjCalculateBinomialConfInts()"
   ]
  },
  {
   "cell_type": "code",
   "execution_count": 16,
   "metadata": {},
   "outputs": [
    {
     "name": "stdout",
     "output_type": "stream",
     "text": [
      "Original dataframe\n",
      "\n",
      "    year  success  failure\n",
      "0   2005      109      675\n",
      "1   2006       77      763\n",
      "2   2007       80      635\n",
      "3   2008       57      723\n",
      "4   2009       29      714\n",
      "5   2010       31      712\n",
      "6   2011       29      723\n",
      "7   2012       19      626\n",
      "8   2013       10      499\n",
      "9   2014       16      546\n",
      "10  2015        6      465\n",
      "11  2016        8      463\n",
      "12  2017        4      468\n",
      "13  2018        0        0\n",
      "\n",
      "\n",
      "Dataframe of confidence intervals\n",
      "\n",
      "    year  success  failure  obs      prop  95CI_llim  95CI_ulim  95CI_lint  \\\n",
      "0   2005      109      675  784  0.139031   0.114813   0.163249   0.024218   \n",
      "1   2006       77      763  840  0.091667   0.072153   0.111180   0.019514   \n",
      "2   2007       80      635  715  0.111888   0.088782   0.134994   0.023106   \n",
      "3   2008       57      723  780  0.073077   0.054812   0.091342   0.018265   \n",
      "4   2009       29      714  743  0.039031   0.025105   0.052957   0.013926   \n",
      "5   2010       31      712  743  0.041723   0.027345   0.056100   0.014378   \n",
      "6   2011       29      723  752  0.038564   0.024802   0.052326   0.013762   \n",
      "7   2012       19      626  645  0.029457   0.016409   0.042506   0.013049   \n",
      "8   2013       10      499  509  0.019646   0.007590   0.031703   0.012057   \n",
      "9   2014       16      546  562  0.028470   0.014720   0.042220   0.013750   \n",
      "10  2015        6      465  471  0.012739   0.002611   0.022867   0.010128   \n",
      "11  2016        8      463  471  0.016985   0.005316   0.028655   0.011669   \n",
      "12  2017        4      468  472  0.008475   0.000205   0.016744   0.008270   \n",
      "13  2018        0        0    0       NaN        NaN        NaN        NaN   \n",
      "\n",
      "    95CI_uint  \n",
      "0    0.024218  \n",
      "1    0.019514  \n",
      "2    0.023106  \n",
      "3    0.018265  \n",
      "4    0.013926  \n",
      "5    0.014378  \n",
      "6    0.013762  \n",
      "7    0.013049  \n",
      "8    0.012057  \n",
      "9    0.013750  \n",
      "10   0.010128  \n",
      "11   0.011669  \n",
      "12   0.008270  \n",
      "13        NaN  \n"
     ]
    },
    {
     "name": "stderr",
     "output_type": "stream",
     "text": [
      "/Users/philipjones/opt/anaconda3/envs/gen-env37-pd_v1/lib/python3.7/site-packages/statsmodels/stats/proportion.py:86: RuntimeWarning: invalid value encountered in true_divide\n",
      "  q_ = count * 1. / nobs\n"
     ]
    }
   ],
   "source": [
    "phjTempDF = pd.DataFrame({'year':[2005,2006,2007,2008,2009,2010,2011,2012,2013,2014,2015,2016,2017,2018],\n",
    "                          'success':[109,77,80,57,29,31,29,19,10,16,6,8,4,0],\n",
    "                          'failure':[784-109,840-77,715-80,780-57,743-29,743-31,752-29,645-19,509-10,562-16,471-6,471-8,472-4,0-0],\n",
    "                          #'total':[784,840,715,780,743,743,752,645,509,562,471,471,472,0]\n",
    "                         })\n",
    "\n",
    "print('Original dataframe\\n')\n",
    "print(phjTempDF)\n",
    "print('\\n')\n",
    "\n",
    "phjPropDF = epy.phjCalculateBinomialConfInts(phjDF = phjTempDF,\n",
    "                                             phjSuccVarName = 'success',\n",
    "                                             phjFailVarName = 'failure',\n",
    "                                             phjTotalVarName = None,\n",
    "                                             phjBinomialConfIntMethod = 'normal',\n",
    "                                             phjAlpha = 0.05,\n",
    "                                             phjPrintResults = False)\n",
    " \n",
    "print('Dataframe of confidence intervals\\n')\n",
    "print(phjPropDF)"
   ]
  },
  {
   "cell_type": "markdown",
   "metadata": {},
   "source": [
    "### FUNCTION: phjCalculateMultinomialProportions()"
   ]
  },
  {
   "cell_type": "markdown",
   "metadata": {},
   "source": [
    "#### Example of calculating multinomial proportions (using phjCalculateMultinomialProportions() function)"
   ]
  },
  {
   "cell_type": "code",
   "execution_count": 15,
   "metadata": {},
   "outputs": [
    {
     "name": "stdout",
     "output_type": "stream",
     "text": [
      "      group  category  catint\n",
      "0      case       NaN       1\n",
      "1      case   spaniel       2\n",
      "2      case   missing       3\n",
      "3   control   terrier       2\n",
      "4   control    collie       3\n",
      "5      case  labrador       2\n",
      "6      case  labrador       1\n",
      "7      case    collie       2\n",
      "8   control   spaniel       1\n",
      "9   control   spaniel       2\n",
      "10  control  labrador       3\n",
      "11  control    collie       2\n",
      "12     case   terrier       3\n",
      "13     case   terrier       2\n",
      "14     case   terrier       3\n",
      "15  control    collie       1\n",
      "16  control  labrador       2\n",
      "17  control  labrador       3\n",
      "18  control  labrador       2\n",
      "19     case   spaniel       3\n",
      "20     case   spaniel       2\n",
      "21     case    collie       3\n",
      "22     case    collie       2\n",
      "23     case    collie       3\n",
      "24      NaN   terrier       1\n",
      "25      NaN   spaniel       2\n",
      "\n",
      "\n",
      "\n",
      "Category levels:  ['spaniel', 'terrier', 'collie', 'labrador']\n",
      "Group levels:  ['case', 'control'] \n",
      "\n",
      "          case_count  control_count  case_prop  control_prop  case_95CI_llim  \\\n",
      "spaniel            3              2   0.250000           0.2        0.068217   \n",
      "terrier            3              1   0.250000           0.1        0.068217   \n",
      "collie             4              3   0.333333           0.3        0.108808   \n",
      "labrador           2              4   0.166667           0.4        0.034702   \n",
      "\n",
      "          case_95CI_ulim  control_95CI_llim  control_95CI_ulim  \n",
      "spaniel         0.602809           0.041845           0.588663  \n",
      "terrier         0.602809           0.012443           0.494901  \n",
      "collie          0.671876           0.082588           0.671084  \n",
      "labrador        0.526666           0.132347           0.744489  \n",
      "          case_count  control_count  case_prop  control_prop  case_95CI_llim  \\\n",
      "spaniel            3              2   0.250000           0.2        0.068217   \n",
      "terrier            3              1   0.250000           0.1        0.068217   \n",
      "collie             4              3   0.333333           0.3        0.108808   \n",
      "labrador           2              4   0.166667           0.4        0.034702   \n",
      "\n",
      "          case_95CI_ulim  control_95CI_llim  control_95CI_ulim  \n",
      "spaniel         0.602809           0.041845           0.588663  \n",
      "terrier         0.602809           0.012443           0.494901  \n",
      "collie          0.671876           0.082588           0.671084  \n",
      "labrador        0.526666           0.132347           0.744489  \n"
     ]
    },
    {
     "data": {
      "image/png": "[encoded data removed]",
      "text/plain": [
       "<Figure size 432x288 with 1 Axes>"
      ]
     },
     "metadata": {
      "needs_background": "light"
     },
     "output_type": "display_data"
    }
   ],
   "source": [
    "phjTempDF = pd.DataFrame({'group':['case','case','case','control','control','case','case','case','control','control','control','control','case','case','case','control','control','control','control','case','case','case','case','case',np.nan,np.nan],\n",
    "                          'category':[np.nan,'spaniel','missing','terrier','collie','labrador','labrador','collie','spaniel','spaniel','labrador','collie','terrier','terrier','terrier','collie','labrador','labrador','labrador','spaniel','spaniel','collie','collie','collie','terrier','spaniel'],\n",
    "                          'catint':[1,2,3,2,3,2,1,2,1,2,3,2,3,2,3,1,2,3,2,3,2,3,2,3,1,2]})\n",
    "\n",
    "print(phjTempDF)\n",
    "print('\\n')\n",
    "\n",
    "phjRelFreqDF = epy.phjCalculateMultinomialProportions(phjDF = phjTempDF,\n",
    "                                                      phjCategoryVarName = 'category',\n",
    "                                                      phjGroupVarName = 'group',\n",
    "                                                      phjMissingValue = 'missing',\n",
    "                                                      phjMultinomialConfIntMethod = 'goodman',\n",
    "                                                      phjAlpha = 0.05,\n",
    "                                                      phjPlotRelFreq = True,\n",
    "                                                      phjCategoriesToPlotList = 'all',\n",
    "                                                      phjGroupsToPlotList = 'all',   # Currently not implemented\n",
    "                                                      phjGraphTitle = 'Relative frequencies (Goodman CI)',\n",
    "                                                      phjPrintResults = True)\n",
    "\n",
    "print(phjRelFreqDF)"
   ]
  },
  {
   "cell_type": "markdown",
   "metadata": {},
   "source": [
    "### FUNCTION: phjSummaryTableToBinaryOutcomes()"
   ]
  },
  {
   "cell_type": "code",
   "execution_count": 17,
   "metadata": {},
   "outputs": [
    {
     "name": "stdout",
     "output_type": "stream",
     "text": [
      "Original table of summary results\n",
      "\n",
      "   year  cases  controls                comment\n",
      "0  2010     23      1023  Small number of cases\n",
      "1  2011     34      1243    Proportion increase\n",
      "2  2012     41      1145        Trend continues\n",
      "3  2013     57      2017   Decreased proportion\n",
      "4  2014     62      1876        Increased again\n",
      "\n",
      "\n",
      "Dataframe of binary outcomes\n",
      "\n",
      "      year  outcome\n",
      "0     2010        1\n",
      "1     2010        1\n",
      "2     2010        1\n",
      "...    ...      ...\n",
      "7518  2014        0\n",
      "7519  2014        0\n",
      "7520  2014        0\n",
      "\n",
      "[7521 rows x 2 columns]\n"
     ]
    }
   ],
   "source": [
    "# Generate the dataframe used in the original description of the function\n",
    "df = pd.DataFrame({'year':[2010,2011,2012,2013,2014],\n",
    "                   'cases':[23,34,41,57,62],\n",
    "                   'controls':[1023,1243,1145,2017,1876],\n",
    "                   'comment':['Small number of cases',\n",
    "                              'Proportion increase',\n",
    "                              'Trend continues',\n",
    "                              'Decreased proportion',\n",
    "                              'Increased again']})\n",
    "\n",
    "# Reorder the columns a little\n",
    "df = df[['year','cases','controls','comment']]\n",
    "\n",
    "# Convert to dataframe containing binary outcome data\n",
    "newDF = epy.phjSummaryTableToBinaryOutcomes(phjDF = df,\n",
    "                                            phjVarsToIncludeList = ['year','cases','controls'],\n",
    "                                            phjSuccVarName = 'cases',\n",
    "                                            phjFailVarName = 'controls',\n",
    "                                            phjTotalVarName = None,\n",
    "                                            phjOutcomeVarName = 'outcome',\n",
    "                                            phjPrintResults = False)\n",
    "\n",
    "# Print results\n",
    "print('Original table of summary results\\n')\n",
    "print(df)\n",
    "\n",
    "print('\\n')\n",
    "\n",
    "print('Dataframe of binary outcomes\\n')\n",
    "with pd.option_context('display.max_rows',6, 'display.max_columns',2):\n",
    "    print(newDF)"
   ]
  },
  {
   "cell_type": "markdown",
   "metadata": {},
   "source": [
    "### FUNCTION: phjAnnualDiseaseTrend()"
   ]
  },
  {
   "cell_type": "code",
   "execution_count": 18,
   "metadata": {},
   "outputs": [
    {
     "name": "stdout",
     "output_type": "stream",
     "text": [
      "Optimization terminated successfully.\n",
      "         Current function value: 0.091853\n",
      "         Iterations 22\n"
     ]
    },
    {
     "data": {
      "image/png": "[encoded data removed]",
      "text/plain": [
       "<Figure size 720x432 with 1 Axes>"
      ]
     },
     "metadata": {
      "needs_background": "light"
     },
     "output_type": "display_data"
    }
   ],
   "source": [
    "phjDiseaseDF = pd.DataFrame({'year':[2008,2009,2010,2011,2012,2013,2014,2015,2016,2017,2018],\n",
    "                             'positive':[18,34,24,26,30,27,36,17,18,15,4],\n",
    "                             'negative':[1695,1733,1929,1517,1449,1329,1130,928,753,496,325]})\n",
    "\n",
    "phjDiseaseDF = epy.phjAnnualDiseaseTrend(phjDF = phjDiseaseDF.loc[phjDiseaseDF['year'] < 2018,:],\n",
    "                                         phjYearVarName = 'year',\n",
    "                                         phjPositivesVarName = 'positive',\n",
    "                                         phjNegativesVarName = 'negative',\n",
    "                                         phjTotalVarName = None,\n",
    "                                         phjConfIntMethod = 'normal',\n",
    "                                         phjAlpha = 0.05,\n",
    "                                         phjPlotProportions = True,\n",
    "                                         phjPlotPrediction = True,\n",
    "                                         phjGraphTitleStr = None,\n",
    "                                         phjPrintResults = False)"
   ]
  },
  {
   "cell_type": "markdown",
   "metadata": {},
   "source": [
    "---"
   ]
  },
  {
   "cell_type": "markdown",
   "metadata": {},
   "source": [
    "## FILE: phjCleanUKPostcodes.py"
   ]
  },
  {
   "cell_type": "markdown",
   "metadata": {},
   "source": [
    "### FUNCTION: phjCleanUKPostcodeVariable()"
   ]
  },
  {
   "cell_type": "markdown",
   "metadata": {},
   "source": [
    "#### Clean postcodes based on format alone"
   ]
  },
  {
   "cell_type": "code",
   "execution_count": 3,
   "metadata": {
    "scrolled": false
   },
   "outputs": [
    {
     "name": "stdout",
     "output_type": "stream",
     "text": [
      "\n",
      "Start dataframe\n",
      "===============\n",
      "\n",
      "                        postcode  pcdClean  pcd7  postcodeOutward  \\\n",
      "0                         NP45DG       NaN   NaN              NaN   \n",
      "1                        CH647TE       NaN   NaN              NaN   \n",
      "2                        CH5 4HE       NaN   NaN              NaN   \n",
      "3                        GIR 0AA       NaN   NaN              NaN   \n",
      "4                       NOT NOWN       NaN   NaN              NaN   \n",
      "5                         GIR0AB       NaN   NaN              NaN   \n",
      "6                         NOR12A       NaN   NaN              NaN   \n",
      "7                        no idea       NaN   NaN              NaN   \n",
      "8                        W1A 1AA       NaN   NaN              NaN   \n",
      "9                         missin       NaN   NaN              NaN   \n",
      "10                      NP4  OGH       NaN   NaN              NaN   \n",
      "11                      P012 OLL       NaN   NaN              NaN   \n",
      "12                          p01s       NaN   NaN              NaN   \n",
      "13                          ABCD       NaN   NaN              NaN   \n",
      "14                                     NaN   NaN              NaN   \n",
      "15                       ab123cd       NaN   NaN              NaN   \n",
      "16                      un-known       NaN   NaN              NaN   \n",
      "17                     B1    INJ       NaN   NaN              NaN   \n",
      "18                       AB123CD       NaN   NaN              NaN   \n",
      "19  No idea what the postcode is       NaN   NaN              NaN   \n",
      "20              ???NP4-5DG_*#          NaN   NaN              NaN   \n",
      "\n",
      "    someOtherCol  \n",
      "0            NaN  \n",
      "1            NaN  \n",
      "2            NaN  \n",
      "3            NaN  \n",
      "4            NaN  \n",
      "5            NaN  \n",
      "6            NaN  \n",
      "7            NaN  \n",
      "8            NaN  \n",
      "9            NaN  \n",
      "10           NaN  \n",
      "11           NaN  \n",
      "12           NaN  \n",
      "13           NaN  \n",
      "14           NaN  \n",
      "15           NaN  \n",
      "16           NaN  \n",
      "17           NaN  \n",
      "18           NaN  \n",
      "19           NaN  \n",
      "20           NaN  \n",
      "\n",
      "\n",
      "\n",
      "Correctly and incorrectly formatted postcodes (BEFORE ERROR CORRECTION):\n",
      "False    10\n",
      "True      7\n",
      "Name: pcdFormatCheck, dtype: int64\n",
      "                        postcode                 pcdClean pcdFormatCheck  \\\n",
      "0                         NP45DG                   NP45DG           True   \n",
      "1                        CH647TE                  CH647TE           True   \n",
      "2                        CH5 4HE                   CH54HE           True   \n",
      "3                        GIR 0AA                   GIR0AA           True   \n",
      "4                       NOT NOWN                  missing            NaN   \n",
      "5                         GIR0AB                   GIR0AB          False   \n",
      "6                         NOR12A                   NOR12A           True   \n",
      "7                        no idea                   NOIDEA          False   \n",
      "8                        W1A 1AA                   W1A1AA           True   \n",
      "9                         missin                  missing            NaN   \n",
      "10                      NP4  OGH                   NP4OGH          False   \n",
      "11                      P012 OLL                  P012OLL          False   \n",
      "12                          p01s                     P01S          False   \n",
      "13                          ABCD                     ABCD          False   \n",
      "14                                                missing            NaN   \n",
      "15                       ab123cd                  AB123CD          False   \n",
      "16                      un-known                  missing            NaN   \n",
      "17                     B1    INJ                    B1INJ          False   \n",
      "18                       AB123CD                  AB123CD          False   \n",
      "19  No idea what the postcode is  NOIDEAWHATTHEPOSTCODEIS          False   \n",
      "20              ???NP4-5DG_*#                      NP45DG           True   \n",
      "\n",
      "    pcdCleanStrLen  \n",
      "0                6  \n",
      "1                7  \n",
      "2                6  \n",
      "3                6  \n",
      "4                7  \n",
      "5                6  \n",
      "6                6  \n",
      "7                6  \n",
      "8                6  \n",
      "9                7  \n",
      "10               6  \n",
      "11               7  \n",
      "12               4  \n",
      "13               4  \n",
      "14               7  \n",
      "15               7  \n",
      "16               7  \n",
      "17               5  \n",
      "18               7  \n",
      "19              23  \n",
      "20               6  \n",
      "\n",
      "\n",
      "\n",
      "Correctly and incorrectly formatted postcodes (AFTER ERROR CORRECTION):\n",
      "True     10\n",
      "False     7\n",
      "Name: pcdFormatCheck, dtype: int64\n",
      "                        postcode pcdClean pcdFormatCheck  pcdCleanStrLen\n",
      "0                         NP45DG   NP45DG           True               6\n",
      "1                        CH647TE  CH647TE           True               7\n",
      "2                        CH5 4HE   CH54HE           True               6\n",
      "3                        GIR 0AA   GIR0AA           True               6\n",
      "4                       NOT NOWN  missing            NaN               7\n",
      "5                         GIR0AB   GIR0AB          False               6\n",
      "6                         NOR12A   NOR12A           True               6\n",
      "7                        no idea   NO1DEA          False               6\n",
      "8                        W1A 1AA   W1A1AA           True               6\n",
      "9                         missin  missing            NaN               7\n",
      "10                      NP4  OGH   NP40GH           True               6\n",
      "11                      P012 OLL  PO120LL           True               7\n",
      "12                          p01s     PO15          False               4\n",
      "13                          ABCD     ABCD          False               4\n",
      "14                                missing            NaN               7\n",
      "15                       ab123cd  AB123CD          False               7\n",
      "16                      un-known  missing            NaN               7\n",
      "17                     B1    INJ    B11NJ           True               5\n",
      "18                       AB123CD  AB123CD          False               7\n",
      "19  No idea what the postcode is  missing          False              23\n",
      "20              ???NP4-5DG_*#      NP45DG           True               6\n",
      "\n",
      "\n",
      "\n",
      "Final working postcode dataframe\n",
      "================================\n",
      "\n",
      "                        postcode pcdClean pcdFormatCheck  pcdCleanStrLen  \\\n",
      "0                         NP45DG   NP45DG           True               6   \n",
      "1                        CH647TE  CH647TE           True               7   \n",
      "2                        CH5 4HE   CH54HE           True               6   \n",
      "3                        GIR 0AA   GIR0AA           True               6   \n",
      "4                       NOT NOWN  missing            NaN               7   \n",
      "5                         GIR0AB  missing          False               6   \n",
      "6                         NOR12A   NOR12A           True               6   \n",
      "7                        no idea  missing          False               6   \n",
      "8                        W1A 1AA   W1A1AA           True               6   \n",
      "9                         missin  missing            NaN               7   \n",
      "10                      NP4  OGH   NP40GH           True               6   \n",
      "11                      P012 OLL  PO120LL           True               7   \n",
      "12                          p01s     PO15           True               4   \n",
      "13                          ABCD  missing          False               4   \n",
      "14                                missing            NaN               7   \n",
      "15                       ab123cd     AB12           True               7   \n",
      "16                      un-known  missing            NaN               7   \n",
      "17                     B1    INJ    B11NJ           True               5   \n",
      "18                       AB123CD     AB12           True               7   \n",
      "19  No idea what the postcode is  missing          False              23   \n",
      "20              ???NP4-5DG_*#      NP45DG           True               6   \n",
      "\n",
      "       pcd7 postcodeOutward postcodeInward pcdArea  \n",
      "0   NP4 5DG             NP4            5DG      NP  \n",
      "1   CH647TE            CH64            7TE      CH  \n",
      "2   CH5 4HE             CH5            4HE      CH  \n",
      "3   GIR 0AA             GIR            0AA     GIR  \n",
      "4       NaN             NaN            NaN     NaN  \n",
      "5       NaN             NaN            NaN     NaN  \n",
      "6   NOR 12A             NOR            12A     NOR  \n",
      "7       NaN             NaN            NaN     NaN  \n",
      "8   W1A 1AA             W1A            1AA       W  \n",
      "9       NaN             NaN            NaN     NaN  \n",
      "10  NP4 0GH             NP4            0GH      NP  \n",
      "11  PO120LL            PO12            0LL      PO  \n",
      "12      NaN            PO15            NaN      PO  \n",
      "13      NaN             NaN            NaN     NaN  \n",
      "14      NaN             NaN            NaN     NaN  \n",
      "15      NaN            AB12            NaN      AB  \n",
      "16      NaN             NaN            NaN     NaN  \n",
      "17  B1  1NJ              B1            1NJ       B  \n",
      "18      NaN            AB12            NaN      AB  \n",
      "19      NaN             NaN            NaN     NaN  \n",
      "20  NP4 5DG             NP4            5DG      NP  \n",
      "\n",
      "\n",
      "\n",
      "Returned dataframe\n",
      "==================\n",
      "\n",
      "                        postcode  someOtherCol pcdClean pcdFormatCheck  \\\n",
      "0                         NP45DG           NaN   NP45DG           True   \n",
      "1                        CH647TE           NaN  CH647TE           True   \n",
      "2                        CH5 4HE           NaN   CH54HE           True   \n",
      "3                        GIR 0AA           NaN   GIR0AA           True   \n",
      "4                       NOT NOWN           NaN  missing            NaN   \n",
      "5                         GIR0AB           NaN  missing          False   \n",
      "6                         NOR12A           NaN   NOR12A           True   \n",
      "7                        no idea           NaN  missing          False   \n",
      "8                        W1A 1AA           NaN   W1A1AA           True   \n",
      "9                         missin           NaN  missing            NaN   \n",
      "10                      NP4  OGH           NaN   NP40GH           True   \n",
      "11                      P012 OLL           NaN  PO120LL           True   \n",
      "12                          p01s           NaN     PO15           True   \n",
      "13                          ABCD           NaN  missing          False   \n",
      "14                                         NaN  missing            NaN   \n",
      "15                       ab123cd           NaN     AB12           True   \n",
      "16                      un-known           NaN  missing            NaN   \n",
      "17                     B1    INJ           NaN    B11NJ           True   \n",
      "18                       AB123CD           NaN     AB12           True   \n",
      "19  No idea what the postcode is           NaN  missing          False   \n",
      "20              ???NP4-5DG_*#              NaN   NP45DG           True   \n",
      "\n",
      "    pcdCleanStrLen     pcd7 postcodeOutward postcodeInward pcdArea  \n",
      "0                6  NP4 5DG             NP4            5DG      NP  \n",
      "1                7  CH647TE            CH64            7TE      CH  \n",
      "2                6  CH5 4HE             CH5            4HE      CH  \n",
      "3                6  GIR 0AA             GIR            0AA     GIR  \n",
      "4                7      NaN             NaN            NaN     NaN  \n",
      "5                6      NaN             NaN            NaN     NaN  \n",
      "6                6  NOR 12A             NOR            12A     NOR  \n",
      "7                6      NaN             NaN            NaN     NaN  \n",
      "8                6  W1A 1AA             W1A            1AA       W  \n",
      "9                7      NaN             NaN            NaN     NaN  \n",
      "10               6  NP4 0GH             NP4            0GH      NP  \n",
      "11               7  PO120LL            PO12            0LL      PO  \n",
      "12               4      NaN            PO15            NaN      PO  \n",
      "13               4      NaN             NaN            NaN     NaN  \n",
      "14               7      NaN             NaN            NaN     NaN  \n",
      "15               7      NaN            AB12            NaN      AB  \n",
      "16               7      NaN             NaN            NaN     NaN  \n",
      "17               5  B1  1NJ              B1            1NJ       B  \n",
      "18               7      NaN            AB12            NaN      AB  \n",
      "19              23      NaN             NaN            NaN     NaN  \n",
      "20               6  NP4 5DG             NP4            5DG      NP  \n"
     ]
    },
    {
     "name": "stderr",
     "output_type": "stream",
     "text": [
      "/Users/philipjones/opt/anaconda3/envs/gen-env37-pd_v1/lib/python3.7/site-packages/pandas/core/strings.py:1952: UserWarning: This pattern has match groups. To actually get the groups, use str.extract.\n",
      "  return func(self, *args, **kwargs)\n",
      "/Users/philipjones/opt/anaconda3/envs/gen-env37-pd_v1/lib/python3.7/site-packages/pandas/core/strings.py:1952: UserWarning: This pattern has match groups. To actually get the groups, use str.extract.\n",
      "  return func(self, *args, **kwargs)\n",
      "/Users/philipjones/opt/anaconda3/envs/gen-env37-pd_v1/lib/python3.7/site-packages/pandas/core/strings.py:1952: UserWarning: This pattern has match groups. To actually get the groups, use str.extract.\n",
      "  return func(self, *args, **kwargs)\n"
     ]
    }
   ],
   "source": [
    "# Create a test dataframe that contains a postcode variable and some other empty variables\n",
    "# that have the same names as the new variables that will be created. Setting the 'phjDropExisting'\n",
    "# variable to true will automatically drop pre-existing variables before running the function.\n",
    "# Some of the variables in the test dataframe are not duplicated and are present to show that the\n",
    "# function preserves those variables in tact.\n",
    "\n",
    "import numpy as np\n",
    "import pandas as pd\n",
    "import re\n",
    "\n",
    "# Create test dataframe\n",
    "myTestPostcodeDF = pd.DataFrame({'postcode': ['NP45DG',\n",
    "                                              'CH647TE',\n",
    "                                              'CH5 4HE',\n",
    "                                              'GIR 0AA',\n",
    "                                              'NOT NOWN',\n",
    "                                              'GIR0AB',\n",
    "                                              'NOR12A',\n",
    "                                              'no idea',\n",
    "                                              'W1A 1AA',\n",
    "                                              'missin',\n",
    "                                              'NP4  OGH',\n",
    "                                              'P012 OLL',\n",
    "                                              'p01s',\n",
    "                                              'ABCD',\n",
    "                                              '',\n",
    "                                              'ab123cd',\n",
    "                                              'un-known',\n",
    "                                              'B1    INJ',\n",
    "                                              'AB123CD',\n",
    "                                              'No idea what the postcode is',\n",
    "                                              '    ???NP4-5DG_*#   '],\n",
    "                                 'pcdClean': np.nan,\n",
    "                                 'pcd7': np.nan,\n",
    "                                 'postcodeOutward': np.nan,\n",
    "                                 'someOtherCol': np.nan})\n",
    "\n",
    "# Run function to extract postcode data\n",
    "print('\\nStart dataframe\\n===============\\n')\n",
    "print(myTestPostcodeDF)\n",
    "print('\\n')\n",
    "\n",
    "myTestPostcodeDF = epy.phjCleanUKPostcodeVariable(phjDF = myTestPostcodeDF,\n",
    "                                                  phjRealPostcodeSer = None,\n",
    "                                                  phjOrigPostcodeVarName = 'postcode',\n",
    "                                                  phjNewPostcodeVarName = 'pcdClean',\n",
    "                                                  phjNewPostcodeStrLenVarName = 'pcdCleanStrLen',\n",
    "                                                  phjPostcodeCheckVarName = 'pcdFormatCheck',\n",
    "                                                  phjMissingValueCode = 'missing',\n",
    "                                                  phjMinDamerauLevenshteinDistanceVarName = 'minDamLevDist',\n",
    "                                                  phjBestAlternativesVarName = 'bestAlternatives',\n",
    "                                                  phjPostcode7VarName = 'pcd7',\n",
    "                                                  phjPostcodeAreaVarName = 'pcdArea',\n",
    "                                                  phjSalvageOutwardPostcodeComponent = True,\n",
    "                                                  phjCheckByOption = 'format',\n",
    "                                                  phjDropExisting = True,\n",
    "                                                  phjPrintResults = True)\n",
    "\n",
    "print('\\nReturned dataframe\\n==================\\n')\n",
    "print(myTestPostcodeDF)"
   ]
  },
  {
   "cell_type": "markdown",
   "metadata": {},
   "source": [
    "#### Clean postcodes based on real postcode and identify closest matches"
   ]
  },
  {
   "cell_type": "code",
   "execution_count": 5,
   "metadata": {
    "scrolled": false
   },
   "outputs": [
    {
     "name": "stdout",
     "output_type": "stream",
     "text": [
      "\n",
      "Start dataframe\n",
      "===============\n",
      "\n",
      "                        postcode  pcdClean  pcd7  postcodeOutward  \\\n",
      "0                         NP45DG       NaN   NaN              NaN   \n",
      "1                        CH647TE       NaN   NaN              NaN   \n",
      "2                        CH5 4HE       NaN   NaN              NaN   \n",
      "3                        GIR 0AA       NaN   NaN              NaN   \n",
      "4                       NOT NOWN       NaN   NaN              NaN   \n",
      "5                         GIR0AB       NaN   NaN              NaN   \n",
      "6                         NOR12A       NaN   NaN              NaN   \n",
      "7                        no idea       NaN   NaN              NaN   \n",
      "8                        W1A 1AA       NaN   NaN              NaN   \n",
      "9                         missin       NaN   NaN              NaN   \n",
      "10                      NP4  OGH       NaN   NaN              NaN   \n",
      "11                      P012 OLL       NaN   NaN              NaN   \n",
      "12                          p01s       NaN   NaN              NaN   \n",
      "13                          ABCD       NaN   NaN              NaN   \n",
      "14                                     NaN   NaN              NaN   \n",
      "15                       ab123cd       NaN   NaN              NaN   \n",
      "16                      un-known       NaN   NaN              NaN   \n",
      "17                     B1    INJ       NaN   NaN              NaN   \n",
      "18                       AB123CD       NaN   NaN              NaN   \n",
      "19  No idea what the postcode is       NaN   NaN              NaN   \n",
      "20              ???NP4-5DG_*#          NaN   NaN              NaN   \n",
      "\n",
      "    someOtherCol  \n",
      "0            NaN  \n",
      "1            NaN  \n",
      "2            NaN  \n",
      "3            NaN  \n",
      "4            NaN  \n",
      "5            NaN  \n",
      "6            NaN  \n",
      "7            NaN  \n",
      "8            NaN  \n",
      "9            NaN  \n",
      "10           NaN  \n",
      "11           NaN  \n",
      "12           NaN  \n",
      "13           NaN  \n",
      "14           NaN  \n",
      "15           NaN  \n",
      "16           NaN  \n",
      "17           NaN  \n",
      "18           NaN  \n",
      "19           NaN  \n",
      "20           NaN  \n",
      "\n",
      "\n",
      "\n",
      "Correctly and incorrectly formatted postcodes (BEFORE ERROR CORRECTION):\n",
      "False    12\n",
      "True      5\n",
      "Name: pcdFormatCheck, dtype: int64\n",
      "                        postcode                 pcdClean pcdFormatCheck  \\\n",
      "0                         NP45DG                   NP45DG           True   \n",
      "1                        CH647TE                  CH647TE           True   \n",
      "2                        CH5 4HE                   CH54HE           True   \n",
      "3                        GIR 0AA                   GIR0AA          False   \n",
      "4                       NOT NOWN                  missing            NaN   \n",
      "5                         GIR0AB                   GIR0AB          False   \n",
      "6                         NOR12A                   NOR12A          False   \n",
      "7                        no idea                   NOIDEA          False   \n",
      "8                        W1A 1AA                   W1A1AA           True   \n",
      "9                         missin                  missing            NaN   \n",
      "10                      NP4  OGH                   NP4OGH          False   \n",
      "11                      P012 OLL                  P012OLL          False   \n",
      "12                          p01s                     P01S          False   \n",
      "13                          ABCD                     ABCD          False   \n",
      "14                                                missing            NaN   \n",
      "15                       ab123cd                  AB123CD          False   \n",
      "16                      un-known                  missing            NaN   \n",
      "17                     B1    INJ                    B1INJ          False   \n",
      "18                       AB123CD                  AB123CD          False   \n",
      "19  No idea what the postcode is  NOIDEAWHATTHEPOSTCODEIS          False   \n",
      "20              ???NP4-5DG_*#                      NP45DG           True   \n",
      "\n",
      "    pcdCleanStrLen  \n",
      "0                6  \n",
      "1                7  \n",
      "2                6  \n",
      "3                6  \n",
      "4                7  \n",
      "5                6  \n",
      "6                6  \n",
      "7                6  \n",
      "8                6  \n",
      "9                7  \n",
      "10               6  \n",
      "11               7  \n",
      "12               4  \n",
      "13               4  \n",
      "14               7  \n",
      "15               7  \n",
      "16               7  \n",
      "17               5  \n",
      "18               7  \n",
      "19              23  \n",
      "20               6  \n",
      "\n",
      "\n",
      "\n",
      "Correctly and incorrectly formatted postcodes (AFTER ERROR CORRECTION):\n",
      "False    10\n",
      "True      7\n",
      "Name: pcdFormatCheck, dtype: int64\n",
      "                        postcode pcdClean pcdFormatCheck  pcdCleanStrLen\n",
      "0                         NP45DG   NP45DG           True               6\n",
      "1                        CH647TE  CH647TE           True               7\n",
      "2                        CH5 4HE   CH54HE           True               6\n",
      "3                        GIR 0AA   GIR0AA          False               6\n",
      "4                       NOT NOWN  missing            NaN               7\n",
      "5                         GIR0AB   GIR0AB          False               6\n",
      "6                         NOR12A   NOR1ZA          False               6\n",
      "7                        no idea   NO1DEA          False               6\n",
      "8                        W1A 1AA   W1A1AA           True               6\n",
      "9                         missin  missing            NaN               7\n",
      "10                      NP4  OGH   NP40GH           True               6\n",
      "11                      P012 OLL  PO120LL           True               7\n",
      "12                          p01s     PO15          False               4\n",
      "13                          ABCD     ABCD          False               4\n",
      "14                                missing            NaN               7\n",
      "15                       ab123cd  AB123CD          False               7\n",
      "16                      un-known  missing            NaN               7\n",
      "17                     B1    INJ    B11NJ          False               5\n",
      "18                       AB123CD  AB123CD          False               7\n",
      "19  No idea what the postcode is  missing          False              23\n",
      "20              ???NP4-5DG_*#      NP45DG           True               6\n",
      "\n",
      "\n",
      "Consider first postcode entry: GIR0AA\n",
      "   Returned list of edits: [4, None]\n",
      "\n",
      "Consider first postcode entry: GIR0AA\n",
      "   Returned list of edits: [4, None]\n",
      "\n",
      "Consider first postcode entry: GIR0AB\n",
      "   Returned list of edits: [5, None]\n",
      "\n",
      "Consider first postcode entry: NOR1ZA\n",
      "   Returned list of edits: [4, None]\n",
      "\n",
      "Consider first postcode entry: NO1DEA\n",
      "   Returned list of edits: [5, None]\n",
      "\n",
      "Consider first postcode entry: PO15\n",
      "   Returned list of edits: [4, None]\n",
      "\n",
      "Consider first postcode entry: ABCD\n",
      "   Returned list of edits: [4, None]\n",
      "\n",
      "Consider first postcode entry: AB123CD\n",
      "   Returned list of edits: [1, ['AB123CF', 'AB123CV']]\n",
      "\n",
      "Consider first postcode entry: B11NJ\n",
      "   Returned list of edits: [4, None]\n",
      "\n",
      "Consider first postcode entry: AB123CD\n",
      "   Returned list of edits: [1, ['AB123CF', 'AB123CV']]\n",
      "\n",
      "\n",
      "Final working postcode dataframe\n",
      "================================\n",
      "\n",
      "                        postcode pcdClean pcdFormatCheck  pcdCleanStrLen  \\\n",
      "0                         NP45DG   NP45DG           True             6.0   \n",
      "1                        CH647TE  CH647TE           True             7.0   \n",
      "2                        CH5 4HE   CH54HE           True             6.0   \n",
      "3                        GIR 0AA  missing          False             6.0   \n",
      "4                       NOT NOWN  missing            NaN             7.0   \n",
      "5                         GIR0AB  missing          False             6.0   \n",
      "6                         NOR12A  missing          False             6.0   \n",
      "7                        no idea  missing          False             6.0   \n",
      "8                        W1A 1AA   W1A1AA           True             6.0   \n",
      "9                         missin  missing            NaN             7.0   \n",
      "10                      NP4  OGH   NP40GH           True             6.0   \n",
      "11                      P012 OLL  PO120LL           True             7.0   \n",
      "12                          p01s  missing          False             4.0   \n",
      "13                          ABCD  missing          False             4.0   \n",
      "14                                missing            NaN             7.0   \n",
      "15                       ab123cd  missing          False             7.0   \n",
      "16                      un-known  missing            NaN             7.0   \n",
      "17                     B1    INJ  missing          False             5.0   \n",
      "18                       AB123CD  missing          False             7.0   \n",
      "19  No idea what the postcode is  missing          False            23.0   \n",
      "20              ???NP4-5DG_*#      NP45DG           True             6.0   \n",
      "\n",
      "       pcd7 postcodeOutward postcodeInward  minDamLevDist    bestAlternatives  \\\n",
      "0   NP4 5DG             NP4            5DG            NaN                 NaN   \n",
      "1   CH647TE            CH64            7TE            NaN                 NaN   \n",
      "2   CH5 4HE             CH5            4HE            NaN                 NaN   \n",
      "3       NaN             NaN            NaN            4.0                 NaN   \n",
      "4       NaN             NaN            NaN            NaN                 NaN   \n",
      "5       NaN             NaN            NaN            5.0                 NaN   \n",
      "6       NaN             NaN            NaN            4.0                 NaN   \n",
      "7       NaN             NaN            NaN            5.0                 NaN   \n",
      "8   W1A 1AA             W1A            1AA            NaN                 NaN   \n",
      "9       NaN             NaN            NaN            NaN                 NaN   \n",
      "10  NP4 0GH             NP4            0GH            NaN                 NaN   \n",
      "11  PO120LL            PO12            0LL            NaN                 NaN   \n",
      "12      NaN             NaN            NaN            4.0                 NaN   \n",
      "13      NaN             NaN            NaN            4.0                 NaN   \n",
      "14      NaN             NaN            NaN            NaN                 NaN   \n",
      "15      NaN             NaN            NaN            1.0  [AB123CF, AB123CV]   \n",
      "16      NaN             NaN            NaN            NaN                 NaN   \n",
      "17      NaN             NaN            NaN            4.0                 NaN   \n",
      "18      NaN             NaN            NaN            1.0  [AB123CF, AB123CV]   \n",
      "19      NaN             NaN            NaN            NaN                 NaN   \n",
      "20  NP4 5DG             NP4            5DG            NaN                 NaN   \n",
      "\n",
      "   pcdArea  \n",
      "0       NP  \n",
      "1       CH  \n",
      "2       CH  \n",
      "3      NaN  \n",
      "4      NaN  \n",
      "5      NaN  \n",
      "6      NaN  \n",
      "7      NaN  \n",
      "8        W  \n",
      "9      NaN  \n",
      "10      NP  \n",
      "11      PO  \n",
      "12     NaN  \n",
      "13     NaN  \n",
      "14     NaN  \n",
      "15     NaN  \n",
      "16     NaN  \n",
      "17     NaN  \n",
      "18     NaN  \n",
      "19     NaN  \n",
      "20      NP  \n",
      "\n",
      "\n",
      "\n",
      "Returned dataframe\n",
      "==================\n",
      "\n",
      "                        postcode  someOtherCol pcdClean pcdFormatCheck  \\\n",
      "0                         NP45DG           NaN   NP45DG           True   \n",
      "1                        CH647TE           NaN  CH647TE           True   \n",
      "2                        CH5 4HE           NaN   CH54HE           True   \n",
      "3                        GIR 0AA           NaN  missing          False   \n",
      "4                       NOT NOWN           NaN  missing            NaN   \n",
      "5                         GIR0AB           NaN  missing          False   \n",
      "6                         NOR12A           NaN  missing          False   \n",
      "7                        no idea           NaN  missing          False   \n",
      "8                        W1A 1AA           NaN   W1A1AA           True   \n",
      "9                         missin           NaN  missing            NaN   \n",
      "10                      NP4  OGH           NaN   NP40GH           True   \n",
      "11                      P012 OLL           NaN  PO120LL           True   \n",
      "12                          p01s           NaN  missing          False   \n",
      "13                          ABCD           NaN  missing          False   \n",
      "14                                         NaN  missing            NaN   \n",
      "15                       ab123cd           NaN  missing          False   \n",
      "16                      un-known           NaN  missing            NaN   \n",
      "17                     B1    INJ           NaN  missing          False   \n",
      "18                       AB123CD           NaN  missing          False   \n",
      "19  No idea what the postcode is           NaN  missing          False   \n",
      "20              ???NP4-5DG_*#              NaN   NP45DG           True   \n",
      "\n",
      "    pcdCleanStrLen     pcd7 postcodeOutward postcodeInward  minDamLevDist  \\\n",
      "0              6.0  NP4 5DG             NP4            5DG            NaN   \n",
      "1              7.0  CH647TE            CH64            7TE            NaN   \n",
      "2              6.0  CH5 4HE             CH5            4HE            NaN   \n",
      "3              6.0      NaN             NaN            NaN            4.0   \n",
      "4              7.0      NaN             NaN            NaN            NaN   \n",
      "5              6.0      NaN             NaN            NaN            5.0   \n",
      "6              6.0      NaN             NaN            NaN            4.0   \n",
      "7              6.0      NaN             NaN            NaN            5.0   \n",
      "8              6.0  W1A 1AA             W1A            1AA            NaN   \n",
      "9              7.0      NaN             NaN            NaN            NaN   \n",
      "10             6.0  NP4 0GH             NP4            0GH            NaN   \n",
      "11             7.0  PO120LL            PO12            0LL            NaN   \n",
      "12             4.0      NaN             NaN            NaN            4.0   \n",
      "13             4.0      NaN             NaN            NaN            4.0   \n",
      "14             7.0      NaN             NaN            NaN            NaN   \n",
      "15             7.0      NaN             NaN            NaN            1.0   \n",
      "16             7.0      NaN             NaN            NaN            NaN   \n",
      "17             5.0      NaN             NaN            NaN            4.0   \n",
      "18             7.0      NaN             NaN            NaN            1.0   \n",
      "19            23.0      NaN             NaN            NaN            NaN   \n",
      "20             6.0  NP4 5DG             NP4            5DG            NaN   \n",
      "\n",
      "      bestAlternatives pcdArea  \n",
      "0                  NaN      NP  \n",
      "1                  NaN      CH  \n",
      "2                  NaN      CH  \n",
      "3                  NaN     NaN  \n",
      "4                  NaN     NaN  \n",
      "5                  NaN     NaN  \n",
      "6                  NaN     NaN  \n",
      "7                  NaN     NaN  \n",
      "8                  NaN       W  \n",
      "9                  NaN     NaN  \n",
      "10                 NaN      NP  \n",
      "11                 NaN      PO  \n",
      "12                 NaN     NaN  \n",
      "13                 NaN     NaN  \n",
      "14                 NaN     NaN  \n",
      "15  [AB123CF, AB123CV]     NaN  \n",
      "16                 NaN     NaN  \n",
      "17                 NaN     NaN  \n",
      "18  [AB123CF, AB123CV]     NaN  \n",
      "19                 NaN     NaN  \n",
      "20                 NaN      NP  \n"
     ]
    }
   ],
   "source": [
    "import re\n",
    "\n",
    "# N.B. When calculating best alternative postcodes, only postcodes that are within\n",
    "# 1 DL distance are considered.\n",
    "\n",
    "# Create a Pandas series that could contain all the postcodes in the UK\n",
    "realPostcodesSer = pd.Series(['NP4 5DG','CH647TE','CH5 4HE','W1A 1AA','NP4 0GH','PO120LL','AB123CF','AB124DF','AB123CV'])\n",
    "\n",
    "# Create test dataframe\n",
    "myTestPostcodeDF = pd.DataFrame({'postcode': ['NP45DG',\n",
    "                                              'CH647TE',\n",
    "                                              'CH5 4HE',\n",
    "                                              'GIR 0AA',\n",
    "                                              'NOT NOWN',\n",
    "                                              'GIR0AB',\n",
    "                                              'NOR12A',\n",
    "                                              'no idea',\n",
    "                                              'W1A 1AA',\n",
    "                                              'missin',\n",
    "                                              'NP4  OGH',\n",
    "                                              'P012 OLL',\n",
    "                                              'p01s',\n",
    "                                              'ABCD',\n",
    "                                              '',\n",
    "                                              'ab123cd',\n",
    "                                              'un-known',\n",
    "                                              'B1    INJ',\n",
    "                                              'AB123CD',\n",
    "                                              'No idea what the postcode is',\n",
    "                                              '    ???NP4-5DG_*#   '],\n",
    "                                 'pcdClean': np.nan,\n",
    "                                 'pcd7': np.nan,\n",
    "                                 'postcodeOutward': np.nan,\n",
    "                                 'someOtherCol': np.nan})\n",
    "\n",
    "# Run function to extract postcode data\n",
    "print('\\nStart dataframe\\n===============\\n')\n",
    "print(myTestPostcodeDF)\n",
    "print('\\n')\n",
    "\n",
    "myTestPostcodeDF = epy.phjCleanUKPostcodeVariable(phjDF = myTestPostcodeDF,\n",
    "                                                  phjRealPostcodeSer = realPostcodesSer,\n",
    "                                                  phjOrigPostcodeVarName = 'postcode',\n",
    "                                                  phjNewPostcodeVarName = 'pcdClean',\n",
    "                                                  phjNewPostcodeStrLenVarName = 'pcdCleanStrLen',\n",
    "                                                  phjPostcodeCheckVarName = 'pcdFormatCheck',\n",
    "                                                  phjMissingValueCode = 'missing',\n",
    "                                                  phjMinDamerauLevenshteinDistanceVarName = 'minDamLevDist',\n",
    "                                                  phjBestAlternativesVarName = 'bestAlternatives',\n",
    "                                                  phjPostcode7VarName = 'pcd7',\n",
    "                                                  phjPostcodeAreaVarName = 'pcdArea',\n",
    "                                                  phjSalvageOutwardPostcodeComponent = True,\n",
    "                                                  phjCheckByOption = 'dictionary',\n",
    "                                                  phjDropExisting = True,\n",
    "                                                  phjPrintResults = True)\n",
    "\n",
    "print('\\nReturned dataframe\\n==================\\n')\n",
    "print(myTestPostcodeDF)"
   ]
  },
  {
   "cell_type": "markdown",
   "metadata": {},
   "source": [
    "### FUNCTION: phjPostcodeFormat7()"
   ]
  },
  {
   "cell_type": "code",
   "execution_count": null,
   "metadata": {},
   "outputs": [],
   "source": []
  },
  {
   "cell_type": "markdown",
   "metadata": {},
   "source": [
    "---"
   ]
  },
  {
   "cell_type": "markdown",
   "metadata": {},
   "source": [
    "## FILE: phjSelectData.py"
   ]
  },
  {
   "cell_type": "markdown",
   "metadata": {},
   "source": [
    "### FUNCTION: phjGenerateCaseControlDataset()"
   ]
  },
  {
   "cell_type": "code",
   "execution_count": null,
   "metadata": {},
   "outputs": [],
   "source": []
  },
  {
   "cell_type": "markdown",
   "metadata": {},
   "source": [
    "### FUNCTION: phjSelectCaseControlDataset()"
   ]
  },
  {
   "cell_type": "markdown",
   "metadata": {},
   "source": [
    "#### Unmatched controls"
   ]
  },
  {
   "cell_type": "code",
   "execution_count": 7,
   "metadata": {},
   "outputs": [
    {
     "name": "stdout",
     "output_type": "stream",
     "text": [
      "This dataframe contains all the cases of disease\n",
      "\n",
      "   animalID  var1   sp\n",
      "0         1    43  dog\n",
      "1         2    45  dog\n",
      "2         3    34  dog\n",
      "3         4    45  dog\n",
      "4         5    56  dog\n",
      "\n",
      "\n",
      "This dataframe contains all the animals you could potentially use as controls\n",
      "\n",
      "    animalID  var1   sp\n",
      "0         11    34  dog\n",
      "1         12    54  cat\n",
      "2         13    34  dog\n",
      "3         14    23  dog\n",
      "4         15    34  cat\n",
      "5         16    45  dog\n",
      "6         17    56  cat\n",
      "7         18    67  dog\n",
      "8         19    56  cat\n",
      "9         20    67  dog\n",
      "10        21    78  dog\n",
      "11        22    98  dog\n",
      "12        23    65  dog\n",
      "13        24    54  cat\n",
      "14        25    34  dog\n",
      "15        26    76  cat\n",
      "16        27    87  dog\n",
      "17        28    56  dog\n",
      "18        29    45  dog\n",
      "19        30    34  cat\n",
      "\n",
      "\n",
      "    case  animalID\n",
      "0      1         1\n",
      "1      1         2\n",
      "2      1         3\n",
      "3      1         4\n",
      "4      1         5\n",
      "5      0        18\n",
      "6      0        25\n",
      "7      0        24\n",
      "8      0        14\n",
      "9      0        22\n",
      "10     0        12\n",
      "11     0        27\n",
      "12     0        16\n",
      "13     0        13\n",
      "14     0        30\n"
     ]
    }
   ],
   "source": [
    "casesDF = pd.DataFrame({'animalID':[1,2,3,4,5],'var1':[43,45,34,45,56],'sp':['dog','dog','dog','dog','dog']})\n",
    "potControlsDF = pd.DataFrame({'animalID':[11,12,13,14,15,16,17,18,19,20,21,22,23,24,25,26,27,28,29,30],\n",
    "                              'var1':[34,54,34,23,34,45,56,67,56,67,78,98,65,54,34,76,87,56,45,34],\n",
    "                              'sp':['dog','cat','dog','dog','cat','dog','cat','dog','cat','dog',\n",
    "                                    'dog','dog','dog','cat','dog','cat','dog','dog','dog','cat']})\n",
    "\n",
    "print(\"This dataframe contains all the cases of disease\\n\")\n",
    "print(casesDF)\n",
    "print(\"\\n\")\n",
    "print(\"This dataframe contains all the animals you could potentially use as controls\\n\")\n",
    "print(potControlsDF)\n",
    "print(\"\\n\")\n",
    "\n",
    "# Selecting unmatched controls\n",
    "unmatchedDF = epy.phjSelectCaseControlDataset(phjCasesDF = casesDF,\n",
    "                                              phjPotentialControlsDF = potControlsDF,\n",
    "                                              phjUniqueIdentifierVarName = 'animalID',\n",
    "                                              phjMatchingVariablesList = None,\n",
    "                                              phjControlsPerCaseInt = 2,\n",
    "                                              phjPrintResults = False)\n",
    "\n",
    "print(unmatchedDF)"
   ]
  },
  {
   "cell_type": "markdown",
   "metadata": {},
   "source": [
    "#### Matched controls"
   ]
  },
  {
   "cell_type": "code",
   "execution_count": 8,
   "metadata": {},
   "outputs": [
    {
     "name": "stdout",
     "output_type": "stream",
     "text": [
      "This dataframe contains all the cases of disease\n",
      "\n",
      "   animalID  var1   sp\n",
      "0         1    43  dog\n",
      "1         2    45  dog\n",
      "2         3    34  dog\n",
      "3         4    45  dog\n",
      "4         5    56  dog\n",
      "\n",
      "\n",
      "This dataframe contains all the animals you could potentially use as controls\n",
      "\n",
      "    animalID  var1   sp\n",
      "0         11    34  dog\n",
      "1         12    54  cat\n",
      "2         13    34  dog\n",
      "3         14    23  dog\n",
      "4         15    34  cat\n",
      "5         16    45  dog\n",
      "6         17    56  cat\n",
      "7         18    67  dog\n",
      "8         19    56  cat\n",
      "9         20    67  dog\n",
      "10        21    78  dog\n",
      "11        22    98  dog\n",
      "12        23    65  dog\n",
      "13        24    54  cat\n",
      "14        25    34  dog\n",
      "15        26    76  cat\n",
      "16        27    87  dog\n",
      "17        28    56  dog\n",
      "18        29    45  dog\n",
      "19        30    34  cat\n",
      "\n",
      "\n"
     ]
    },
    {
     "ename": "AttributeError",
     "evalue": "'DataFrame' object has no attribute 'ix'",
     "output_type": "error",
     "traceback": [
      "\u001b[0;31m---------------------------------------------------------------------------\u001b[0m",
      "\u001b[0;31mAttributeError\u001b[0m                            Traceback (most recent call last)",
      "\u001b[0;32m<ipython-input-8-43475121264b>\u001b[0m in \u001b[0;36m<module>\u001b[0;34m\u001b[0m\n\u001b[1;32m     18\u001b[0m                                             \u001b[0mphjMatchingVariablesList\u001b[0m \u001b[0;34m=\u001b[0m \u001b[0;34m[\u001b[0m\u001b[0;34m'sp'\u001b[0m\u001b[0;34m]\u001b[0m\u001b[0;34m,\u001b[0m\u001b[0;34m\u001b[0m\u001b[0;34m\u001b[0m\u001b[0m\n\u001b[1;32m     19\u001b[0m                                             \u001b[0mphjControlsPerCaseInt\u001b[0m \u001b[0;34m=\u001b[0m \u001b[0;36m2\u001b[0m\u001b[0;34m,\u001b[0m\u001b[0;34m\u001b[0m\u001b[0;34m\u001b[0m\u001b[0m\n\u001b[0;32m---> 20\u001b[0;31m                                             phjPrintResults = False)\n\u001b[0m\u001b[1;32m     21\u001b[0m \u001b[0;34m\u001b[0m\u001b[0m\n\u001b[1;32m     22\u001b[0m \u001b[0mprint\u001b[0m\u001b[0;34m(\u001b[0m\u001b[0mmatchedDF\u001b[0m\u001b[0;34m)\u001b[0m\u001b[0;34m\u001b[0m\u001b[0;34m\u001b[0m\u001b[0m\n",
      "\u001b[0;32m~/Documents/git_repositories/epydemiology/epydemiology/phjSelectData.py\u001b[0m in \u001b[0;36mphjSelectCaseControlDataset\u001b[0;34m(phjCasesDF, phjPotentialControlsDF, phjUniqueIdentifierVarName, phjMatchingVariablesList, phjControlsPerCaseInt, phjPrintResults)\u001b[0m\n\u001b[1;32m    742\u001b[0m                                                                         \u001b[0mphjMatchingVariablesList\u001b[0m \u001b[0;34m=\u001b[0m \u001b[0mphjMatchingVariablesList\u001b[0m\u001b[0;34m,\u001b[0m\u001b[0;34m\u001b[0m\u001b[0;34m\u001b[0m\u001b[0m\n\u001b[1;32m    743\u001b[0m                                                                         \u001b[0mphjControlsPerCaseInt\u001b[0m \u001b[0;34m=\u001b[0m \u001b[0mphjControlsPerCaseInt\u001b[0m\u001b[0;34m,\u001b[0m\u001b[0;34m\u001b[0m\u001b[0;34m\u001b[0m\u001b[0m\n\u001b[0;32m--> 744\u001b[0;31m                                                                         phjPrintResults = phjPrintResults)\n\u001b[0m\u001b[1;32m    745\u001b[0m \u001b[0;34m\u001b[0m\u001b[0m\n\u001b[1;32m    746\u001b[0m     \u001b[0;32melse\u001b[0m\u001b[0;34m:\u001b[0m\u001b[0;34m\u001b[0m\u001b[0;34m\u001b[0m\u001b[0m\n",
      "\u001b[0;32m~/Documents/git_repositories/epydemiology/epydemiology/phjSelectData.py\u001b[0m in \u001b[0;36mphjSelectMatchedCaseControlSubjects\u001b[0;34m(phjCasesDF, phjPotentialControlsDF, phjUniqueIdentifierVarName, phjMatchingVariablesList, phjControlsPerCaseInt, phjPrintResults)\u001b[0m\n\u001b[1;32m   1518\u001b[0m         \u001b[0;31m# -----------------------------------------------\u001b[0m\u001b[0;34m\u001b[0m\u001b[0;34m\u001b[0m\u001b[0;34m\u001b[0m\u001b[0m\n\u001b[1;32m   1519\u001b[0m         \u001b[0;31m# Create a dict for the data held in the matching variables in each case\u001b[0m\u001b[0;34m\u001b[0m\u001b[0;34m\u001b[0m\u001b[0;34m\u001b[0m\u001b[0m\n\u001b[0;32m-> 1520\u001b[0;31m         \u001b[0mphjTempDict\u001b[0m \u001b[0;34m=\u001b[0m \u001b[0mphjCasesDF\u001b[0m\u001b[0;34m.\u001b[0m\u001b[0mix\u001b[0m\u001b[0;34m[\u001b[0m\u001b[0mi\u001b[0m\u001b[0;34m,\u001b[0m\u001b[0mphjMatchingVariablesList\u001b[0m\u001b[0;34m]\u001b[0m\u001b[0;34m.\u001b[0m\u001b[0mto_dict\u001b[0m\u001b[0;34m(\u001b[0m\u001b[0;34m)\u001b[0m\u001b[0;34m\u001b[0m\u001b[0;34m\u001b[0m\u001b[0m\n\u001b[0m\u001b[1;32m   1521\u001b[0m \u001b[0;34m\u001b[0m\u001b[0m\n\u001b[1;32m   1522\u001b[0m         \u001b[0;31m# The above dict is of the form: {'var1': 'a', 'var2': 3}. However, this needs\u001b[0m\u001b[0;34m\u001b[0m\u001b[0;34m\u001b[0m\u001b[0;34m\u001b[0m\u001b[0m\n",
      "\u001b[0;32m~/opt/anaconda3/envs/gen-env37-pd_v1/lib/python3.7/site-packages/pandas/core/generic.py\u001b[0m in \u001b[0;36m__getattr__\u001b[0;34m(self, name)\u001b[0m\n\u001b[1;32m   5272\u001b[0m             \u001b[0;32mif\u001b[0m \u001b[0mself\u001b[0m\u001b[0;34m.\u001b[0m\u001b[0m_info_axis\u001b[0m\u001b[0;34m.\u001b[0m\u001b[0m_can_hold_identifiers_and_holds_name\u001b[0m\u001b[0;34m(\u001b[0m\u001b[0mname\u001b[0m\u001b[0;34m)\u001b[0m\u001b[0;34m:\u001b[0m\u001b[0;34m\u001b[0m\u001b[0;34m\u001b[0m\u001b[0m\n\u001b[1;32m   5273\u001b[0m                 \u001b[0;32mreturn\u001b[0m \u001b[0mself\u001b[0m\u001b[0;34m[\u001b[0m\u001b[0mname\u001b[0m\u001b[0;34m]\u001b[0m\u001b[0;34m\u001b[0m\u001b[0;34m\u001b[0m\u001b[0m\n\u001b[0;32m-> 5274\u001b[0;31m             \u001b[0;32mreturn\u001b[0m \u001b[0mobject\u001b[0m\u001b[0;34m.\u001b[0m\u001b[0m__getattribute__\u001b[0m\u001b[0;34m(\u001b[0m\u001b[0mself\u001b[0m\u001b[0;34m,\u001b[0m \u001b[0mname\u001b[0m\u001b[0;34m)\u001b[0m\u001b[0;34m\u001b[0m\u001b[0;34m\u001b[0m\u001b[0m\n\u001b[0m\u001b[1;32m   5275\u001b[0m \u001b[0;34m\u001b[0m\u001b[0m\n\u001b[1;32m   5276\u001b[0m     \u001b[0;32mdef\u001b[0m \u001b[0m__setattr__\u001b[0m\u001b[0;34m(\u001b[0m\u001b[0mself\u001b[0m\u001b[0;34m,\u001b[0m \u001b[0mname\u001b[0m\u001b[0;34m:\u001b[0m \u001b[0mstr\u001b[0m\u001b[0;34m,\u001b[0m \u001b[0mvalue\u001b[0m\u001b[0;34m)\u001b[0m \u001b[0;34m->\u001b[0m \u001b[0;32mNone\u001b[0m\u001b[0;34m:\u001b[0m\u001b[0;34m\u001b[0m\u001b[0;34m\u001b[0m\u001b[0m\n",
      "\u001b[0;31mAttributeError\u001b[0m: 'DataFrame' object has no attribute 'ix'"
     ]
    }
   ],
   "source": [
    "casesDF = pd.DataFrame({'animalID':[1,2,3,4,5],'var1':[43,45,34,45,56],'sp':['dog','dog','dog','dog','dog']})\n",
    "potControlsDF = pd.DataFrame({'animalID':[11,12,13,14,15,16,17,18,19,20,21,22,23,24,25,26,27,28,29,30],\n",
    "                              'var1':[34,54,34,23,34,45,56,67,56,67,78,98,65,54,34,76,87,56,45,34],\n",
    "                              'sp':['dog','cat','dog','dog','cat','dog','cat','dog','cat','dog',\n",
    "                                    'dog','dog','dog','cat','dog','cat','dog','dog','dog','cat']})\n",
    "\n",
    "print(\"This dataframe contains all the cases of disease\\n\")\n",
    "print(casesDF)\n",
    "print(\"\\n\")\n",
    "print(\"This dataframe contains all the animals you could potentially use as controls\\n\")\n",
    "print(potControlsDF)\n",
    "print(\"\\n\")\n",
    "\n",
    "# Selecting controls that are matched to cases on variable 'sp'\n",
    "matchedDF = epy.phjSelectCaseControlDataset(phjCasesDF = casesDF,\n",
    "                                            phjPotentialControlsDF = potControlsDF,\n",
    "                                            phjUniqueIdentifierVarName = 'animalID',\n",
    "                                            phjMatchingVariablesList = ['sp'],\n",
    "                                            phjControlsPerCaseInt = 2,\n",
    "                                            phjPrintResults = False)\n",
    "\n",
    "print(matchedDF)"
   ]
  },
  {
   "cell_type": "markdown",
   "metadata": {},
   "source": [
    "### FUNCTION: phjCollapseOnPatientID()"
   ]
  },
  {
   "cell_type": "code",
   "execution_count": null,
   "metadata": {},
   "outputs": [],
   "source": []
  },
  {
   "cell_type": "markdown",
   "metadata": {},
   "source": [
    "---"
   ]
  },
  {
   "cell_type": "markdown",
   "metadata": {},
   "source": [
    "## FILE: phjCleanData.py"
   ]
  },
  {
   "cell_type": "markdown",
   "metadata": {},
   "source": [
    "### FUNCTION: phjParseDateVar()"
   ]
  },
  {
   "cell_type": "code",
   "execution_count": null,
   "metadata": {},
   "outputs": [],
   "source": []
  },
  {
   "cell_type": "markdown",
   "metadata": {},
   "source": [
    "---"
   ]
  },
  {
   "cell_type": "markdown",
   "metadata": {},
   "source": [
    "## FILE: phjExploreData.py"
   ]
  },
  {
   "cell_type": "markdown",
   "metadata": {},
   "source": [
    "### FUNCTION: phjViewLogOdds()\n",
    "Example of viewing log odds plotted against mid-point of categories."
   ]
  },
  {
   "cell_type": "markdown",
   "metadata": {},
   "source": [
    "#### Categorise using Jenks breaks and using 'yes' and 'no' as binary outcome"
   ]
  },
  {
   "cell_type": "code",
   "execution_count": 6,
   "metadata": {},
   "outputs": [
    {
     "name": "stdout",
     "output_type": "stream",
     "text": [
      "      binDepVar  riskFactorCont\n",
      "0           yes        0.781663\n",
      "1           yes        0.524304\n",
      "2           yes        0.148153\n",
      "3           yes        0.085513\n",
      "4           yes        0.575465\n",
      "...         ...             ...\n",
      "99995        no        0.211418\n",
      "99996        no        0.458209\n",
      "99997        no        0.447410\n",
      "99998        no        0.222476\n",
      "99999        no        0.198317\n",
      "\n",
      "[100000 rows x 2 columns]\n"
     ]
    },
    {
     "ename": "TypeError",
     "evalue": "phjViewLogOdds() got an unexpected keyword argument 'phjTempDF'",
     "output_type": "error",
     "traceback": [
      "\u001b[0;31m---------------------------------------------------------------------------\u001b[0m",
      "\u001b[0;31mTypeError\u001b[0m                                 Traceback (most recent call last)",
      "\u001b[0;32m<ipython-input-6-6a30e47e5fae>\u001b[0m in \u001b[0;36m<module>\u001b[0;34m\u001b[0m\n\u001b[1;32m     17\u001b[0m                                \u001b[0mphjCategorisationMethod\u001b[0m \u001b[0;34m=\u001b[0m \u001b[0;34m'jenks'\u001b[0m\u001b[0;34m,\u001b[0m\u001b[0;34m\u001b[0m\u001b[0;34m\u001b[0m\u001b[0m\n\u001b[1;32m     18\u001b[0m                                \u001b[0mphjGroupNameVar\u001b[0m \u001b[0;34m=\u001b[0m \u001b[0;32mNone\u001b[0m\u001b[0;34m,\u001b[0m\u001b[0;34m\u001b[0m\u001b[0;34m\u001b[0m\u001b[0m\n\u001b[0;32m---> 19\u001b[0;31m                                phjPrintResults = False)\n\u001b[0m\u001b[1;32m     20\u001b[0m \u001b[0;34m\u001b[0m\u001b[0m\n\u001b[1;32m     21\u001b[0m \u001b[0;32mwith\u001b[0m \u001b[0mpd\u001b[0m\u001b[0;34m.\u001b[0m\u001b[0moption_context\u001b[0m\u001b[0;34m(\u001b[0m\u001b[0;34m'display.max_rows'\u001b[0m\u001b[0;34m,\u001b[0m \u001b[0;36m10\u001b[0m\u001b[0;34m,\u001b[0m \u001b[0;34m'display.max_columns'\u001b[0m\u001b[0;34m,\u001b[0m \u001b[0;36m10\u001b[0m\u001b[0;34m)\u001b[0m\u001b[0;34m:\u001b[0m\u001b[0;34m\u001b[0m\u001b[0;34m\u001b[0m\u001b[0m\n",
      "\u001b[0;31mTypeError\u001b[0m: phjViewLogOdds() got an unexpected keyword argument 'phjTempDF'"
     ]
    }
   ],
   "source": [
    "# Define example dataset\n",
    "phjTempDF = pd.DataFrame({'binDepVar':['yes']*50000 + ['no']*50000,\n",
    "                          'riskFactorCont':np.random.uniform(0,1,100000)})\n",
    "\n",
    "with pd.option_context('display.max_rows', 10, 'display.max_columns', 5):\n",
    "    print(phjTempDF)\n",
    "\n",
    "    \n",
    "# View log odds\n",
    "phjTempDF = epy.phjViewLogOdds(phjTempDF = phjTempDF,\n",
    "                               phjBinaryDepVarName = 'binDepVar',\n",
    "                               phjContIndepVarName = 'riskFactorCont',\n",
    "                               phjCaseValue = 'yes',\n",
    "                               phjMissingValue = 'missing',\n",
    "                               phjNumberOfCategoriesInt = 5,\n",
    "                               phjNewCategoryVarName = 'categoricalVar',\n",
    "                               phjCategorisationMethod = 'jenks',\n",
    "                               phjGroupNameVar = None,\n",
    "                               phjPrintResults = False)\n",
    "\n",
    "with pd.option_context('display.max_rows', 10, 'display.max_columns', 10):\n",
    "    print('Log odds for categorised variable')\n",
    "    print(phjTempDF)"
   ]
  },
  {
   "cell_type": "markdown",
   "metadata": {},
   "source": [
    "#### Categorise using quantile breaks and using 1 and 0 as binary outcome"
   ]
  },
  {
   "cell_type": "code",
   "execution_count": null,
   "metadata": {},
   "outputs": [],
   "source": [
    "# Define example dataset\n",
    "phjTempDF = pd.DataFrame({'binDepVar':[1]*50000 + [0]*50000,\n",
    "                          'riskFactorCont':np.random.uniform(0,1,100000)})\n",
    "\n",
    "with pd.option_context('display.max_rows', 10, 'display.max_columns', 5):\n",
    "    print(phjTempDF)\n",
    "\n",
    "    \n",
    "# View log odds\n",
    "phjTempDF = epy.phjViewLogOdds(phjTempDF = phjTempDF,\n",
    "                               phjBinaryDepVarName = 'binDepVar',\n",
    "                               phjContIndepVarName = 'riskFactorCont',\n",
    "                               phjCaseValue = 1,\n",
    "                               phjMissingValue = 'missing',\n",
    "                               phjNumberOfCategoriesInt = 8,\n",
    "                               phjNewCategoryVarName = 'categoricalVar',\n",
    "                               phjCategorisationMethod = 'quantile',\n",
    "                               phjGroupNameVar = None,\n",
    "                               phjPrintResults = False)\n",
    "\n",
    "with pd.option_context('display.max_rows', 10, 'display.max_columns', 10):\n",
    "    print('Log odds for categorised variable')\n",
    "    print(phjTempDF)"
   ]
  },
  {
   "cell_type": "markdown",
   "metadata": {},
   "source": [
    "### FUNCTION: phjCategoriseContinuousVariable()"
   ]
  },
  {
   "cell_type": "markdown",
   "metadata": {},
   "source": [
    "#### Return dataframe alone"
   ]
  },
  {
   "cell_type": "code",
   "execution_count": null,
   "metadata": {},
   "outputs": [],
   "source": [
    "# Define example dataset\n",
    "phjTempDF = pd.DataFrame({'binDepVar':['yes']*50000 + ['no']*50000,\n",
    "                          'riskFactorCont':np.random.uniform(0,1,100000)})\n",
    "\n",
    "with pd.option_context('display.max_rows', 10, 'display.max_columns', 5):\n",
    "    print(phjTempDF)\n",
    "\n",
    "    \n",
    "# Categorise a continuous variable\n",
    "phjTempDF = epy.phjCategoriseContinuousVariable(phjTempDF = phjTempDF,\n",
    "                                                phjContinuousVarName = 'riskFactorCont',\n",
    "                                                phjMissingValue = 'missing',\n",
    "                                                phjNumberOfCategoriesInt = 6,\n",
    "                                                phjNewCategoryVarName = 'catVar',\n",
    "                                                phjCategorisationMethod = 'jenks',\n",
    "                                                phjReturnBreaks = False,\n",
    "                                                phjPrintResults = False)\n",
    "\n",
    "with pd.option_context('display.max_rows', 10, 'display.max_columns', 5):\n",
    "    print('\\nLog odds for categorised variable')\n",
    "    print(phjTempDF)"
   ]
  },
  {
   "cell_type": "markdown",
   "metadata": {},
   "source": [
    "#### Return dataframe and list of breaks"
   ]
  },
  {
   "cell_type": "code",
   "execution_count": null,
   "metadata": {},
   "outputs": [],
   "source": [
    "# Define example dataset\n",
    "phjTempDF = pd.DataFrame({'binDepVar':['yes']*50000 + ['no']*50000,\n",
    "                          'riskFactorCont':np.random.uniform(0,1,100000)})\n",
    "\n",
    "with pd.option_context('display.max_rows', 10, 'display.max_columns', 5):\n",
    "    print(phjTempDF)\n",
    "\n",
    "    \n",
    "# Categorise a continuous variable\n",
    "phjTempDF, phjBreaksList = epy.phjCategoriseContinuousVariable(phjTempDF = phjTempDF,\n",
    "                                                               phjContinuousVarName = 'riskFactorCont',\n",
    "                                                               phjMissingValue = 'missing',\n",
    "                                                               phjNumberOfCategoriesInt = 6,\n",
    "                                                               phjNewCategoryVarName = 'catVar',\n",
    "                                                               phjCategorisationMethod = 'jenks',\n",
    "                                                               phjReturnBreaks = True,\n",
    "                                                               phjPrintResults = False)\n",
    "\n",
    "with pd.option_context('display.max_rows', 10, 'display.max_columns', 5):\n",
    "    print('\\nCategorised variable')\n",
    "    print(phjTempDF)\n",
    "    print('\\n')\n",
    "    print('Breaks')\n",
    "    print(phjBreaksList)"
   ]
  },
  {
   "cell_type": "markdown",
   "metadata": {},
   "source": [
    "---"
   ]
  },
  {
   "cell_type": "markdown",
   "metadata": {},
   "source": [
    "## FILE: phjRROR.py"
   ]
  },
  {
   "cell_type": "markdown",
   "metadata": {},
   "source": [
    "### FUNCTION: phjOddsRatio()"
   ]
  },
  {
   "cell_type": "code",
   "execution_count": null,
   "metadata": {},
   "outputs": [],
   "source": []
  },
  {
   "cell_type": "markdown",
   "metadata": {},
   "source": [
    "### FUNCTION: phjRelativeRisk()"
   ]
  },
  {
   "cell_type": "code",
   "execution_count": null,
   "metadata": {},
   "outputs": [],
   "source": []
  },
  {
   "cell_type": "markdown",
   "metadata": {},
   "source": [
    "---"
   ]
  }
 ],
 "metadata": {
  "kernelspec": {
   "display_name": "Python 3",
   "language": "python",
   "name": "python3"
  },
  "language_info": {
   "codemirror_mode": {
    "name": "ipython",
    "version": 3
   },
   "file_extension": ".py",
   "mimetype": "text/x-python",
   "name": "python",
   "nbconvert_exporter": "python",
   "pygments_lexer": "ipython3",
   "version": "3.7.6"
  }
 },
 "nbformat": 4,
 "nbformat_minor": 2
}
